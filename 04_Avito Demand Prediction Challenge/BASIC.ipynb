{
 "cells": [
  {
   "cell_type": "markdown",
   "metadata": {},
   "source": [
    "# Avito Demand Prediction Challenge\n",
    "\n",
    ": Predict demand for an online classified ad"
   ]
  },
  {
   "cell_type": "markdown",
   "metadata": {},
   "source": [
    "<img src='img/avito.png' width = 300>"
   ]
  },
  {
   "cell_type": "markdown",
   "metadata": {},
   "source": [
    "# 1. Overview"
   ]
  },
  {
   "cell_type": "markdown",
   "metadata": {},
   "source": [
    "### 1.1 Team : decaf\n",
    "\n",
    "- 이재웅 [팀장]\n",
    "- 김선웅 [팀원]\n",
    "- 지성인 [팀원]"
   ]
  },
  {
   "cell_type": "markdown",
   "metadata": {},
   "source": [
    "### 1.2 Project Period"
   ]
  },
  {
   "cell_type": "markdown",
   "metadata": {},
   "source": [
    "- 시작일 : 18/05/31\n",
    "- 종료일 : 18/06/28"
   ]
  },
  {
   "cell_type": "markdown",
   "metadata": {},
   "source": [
    "### 1.3 Description"
   ]
  },
  {
   "cell_type": "markdown",
   "metadata": {},
   "source": [
    "Avito is challenging you to predict demand for an online advertisement based on its full description (title, description, images, etc.), its context (geographically where it was posted, similar ads already posted) and historical demand for similar ads in similar contexts.\n",
    "\n",
    ": Avito는 전체적인 설명 (제목, 설명, 이미지 등), 컨텍스트 (게시 된 지리적 위치, 이미 게시 된 유사한 광고) 및 역사적인 요구 사항을 기반으로 `온라인 광고에 대한 수요를 예측`하도록 도전함"
   ]
  },
  {
   "cell_type": "markdown",
   "metadata": {},
   "source": [
    "### 1.4 Evaluation (Root Mean Squared Error, RSME)"
   ]
  },
  {
   "cell_type": "markdown",
   "metadata": {},
   "source": [
    "<img src='img/RSME.png' width = 300>"
   ]
  },
  {
   "cell_type": "markdown",
   "metadata": {},
   "source": [
    "### 1.5 Data"
   ]
  },
  {
   "cell_type": "markdown",
   "metadata": {},
   "source": [
    "#### 1.5.1 Data set"
   ]
  },
  {
   "cell_type": "markdown",
   "metadata": {},
   "source": [
    "- train.csv - Train data.\n",
    "- test.csv - Test data. Same schema as the train data, minus deal_probability.\n",
    "- train_active.csv - Supplemental data from ads that were displayed during the same period as train.csv. Same schema as the train data minus deal_probability, image, and image_top_1.\n",
    "- test_active.csv - Supplemental data from ads that were displayed during the same period as test.csv. Same schema as the train data minus deal_probability, image, and image_top_1.\n",
    "- periods_train.csv - Supplemental data showing the dates when the ads from train_active.csv were activated and when they where displayed.\n",
    "- periods_test.csv - Supplemental data showing the dates when the ads from test_active.csv were activated and when they where displayed. Same schema as periods_train.csv, except that the item ids map to an ad in test_active.csv.\n",
    "- train_jpg.zip - Images from the ads in train.csv.\n",
    "- test_jpg.zip - Images from the ads in test.csv.\n",
    "- sample_submission.csv - A sample submission in the correct format.\n",
    "- train_jpg_{0, 1, 2, 3, 4}.zip - These are the exact same images as you'll find in train_jpg.zip but split into smaller zip archives so the data are easier to download. If you already have train_jpg.zip you do NOT need to download these. We have not made these zips available in kernels as they would only increase the kernel creation time."
   ]
  },
  {
   "cell_type": "markdown",
   "metadata": {},
   "source": [
    "#### 1.5.2 Data fields"
   ]
  },
  {
   "cell_type": "markdown",
   "metadata": {},
   "source": [
    "- train.csv - Train data.\n",
    "\n",
    "    - item_id - Ad id.\n",
    "    - user_id - User id.\n",
    "    - region - Ad region.\n",
    "    - city - Ad city.\n",
    "    - parent_category_name - Top level ad category as classified by Avito's ad model.\n",
    "    - category_name - Fine grain ad category as classified by Avito's ad model.\n",
    "    - param_1 - Optional parameter from Avito's ad model.\n",
    "    - param_2 - Optional parameter from Avito's ad model.\n",
    "    - param_3 - Optional parameter from Avito's ad model.\n",
    "    - title - Ad title.\n",
    "    - description - Ad description.\n",
    "    - price - Ad price.\n",
    "    - item_seq_number - Ad sequential number for user.\n",
    "    - activation_date- Date ad was placed.\n",
    "    - user_type - User type.\n",
    "    - image - Id code of image. Ties to a jpg file in train_jpg. Not every ad has an image.\n",
    "    - image_top_1 - Avito's classification code for the image.\n",
    "    - deal_probability - The target variable. This is the likelihood that an ad actually sold something. It's not possible to verify every transaction with certainty, so this column's value can be any float from zero to one.\n",
    "    \n",
    "    \n",
    "- periods_train.csv - Supplemental data showing the dates when the ads from train_active.csv were activated and when they where displayed.\n",
    "\n",
    "    - item_id - Ad id. Maps to an id in train_active.csv. IDs may show up multiple times in this file if the ad was renewed.\n",
    "    - activation_date - Date the ad was placed.\n",
    "    - date_from - First day the ad was displayed.\n",
    "    - date_to - Last day the ad was displayed."
   ]
  },
  {
   "cell_type": "markdown",
   "metadata": {},
   "source": [
    "---"
   ]
  },
  {
   "cell_type": "markdown",
   "metadata": {},
   "source": [
    "# 기본 정보 파악하기"
   ]
  },
  {
   "cell_type": "markdown",
   "metadata": {},
   "source": [
    "- Avito는 러시아의 가장 큰 분류 광고 웹사이트\n",
    "- Avito의 문제는 수요 예측이 힘들어 물건에 따른 각각의 공급량을 적절히 설정하지 못하는 상황\n",
    "- Avito의 온라인 광고에 대한 수요를 예측하는 것이 이 캐글의 문제"
   ]
  }
 ],
 "metadata": {
  "kernelspec": {
   "display_name": "Python 3",
   "language": "python",
   "name": "python3"
  },
  "language_info": {
   "codemirror_mode": {
    "name": "ipython",
    "version": 3
   },
   "file_extension": ".py",
   "mimetype": "text/x-python",
   "name": "python",
   "nbconvert_exporter": "python",
   "pygments_lexer": "ipython3",
   "version": "3.6.4"
  }
 },
 "nbformat": 4,
 "nbformat_minor": 2
}
