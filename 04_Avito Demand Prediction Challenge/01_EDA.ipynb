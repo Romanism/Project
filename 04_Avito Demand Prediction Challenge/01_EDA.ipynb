{
 "cells": [
  {
   "cell_type": "markdown",
   "metadata": {},
   "source": [
    "# EDA"
   ]
  },
  {
   "cell_type": "code",
   "execution_count": 1,
   "metadata": {},
   "outputs": [],
   "source": [
    "# 0. basic\n",
    "import numpy as np\n",
    "import pandas as pd\n",
    "import warnings\n",
    "warnings.filterwarnings('ignore')\n",
    "\n",
    "# 1. EDA\n",
    "import seaborn as sns\n",
    "sns.set()\n",
    "sns.set_style(\"whitegrid\")\n",
    "sns.set_color_codes(palette=\"muted\")\n",
    "import matplotlib.pyplot as plt\n",
    "import matplotlib as mpl\n",
    "from matplotlib.pyplot import *"
   ]
  },
  {
   "cell_type": "code",
   "execution_count": 2,
   "metadata": {},
   "outputs": [],
   "source": [
    "from translate import *"
   ]
  },
  {
   "cell_type": "code",
   "execution_count": 3,
   "metadata": {},
   "outputs": [],
   "source": [
    "train = pd.read_csv('data/train.csv')\n",
    "test = pd.read_csv('data/test.csv')"
   ]
  },
  {
   "cell_type": "markdown",
   "metadata": {},
   "source": [
    "#### column 별 정보\n",
    "\n",
    "- item_id - 광고 ID\n",
    "- user_id - 사용자 ID \n",
    "- region - 광고 지역\n",
    "- city - 광고 도시\n",
    "- parent_category_name - 최상위 수준 광고 카테고리\n",
    "- category_name - 세부적인 광고 카테고리\n",
    "- param_1 - 광고모델의 매개변수\n",
    "- param_2 - 광고모델의 매개변수\n",
    "- param_3 - 광고모델의 매개변수\n",
    "- title - 광고 제목\n",
    "- description - 광고 설명\n",
    "- price - 광고 가격\n",
    "- item_seq_number - 사용자의 광고 순차 번호\n",
    "- activation_date- 게시된 날짜\n",
    "- user_type - 사용자 유형\n",
    "- image - 이미지 ID, train_jpg와 연관됨\n",
    "- image_top_1 - 이미지 분류 코드\n",
    "- deal_probability - 광고라 실제 제품을 팔 가능성 (y값)"
   ]
  },
  {
   "cell_type": "code",
   "execution_count": 4,
   "metadata": {},
   "outputs": [
    {
     "name": "stdout",
     "output_type": "stream",
     "text": [
      "train shape : (1503424, 18)\n",
      "test shape : (508438, 17)\n"
     ]
    }
   ],
   "source": [
    "# check shape\n",
    "print('train shape :', train.shape) \n",
    "print('test shape :', test.shape) "
   ]
  },
  {
   "cell_type": "code",
   "execution_count": 5,
   "metadata": {
    "scrolled": false
   },
   "outputs": [
    {
     "name": "stdout",
     "output_type": "stream",
     "text": [
      "<class 'pandas.core.frame.DataFrame'>\n",
      "RangeIndex: 1503424 entries, 0 to 1503423\n",
      "Data columns (total 18 columns):\n",
      "item_id                 1503424 non-null object\n",
      "user_id                 1503424 non-null object\n",
      "region                  1503424 non-null object\n",
      "city                    1503424 non-null object\n",
      "parent_category_name    1503424 non-null object\n",
      "category_name           1503424 non-null object\n",
      "param_1                 1441848 non-null object\n",
      "param_2                 848882 non-null object\n",
      "param_3                 640859 non-null object\n",
      "title                   1503424 non-null object\n",
      "description             1387148 non-null object\n",
      "price                   1418062 non-null float64\n",
      "item_seq_number         1503424 non-null int64\n",
      "activation_date         1503424 non-null object\n",
      "user_type               1503424 non-null object\n",
      "image                   1390836 non-null object\n",
      "image_top_1             1390836 non-null float64\n",
      "deal_probability        1503424 non-null float64\n",
      "dtypes: float64(3), int64(1), object(14)\n",
      "memory usage: 206.5+ MB\n"
     ]
    }
   ],
   "source": [
    "# check information\n",
    "train.info()"
   ]
  },
  {
   "cell_type": "code",
   "execution_count": 6,
   "metadata": {},
   "outputs": [
    {
     "data": {
      "text/plain": [
       "item_id                 False\n",
       "user_id                 False\n",
       "region                  False\n",
       "city                    False\n",
       "parent_category_name    False\n",
       "category_name           False\n",
       "param_1                  True\n",
       "param_2                  True\n",
       "param_3                  True\n",
       "title                   False\n",
       "description              True\n",
       "price                    True\n",
       "item_seq_number         False\n",
       "activation_date         False\n",
       "user_type               False\n",
       "image                    True\n",
       "image_top_1              True\n",
       "deal_probability        False\n",
       "dtype: bool"
      ]
     },
     "execution_count": 6,
     "metadata": {},
     "output_type": "execute_result"
    }
   ],
   "source": [
    "# check null\n",
    "train.isnull().any()"
   ]
  },
  {
   "cell_type": "code",
   "execution_count": 27,
   "metadata": {
    "scrolled": true
   },
   "outputs": [
    {
     "name": "stdout",
     "output_type": "stream",
     "text": [
      "train unique 갯수\n",
      "item_id : 1503424개\n",
      "user_id : 771769개\n",
      "region : 28개\n",
      "city : 1733개\n",
      "parent_category_name : 9개\n",
      "category_name : 47개\n",
      "param_1 : 372개\n",
      "param_2 : 272개\n",
      "param_3 : 1220개\n",
      "title : 788377개\n",
      "description : 1317103개\n",
      "price : 102368개\n",
      "item_seq_number : 28232개\n",
      "activation_date : 21개\n",
      "user_type : 3개\n",
      "image : 1390837개\n",
      "image_top_1 : 115650개\n",
      "deal_probability : 18407개\n"
     ]
    }
   ],
   "source": [
    "# Unique\n",
    "print('train unique 갯수')\n",
    "for i in range(18):\n",
    "    print('{} : {}개'.format(train.columns[i], len(set(train[train.columns[i]]))))"
   ]
  },
  {
   "cell_type": "code",
   "execution_count": 30,
   "metadata": {},
   "outputs": [
    {
     "data": {
      "text/plain": [
       "Краснодарский край         141416\n",
       "Свердловская область        94475\n",
       "Ростовская область          89995\n",
       "Татарстан                   81284\n",
       "Челябинская область         78339\n",
       "Нижегородская область       73643\n",
       "Самарская область           73407\n",
       "Башкортостан                68291\n",
       "Пермский край               62704\n",
       "Новосибирская область       62486\n",
       "Красноярский край           53442\n",
       "Саратовская область         49645\n",
       "Волгоградская область       48998\n",
       "Кемеровская область         44635\n",
       "Воронежская область         44116\n",
       "Иркутская область           44030\n",
       "Омская область              42939\n",
       "Алтайский край              41520\n",
       "Ставропольский край         39187\n",
       "Тюменская область           35411\n",
       "Ярославская область         32814\n",
       "Калининградская область     32756\n",
       "Оренбургская область        29303\n",
       "Белгородская область        28868\n",
       "Ханты-Мансийский АО         28709\n",
       "Удмуртия                    28537\n",
       "Владимирская область        26741\n",
       "Тульская область            25733\n",
       "Name: region, dtype: int64"
      ]
     },
     "execution_count": 30,
     "metadata": {},
     "output_type": "execute_result"
    }
   ],
   "source": [
    "# region category 갯수 파악\n",
    "train['region'].value_counts()"
   ]
  },
  {
   "cell_type": "code",
   "execution_count": 31,
   "metadata": {
    "scrolled": false
   },
   "outputs": [
    {
     "data": {
      "text/plain": [
       "Одежда, обувь, аксессуары       282753\n",
       "Детская одежда и обувь          270359\n",
       "Товары для детей и игрушки       99747\n",
       "Квартиры                         83670\n",
       "Телефоны                         65944\n",
       "Мебель и интерьер                65035\n",
       "Предложение услуг                64385\n",
       "Автомобили                       62494\n",
       "Ремонт и строительство           56201\n",
       "Бытовая техника                  33705\n",
       "Товары для компьютера            29565\n",
       "Дома, дачи, коттеджи             29244\n",
       "Красота и здоровье               29198\n",
       "Аудио и видео                    27036\n",
       "Спорт и отдых                    24881\n",
       "Коллекционирование               24346\n",
       "Оборудование для бизнеса         16047\n",
       "Земельные участки                16038\n",
       "Часы и украшения                 15566\n",
       "Книги и журналы                  11819\n",
       "Собаки                           11612\n",
       "Игры, приставки и программы      11167\n",
       "Другие животные                  11040\n",
       "Велосипеды                       10638\n",
       "Ноутбуки                         10297\n",
       "Кошки                             9951\n",
       "Грузовики и спецтехника           9394\n",
       "Посуда и товары для кухни         9076\n",
       "Растения                          9025\n",
       "Планшеты и электронные книги      8624\n",
       "Товары для животных               8580\n",
       "Комнаты                           8512\n",
       "Фототехника                       8345\n",
       "Коммерческая недвижимость         8305\n",
       "Гаражи и машиноместа              7304\n",
       "Музыкальные инструменты           6695\n",
       "Оргтехника и расходники           6580\n",
       "Птицы                             6447\n",
       "Продукты питания                  5781\n",
       "Мотоциклы и мототехника           5771\n",
       "Настольные компьютеры             5450\n",
       "Аквариум                          4840\n",
       "Охота и рыбалка                   4524\n",
       "Билеты и путешествия              3108\n",
       "Водный транспорт                  2180\n",
       "Готовый бизнес                    2028\n",
       "Недвижимость за рубежом            117\n",
       "Name: category_name, dtype: int64"
      ]
     },
     "execution_count": 31,
     "metadata": {},
     "output_type": "execute_result"
    }
   ],
   "source": [
    "# category_name 갯수 파악\n",
    "train['category_name'].value_counts()"
   ]
  },
  {
   "cell_type": "code",
   "execution_count": 35,
   "metadata": {
    "scrolled": false
   },
   "outputs": [
    {
     "data": {
      "text/plain": [
       "Личные вещи            697623\n",
       "Для дома и дачи        178823\n",
       "Бытовая электроника    173008\n",
       "Недвижимость           153190\n",
       "Хобби и отдых           86011\n",
       "Транспорт               79839\n",
       "Услуги                  64385\n",
       "Животные                52470\n",
       "Для бизнеса             18075\n",
       "Name: parent_category_name, dtype: int64"
      ]
     },
     "execution_count": 35,
     "metadata": {},
     "output_type": "execute_result"
    }
   ],
   "source": [
    "# category_name 갯수 파악\n",
    "train['parent_category_name'].value_counts()"
   ]
  },
  {
   "cell_type": "code",
   "execution_count": 32,
   "metadata": {
    "scrolled": false
   },
   "outputs": [
    {
     "data": {
      "text/plain": [
       "2017-03-20    115190\n",
       "2017-03-27    114863\n",
       "2017-03-19    114416\n",
       "2017-03-26    113513\n",
       "2017-03-28    112885\n",
       "2017-03-21    110535\n",
       "2017-03-22    109813\n",
       "2017-03-15    108615\n",
       "2017-03-23    106544\n",
       "2017-03-16    106168\n",
       "2017-03-17     98773\n",
       "2017-03-18     97554\n",
       "2017-03-24     97351\n",
       "2017-03-25     97104\n",
       "2017-03-29        87\n",
       "2017-04-01         3\n",
       "2017-04-02         3\n",
       "2017-03-30         3\n",
       "2017-04-03         2\n",
       "2017-03-31         1\n",
       "2017-04-07         1\n",
       "Name: activation_date, dtype: int64"
      ]
     },
     "execution_count": 32,
     "metadata": {},
     "output_type": "execute_result"
    }
   ],
   "source": [
    "# activation_date 갯수 파악\n",
    "train['activation_date'].value_counts()"
   ]
  },
  {
   "cell_type": "code",
   "execution_count": 33,
   "metadata": {
    "scrolled": false
   },
   "outputs": [
    {
     "data": {
      "text/plain": [
       "Private    1075706\n",
       "Company     347249\n",
       "Shop         80469\n",
       "Name: user_type, dtype: int64"
      ]
     },
     "execution_count": 33,
     "metadata": {},
     "output_type": "execute_result"
    }
   ],
   "source": [
    "# user_type 갯수 파악\n",
    "train['user_type'].value_counts()"
   ]
  },
  {
   "cell_type": "markdown",
   "metadata": {},
   "source": [
    "---"
   ]
  },
  {
   "cell_type": "markdown",
   "metadata": {},
   "source": [
    "### 2. Y data"
   ]
  },
  {
   "cell_type": "code",
   "execution_count": 24,
   "metadata": {},
   "outputs": [
    {
     "data": {
      "image/png": "[encoded data removed]",
      "text/plain": [
       "<matplotlib.figure.Figure at 0x110abcda0>"
      ]
     },
     "metadata": {
      "image/png": {
       "height": 331,
       "width": 1130
      }
     },
     "output_type": "display_data"
    }
   ],
   "source": [
    "# deal_probability\n",
    "plt.figure(figsize=(20, 5))\n",
    "plt.subplots_adjust(wspace = 0.3)\n",
    "\n",
    "# boxplot\n",
    "plt.subplot(121)\n",
    "sns.boxplot(x = 'deal_probability', data = train)\n",
    "plt.title('deal_probability boxplot')\n",
    "\n",
    "# distplot\n",
    "plt.subplot(122)\n",
    "sns.distplot(train['deal_probability'].values, axlabel = 'deal_probability')\n",
    "plt.title('deal_probability distplot')\n",
    "\n",
    "plt.show()"
   ]
  },
  {
   "cell_type": "markdown",
   "metadata": {},
   "source": [
    "---"
   ]
  },
  {
   "cell_type": "markdown",
   "metadata": {},
   "source": [
    "### 3. Y data & X data"
   ]
  }
 ],
 "metadata": {
  "kernelspec": {
   "display_name": "Python 3",
   "language": "python",
   "name": "python3"
  },
  "language_info": {
   "codemirror_mode": {
    "name": "ipython",
    "version": 3
   },
   "file_extension": ".py",
   "mimetype": "text/x-python",
   "name": "python",
   "nbconvert_exporter": "python",
   "pygments_lexer": "ipython3",
   "version": "3.6.4"
  }
 },
 "nbformat": 4,
 "nbformat_minor": 2
}
