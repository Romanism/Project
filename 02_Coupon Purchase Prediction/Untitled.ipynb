{
 "cells": [
  {
   "cell_type": "code",
   "execution_count": null,
   "metadata": {},
   "outputs": [],
   "source": [
    "\n",
    "# dictionary of files populated by the name of the files as the keys and columns to be translated as the values in a list\n",
    "files = {\n",
    "     'coupon_area_train.csv'        :['SMALL_AREA_NAME','PREF_NAME'],\n",
    "     'coupon_list_test.csv'         :['CAPSULE_TEXT','GENRE_NAME','ken_name','large_area_name','small_area_name'],\n",
    "     'coupon_area_test.csv'         :['SMALL_AREA_NAME','PREF_NAME'],\n",
    "     'coupon_detail_train.csv'      :['SMALL_AREA_NAME']\n",
    "     'coupon_list_train.csv'        :['CAPSULE_TEXT','GENRE_NAME','ken_name','large_area_name','small_area_name'],\n",
    "     'user_list.csv'\t\t\t\t:['PREF_NAME']\n",
    "}\n",
    "\n",
    "\n",
    "for file in files: # itirating through every file which needs transformation\n",
    "\n",
    "\tdf = pd.read_csv(file)  # reads the content of the .csv file\n",
    "\tfor entry in range(0,len(df)):  # itiration through all the rows of the current file\n",
    "\n",
    "\t\tfor columns in files[file]:  # itiration through all the columns that needs to be translated\n",
    "\t\t\tcol_value = df[columns][entry].encode('utf-8') # encodes the japanese text to UTF-8 format\n",
    "\t\t\tdf[columns][entry] = conversion_table[col_value] # replaces the japanese text to its corresponding english interpretation\n",
    "\n",
    "\n",
    "\tdf.to_csv(file+'_translated_en.csv') # writes the modified dataframe as a new .csv file with 'translated_en' added to the original name\n"
   ]
  }
 ],
 "metadata": {
  "kernelspec": {
   "display_name": "Python 3",
   "language": "python",
   "name": "python3"
  },
  "language_info": {
   "codemirror_mode": {
    "name": "ipython",
    "version": 3
   },
   "file_extension": ".py",
   "mimetype": "text/x-python",
   "name": "python",
   "nbconvert_exporter": "python",
   "pygments_lexer": "ipython3",
   "version": "3.6.4"
  }
 },
 "nbformat": 4,
 "nbformat_minor": 2
}
