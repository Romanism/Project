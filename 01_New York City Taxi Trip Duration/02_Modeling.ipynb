{
 "cells": [
  {
   "cell_type": "markdown",
   "metadata": {},
   "source": [
    "# EDA"
   ]
  },
  {
   "cell_type": "code",
   "execution_count": 1,
   "metadata": {
    "scrolled": true
   },
   "outputs": [
    {
     "name": "stderr",
     "output_type": "stream",
     "text": [
      "/usr/local/lib/python3.6/site-packages/statsmodels/compat/pandas.py:56: FutureWarning: The pandas.core.datetools module is deprecated and will be removed in a future version. Please use the pandas.tseries module instead.\n",
      "  from pandas.core import datetools\n"
     ]
    }
   ],
   "source": [
    "from function import *"
   ]
  },
  {
   "cell_type": "code",
   "execution_count": 22,
   "metadata": {},
   "outputs": [],
   "source": [
    "# load data\n",
    "train = pd.read_csv('data/train.csv')\n",
    "test = pd.read_csv('data/test.csv')\n",
    "submission = pd.read_csv('data/sample_submission.csv')"
   ]
  },
  {
   "cell_type": "markdown",
   "metadata": {},
   "source": [
    "---"
   ]
  },
  {
   "cell_type": "markdown",
   "metadata": {},
   "source": [
    "### 1. Rough Modeling"
   ]
  },
  {
   "cell_type": "code",
   "execution_count": 3,
   "metadata": {},
   "outputs": [],
   "source": [
    "# bias ogmantation\n",
    "train = sm.add_constant(train)\n",
    "test = sm.add_constant(test)"
   ]
  },
  {
   "cell_type": "code",
   "execution_count": 4,
   "metadata": {},
   "outputs": [],
   "source": [
    "def make_features(category, continuous):\n",
    "    \n",
    "    '''\n",
    "    카테고리 데이터를 표시하는 C()형태를 집어넣어주는 함수입니다.\n",
    "    카티고리 데이터, 연속형 데이터를 + 표시로 묶었습니다.\n",
    "    '''\n",
    "    \n",
    "    # make category feature\n",
    "    category = list(map(lambda x: \"C({})\".format(x), category))\n",
    "    category = \" + \".join(category)\n",
    "    \n",
    "    # make continuous feature\n",
    "    continuous = ' + '.join(continuous)\n",
    "    \n",
    "    # make final features\n",
    "    features = continuous + ' + ' + category\n",
    "    \n",
    "    return features"
   ]
  },
  {
   "cell_type": "code",
   "execution_count": 5,
   "metadata": {},
   "outputs": [],
   "source": [
    "category = ['vendor_id', 'store_and_fwd_flag', \n",
    "            'month', 'weekday', 'hour', 'holiday']\n",
    "continuous = ['passenger_count', 'pickup_longitude', 'pickup_latitude', 'dropoff_longitude', 'dropoff_latitude', 'dist']"
   ]
  },
  {
   "cell_type": "code",
   "execution_count": 6,
   "metadata": {},
   "outputs": [],
   "source": [
    "features = make_features(category, continuous)"
   ]
  },
  {
   "cell_type": "code",
   "execution_count": 7,
   "metadata": {},
   "outputs": [],
   "source": [
    "def report(model) :\n",
    "    \"\"\"\n",
    "    test storage\n",
    "    \"\"\"\n",
    "    result = model.fit()\n",
    "    result.summary()\n",
    "    from statsmodels.stats.stattools import durbin_watson\n",
    "    result_sets = pd.DataFrame(columns = ['R-square', 'Pb(Fstatics)', 'Pb(omnibus)', 'Pb(jb)', 'Dub-Wat', 'Cond.No.'])\n",
    "    put = {\n",
    "        'R-square' :round(result.rsquared, 3),\n",
    "        'Pb(Fstatics)' : round(result.f_pvalue, 3),\n",
    "        'Pb(omnibus)' : round(result.diagn['omnipv'], 3),\n",
    "        'Pb(jb)' : round(result.diagn['jbpv'], 3), \n",
    "        'Dub-Wat': round(durbin_watson(result.wresid), 3),\n",
    "        'Cond.No.' : round(result.diagn['condno'], 3),\n",
    "    }\n",
    "    \n",
    "    \n",
    "    result_sets.loc[len(result_sets)] = put\n",
    "\n",
    "    return result_sets\n"
   ]
  },
  {
   "cell_type": "code",
   "execution_count": 8,
   "metadata": {
    "scrolled": false
   },
   "outputs": [
    {
     "data": {
      "text/html": [
       "<table class=\"simpletable\">\n",
       "<caption>OLS Regression Results</caption>\n",
       "<tr>\n",
       "  <th>Dep. Variable:</th>      <td>trip_duration</td>  <th>  R-squared:         </th>  <td>   0.609</td>  \n",
       "</tr>\n",
       "<tr>\n",
       "  <th>Model:</th>                   <td>OLS</td>       <th>  Adj. R-squared:    </th>  <td>   0.609</td>  \n",
       "</tr>\n",
       "<tr>\n",
       "  <th>Method:</th>             <td>Least Squares</td>  <th>  F-statistic:       </th>  <td>5.273e+04</td> \n",
       "</tr>\n",
       "<tr>\n",
       "  <th>Date:</th>             <td>Sun, 20 May 2018</td> <th>  Prob (F-statistic):</th>   <td>  0.00</td>   \n",
       "</tr>\n",
       "<tr>\n",
       "  <th>Time:</th>                 <td>18:26:23</td>     <th>  Log-Likelihood:    </th> <td>-1.0523e+06</td>\n",
       "</tr>\n",
       "<tr>\n",
       "  <th>No. Observations:</th>      <td>1458638</td>     <th>  AIC:               </th>  <td>2.105e+06</td> \n",
       "</tr>\n",
       "<tr>\n",
       "  <th>Df Residuals:</th>          <td>1458594</td>     <th>  BIC:               </th>  <td>2.105e+06</td> \n",
       "</tr>\n",
       "<tr>\n",
       "  <th>Df Model:</th>              <td>    43</td>      <th>                     </th>      <td> </td>     \n",
       "</tr>\n",
       "<tr>\n",
       "  <th>Covariance Type:</th>      <td>nonrobust</td>    <th>                     </th>      <td> </td>     \n",
       "</tr>\n",
       "</table>\n",
       "<table class=\"simpletable\">\n",
       "<tr>\n",
       "               <td></td>                 <th>coef</th>     <th>std err</th>      <th>t</th>      <th>P>|t|</th>  <th>[0.025</th>    <th>0.975]</th>  \n",
       "</tr>\n",
       "<tr>\n",
       "  <th>Intercept</th>                  <td>  -13.3644</td> <td>    0.819</td> <td>  -16.309</td> <td> 0.000</td> <td>  -14.970</td> <td>  -11.758</td>\n",
       "</tr>\n",
       "<tr>\n",
       "  <th>C(vendor_id)[T.2]</th>          <td>    0.0154</td> <td>    0.001</td> <td>   17.836</td> <td> 0.000</td> <td>    0.014</td> <td>    0.017</td>\n",
       "</tr>\n",
       "<tr>\n",
       "  <th>C(store_and_fwd_flag)[T.1]</th> <td>   -0.0355</td> <td>    0.006</td> <td>   -6.360</td> <td> 0.000</td> <td>   -0.046</td> <td>   -0.025</td>\n",
       "</tr>\n",
       "<tr>\n",
       "  <th>C(month)[T.2]</th>              <td>    0.0091</td> <td>    0.001</td> <td>    6.271</td> <td> 0.000</td> <td>    0.006</td> <td>    0.012</td>\n",
       "</tr>\n",
       "<tr>\n",
       "  <th>C(month)[T.3]</th>              <td>    0.0045</td> <td>    0.001</td> <td>    3.111</td> <td> 0.002</td> <td>    0.002</td> <td>    0.007</td>\n",
       "</tr>\n",
       "<tr>\n",
       "  <th>C(month)[T.4]</th>              <td>    0.0407</td> <td>    0.001</td> <td>   28.111</td> <td> 0.000</td> <td>    0.038</td> <td>    0.044</td>\n",
       "</tr>\n",
       "<tr>\n",
       "  <th>C(month)[T.5]</th>              <td>    0.0577</td> <td>    0.001</td> <td>   39.864</td> <td> 0.000</td> <td>    0.055</td> <td>    0.061</td>\n",
       "</tr>\n",
       "<tr>\n",
       "  <th>C(month)[T.6]</th>              <td>    0.0609</td> <td>    0.001</td> <td>   41.356</td> <td> 0.000</td> <td>    0.058</td> <td>    0.064</td>\n",
       "</tr>\n",
       "<tr>\n",
       "  <th>C(weekday)[T.1]</th>            <td>    0.0818</td> <td>    0.002</td> <td>   50.392</td> <td> 0.000</td> <td>    0.079</td> <td>    0.085</td>\n",
       "</tr>\n",
       "<tr>\n",
       "  <th>C(weekday)[T.2]</th>            <td>    0.1057</td> <td>    0.002</td> <td>   65.666</td> <td> 0.000</td> <td>    0.103</td> <td>    0.109</td>\n",
       "</tr>\n",
       "<tr>\n",
       "  <th>C(weekday)[T.3]</th>            <td>    0.1125</td> <td>    0.002</td> <td>   70.443</td> <td> 0.000</td> <td>    0.109</td> <td>    0.116</td>\n",
       "</tr>\n",
       "<tr>\n",
       "  <th>C(weekday)[T.4]</th>            <td>    0.1044</td> <td>    0.002</td> <td>   66.650</td> <td> 0.000</td> <td>    0.101</td> <td>    0.107</td>\n",
       "</tr>\n",
       "<tr>\n",
       "  <th>C(weekday)[T.5]</th>            <td>    0.0127</td> <td>    0.002</td> <td>    7.906</td> <td> 0.000</td> <td>    0.010</td> <td>    0.016</td>\n",
       "</tr>\n",
       "<tr>\n",
       "  <th>C(weekday)[T.6]</th>            <td>   -0.0845</td> <td>    0.002</td> <td>  -50.962</td> <td> 0.000</td> <td>   -0.088</td> <td>   -0.081</td>\n",
       "</tr>\n",
       "<tr>\n",
       "  <th>C(hour)[T.1]</th>               <td>   -0.0333</td> <td>    0.003</td> <td>   -9.998</td> <td> 0.000</td> <td>   -0.040</td> <td>   -0.027</td>\n",
       "</tr>\n",
       "<tr>\n",
       "  <th>C(hour)[T.2]</th>               <td>   -0.0655</td> <td>    0.004</td> <td>  -17.796</td> <td> 0.000</td> <td>   -0.073</td> <td>   -0.058</td>\n",
       "</tr>\n",
       "<tr>\n",
       "  <th>C(hour)[T.3]</th>               <td>   -0.1064</td> <td>    0.004</td> <td>  -26.148</td> <td> 0.000</td> <td>   -0.114</td> <td>   -0.098</td>\n",
       "</tr>\n",
       "<tr>\n",
       "  <th>C(hour)[T.4]</th>               <td>   -0.1967</td> <td>    0.005</td> <td>  -43.563</td> <td> 0.000</td> <td>   -0.206</td> <td>   -0.188</td>\n",
       "</tr>\n",
       "<tr>\n",
       "  <th>C(hour)[T.5]</th>               <td>   -0.3409</td> <td>    0.005</td> <td>  -73.979</td> <td> 0.000</td> <td>   -0.350</td> <td>   -0.332</td>\n",
       "</tr>\n",
       "<tr>\n",
       "  <th>C(hour)[T.6]</th>               <td>   -0.2300</td> <td>    0.003</td> <td>  -65.806</td> <td> 0.000</td> <td>   -0.237</td> <td>   -0.223</td>\n",
       "</tr>\n",
       "<tr>\n",
       "  <th>C(hour)[T.7]</th>               <td>    0.0267</td> <td>    0.003</td> <td>    8.790</td> <td> 0.000</td> <td>    0.021</td> <td>    0.033</td>\n",
       "</tr>\n",
       "<tr>\n",
       "  <th>C(hour)[T.8]</th>               <td>    0.2104</td> <td>    0.003</td> <td>   72.245</td> <td> 0.000</td> <td>    0.205</td> <td>    0.216</td>\n",
       "</tr>\n",
       "<tr>\n",
       "  <th>C(hour)[T.9]</th>               <td>    0.2504</td> <td>    0.003</td> <td>   86.283</td> <td> 0.000</td> <td>    0.245</td> <td>    0.256</td>\n",
       "</tr>\n",
       "<tr>\n",
       "  <th>C(hour)[T.10]</th>              <td>    0.2517</td> <td>    0.003</td> <td>   86.240</td> <td> 0.000</td> <td>    0.246</td> <td>    0.257</td>\n",
       "</tr>\n",
       "<tr>\n",
       "  <th>C(hour)[T.11]</th>              <td>    0.2821</td> <td>    0.003</td> <td>   97.660</td> <td> 0.000</td> <td>    0.276</td> <td>    0.288</td>\n",
       "</tr>\n",
       "<tr>\n",
       "  <th>C(hour)[T.12]</th>              <td>    0.2944</td> <td>    0.003</td> <td>  103.003</td> <td> 0.000</td> <td>    0.289</td> <td>    0.300</td>\n",
       "</tr>\n",
       "<tr>\n",
       "  <th>C(hour)[T.13]</th>              <td>    0.2850</td> <td>    0.003</td> <td>   99.651</td> <td> 0.000</td> <td>    0.279</td> <td>    0.291</td>\n",
       "</tr>\n",
       "<tr>\n",
       "  <th>C(hour)[T.14]</th>              <td>    0.2958</td> <td>    0.003</td> <td>  104.268</td> <td> 0.000</td> <td>    0.290</td> <td>    0.301</td>\n",
       "</tr>\n",
       "<tr>\n",
       "  <th>C(hour)[T.15]</th>              <td>    0.3004</td> <td>    0.003</td> <td>  105.132</td> <td> 0.000</td> <td>    0.295</td> <td>    0.306</td>\n",
       "</tr>\n",
       "<tr>\n",
       "  <th>C(hour)[T.16]</th>              <td>    0.2641</td> <td>    0.003</td> <td>   90.239</td> <td> 0.000</td> <td>    0.258</td> <td>    0.270</td>\n",
       "</tr>\n",
       "<tr>\n",
       "  <th>C(hour)[T.17]</th>              <td>    0.2668</td> <td>    0.003</td> <td>   94.575</td> <td> 0.000</td> <td>    0.261</td> <td>    0.272</td>\n",
       "</tr>\n",
       "<tr>\n",
       "  <th>C(hour)[T.18]</th>              <td>    0.2516</td> <td>    0.003</td> <td>   92.104</td> <td> 0.000</td> <td>    0.246</td> <td>    0.257</td>\n",
       "</tr>\n",
       "<tr>\n",
       "  <th>C(hour)[T.19]</th>              <td>    0.1746</td> <td>    0.003</td> <td>   63.889</td> <td> 0.000</td> <td>    0.169</td> <td>    0.180</td>\n",
       "</tr>\n",
       "<tr>\n",
       "  <th>C(hour)[T.20]</th>              <td>    0.0881</td> <td>    0.003</td> <td>   31.820</td> <td> 0.000</td> <td>    0.083</td> <td>    0.094</td>\n",
       "</tr>\n",
       "<tr>\n",
       "  <th>C(hour)[T.21]</th>              <td>    0.0606</td> <td>    0.003</td> <td>   21.889</td> <td> 0.000</td> <td>    0.055</td> <td>    0.066</td>\n",
       "</tr>\n",
       "<tr>\n",
       "  <th>C(hour)[T.22]</th>              <td>    0.0623</td> <td>    0.003</td> <td>   22.317</td> <td> 0.000</td> <td>    0.057</td> <td>    0.068</td>\n",
       "</tr>\n",
       "<tr>\n",
       "  <th>C(hour)[T.23]</th>              <td>    0.0209</td> <td>    0.003</td> <td>    7.273</td> <td> 0.000</td> <td>    0.015</td> <td>    0.027</td>\n",
       "</tr>\n",
       "<tr>\n",
       "  <th>C(holiday)[T.1]</th>            <td>   -0.1148</td> <td>    0.003</td> <td>  -41.129</td> <td> 0.000</td> <td>   -0.120</td> <td>   -0.109</td>\n",
       "</tr>\n",
       "<tr>\n",
       "  <th>passenger_count</th>            <td>    0.0066</td> <td>    0.000</td> <td>   20.003</td> <td> 0.000</td> <td>    0.006</td> <td>    0.007</td>\n",
       "</tr>\n",
       "<tr>\n",
       "  <th>pickup_longitude</th>           <td>   -0.5403</td> <td>    0.010</td> <td>  -56.036</td> <td> 0.000</td> <td>   -0.559</td> <td>   -0.521</td>\n",
       "</tr>\n",
       "<tr>\n",
       "  <th>pickup_latitude</th>            <td>    0.4580</td> <td>    0.016</td> <td>   28.768</td> <td> 0.000</td> <td>    0.427</td> <td>    0.489</td>\n",
       "</tr>\n",
       "<tr>\n",
       "  <th>dropoff_longitude</th>          <td>   -0.0212</td> <td>    0.010</td> <td>   -2.192</td> <td> 0.028</td> <td>   -0.040</td> <td>   -0.002</td>\n",
       "</tr>\n",
       "<tr>\n",
       "  <th>dropoff_latitude</th>           <td>   -1.0272</td> <td>    0.014</td> <td>  -75.944</td> <td> 0.000</td> <td>   -1.054</td> <td>   -1.001</td>\n",
       "</tr>\n",
       "<tr>\n",
       "  <th>dist</th>                       <td>    0.9919</td> <td>    0.001</td> <td> 1427.911</td> <td> 0.000</td> <td>    0.991</td> <td>    0.993</td>\n",
       "</tr>\n",
       "</table>\n",
       "<table class=\"simpletable\">\n",
       "<tr>\n",
       "  <th>Omnibus:</th>       <td>458368.197</td> <th>  Durbin-Watson:     </th>   <td>   1.999</td>  \n",
       "</tr>\n",
       "<tr>\n",
       "  <th>Prob(Omnibus):</th>   <td> 0.000</td>   <th>  Jarque-Bera (JB):  </th> <td>57976939.877</td>\n",
       "</tr>\n",
       "<tr>\n",
       "  <th>Skew:</th>            <td> 0.436</td>   <th>  Prob(JB):          </th>   <td>    0.00</td>  \n",
       "</tr>\n",
       "<tr>\n",
       "  <th>Kurtosis:</th>        <td>33.874</td>   <th>  Cond. No.          </th>   <td>2.38e+05</td>  \n",
       "</tr>\n",
       "</table>"
      ],
      "text/plain": [
       "<class 'statsmodels.iolib.summary.Summary'>\n",
       "\"\"\"\n",
       "                            OLS Regression Results                            \n",
       "==============================================================================\n",
       "Dep. Variable:          trip_duration   R-squared:                       0.609\n",
       "Model:                            OLS   Adj. R-squared:                  0.609\n",
       "Method:                 Least Squares   F-statistic:                 5.273e+04\n",
       "Date:                Sun, 20 May 2018   Prob (F-statistic):               0.00\n",
       "Time:                        18:26:23   Log-Likelihood:            -1.0523e+06\n",
       "No. Observations:             1458638   AIC:                         2.105e+06\n",
       "Df Residuals:                 1458594   BIC:                         2.105e+06\n",
       "Df Model:                          43                                         \n",
       "Covariance Type:            nonrobust                                         \n",
       "==============================================================================================\n",
       "                                 coef    std err          t      P>|t|      [0.025      0.975]\n",
       "----------------------------------------------------------------------------------------------\n",
       "Intercept                    -13.3644      0.819    -16.309      0.000     -14.970     -11.758\n",
       "C(vendor_id)[T.2]              0.0154      0.001     17.836      0.000       0.014       0.017\n",
       "C(store_and_fwd_flag)[T.1]    -0.0355      0.006     -6.360      0.000      -0.046      -0.025\n",
       "C(month)[T.2]                  0.0091      0.001      6.271      0.000       0.006       0.012\n",
       "C(month)[T.3]                  0.0045      0.001      3.111      0.002       0.002       0.007\n",
       "C(month)[T.4]                  0.0407      0.001     28.111      0.000       0.038       0.044\n",
       "C(month)[T.5]                  0.0577      0.001     39.864      0.000       0.055       0.061\n",
       "C(month)[T.6]                  0.0609      0.001     41.356      0.000       0.058       0.064\n",
       "C(weekday)[T.1]                0.0818      0.002     50.392      0.000       0.079       0.085\n",
       "C(weekday)[T.2]                0.1057      0.002     65.666      0.000       0.103       0.109\n",
       "C(weekday)[T.3]                0.1125      0.002     70.443      0.000       0.109       0.116\n",
       "C(weekday)[T.4]                0.1044      0.002     66.650      0.000       0.101       0.107\n",
       "C(weekday)[T.5]                0.0127      0.002      7.906      0.000       0.010       0.016\n",
       "C(weekday)[T.6]               -0.0845      0.002    -50.962      0.000      -0.088      -0.081\n",
       "C(hour)[T.1]                  -0.0333      0.003     -9.998      0.000      -0.040      -0.027\n",
       "C(hour)[T.2]                  -0.0655      0.004    -17.796      0.000      -0.073      -0.058\n",
       "C(hour)[T.3]                  -0.1064      0.004    -26.148      0.000      -0.114      -0.098\n",
       "C(hour)[T.4]                  -0.1967      0.005    -43.563      0.000      -0.206      -0.188\n",
       "C(hour)[T.5]                  -0.3409      0.005    -73.979      0.000      -0.350      -0.332\n",
       "C(hour)[T.6]                  -0.2300      0.003    -65.806      0.000      -0.237      -0.223\n",
       "C(hour)[T.7]                   0.0267      0.003      8.790      0.000       0.021       0.033\n",
       "C(hour)[T.8]                   0.2104      0.003     72.245      0.000       0.205       0.216\n",
       "C(hour)[T.9]                   0.2504      0.003     86.283      0.000       0.245       0.256\n",
       "C(hour)[T.10]                  0.2517      0.003     86.240      0.000       0.246       0.257\n",
       "C(hour)[T.11]                  0.2821      0.003     97.660      0.000       0.276       0.288\n",
       "C(hour)[T.12]                  0.2944      0.003    103.003      0.000       0.289       0.300\n",
       "C(hour)[T.13]                  0.2850      0.003     99.651      0.000       0.279       0.291\n",
       "C(hour)[T.14]                  0.2958      0.003    104.268      0.000       0.290       0.301\n",
       "C(hour)[T.15]                  0.3004      0.003    105.132      0.000       0.295       0.306\n",
       "C(hour)[T.16]                  0.2641      0.003     90.239      0.000       0.258       0.270\n",
       "C(hour)[T.17]                  0.2668      0.003     94.575      0.000       0.261       0.272\n",
       "C(hour)[T.18]                  0.2516      0.003     92.104      0.000       0.246       0.257\n",
       "C(hour)[T.19]                  0.1746      0.003     63.889      0.000       0.169       0.180\n",
       "C(hour)[T.20]                  0.0881      0.003     31.820      0.000       0.083       0.094\n",
       "C(hour)[T.21]                  0.0606      0.003     21.889      0.000       0.055       0.066\n",
       "C(hour)[T.22]                  0.0623      0.003     22.317      0.000       0.057       0.068\n",
       "C(hour)[T.23]                  0.0209      0.003      7.273      0.000       0.015       0.027\n",
       "C(holiday)[T.1]               -0.1148      0.003    -41.129      0.000      -0.120      -0.109\n",
       "passenger_count                0.0066      0.000     20.003      0.000       0.006       0.007\n",
       "pickup_longitude              -0.5403      0.010    -56.036      0.000      -0.559      -0.521\n",
       "pickup_latitude                0.4580      0.016     28.768      0.000       0.427       0.489\n",
       "dropoff_longitude             -0.0212      0.010     -2.192      0.028      -0.040      -0.002\n",
       "dropoff_latitude              -1.0272      0.014    -75.944      0.000      -1.054      -1.001\n",
       "dist                           0.9919      0.001   1427.911      0.000       0.991       0.993\n",
       "==============================================================================\n",
       "Omnibus:                   458368.197   Durbin-Watson:                   1.999\n",
       "Prob(Omnibus):                  0.000   Jarque-Bera (JB):         57976939.877\n",
       "Skew:                           0.436   Prob(JB):                         0.00\n",
       "Kurtosis:                      33.874   Cond. No.                     2.38e+05\n",
       "==============================================================================\n",
       "\n",
       "Warnings:\n",
       "[1] Standard Errors assume that the covariance matrix of the errors is correctly specified.\n",
       "[2] The condition number is large, 2.38e+05. This might indicate that there are\n",
       "strong multicollinearity or other numerical problems.\n",
       "\"\"\""
      ]
     },
     "execution_count": 8,
     "metadata": {},
     "output_type": "execute_result"
    }
   ],
   "source": [
    "# regression model\n",
    "model =  sm.OLS.from_formula(\"trip_duration ~ {}\".format(features), data = train)\n",
    "result = model.fit()\n",
    "result.summary()"
   ]
  },
  {
   "cell_type": "code",
   "execution_count": 9,
   "metadata": {
    "scrolled": true
   },
   "outputs": [
    {
     "data": {
      "text/html": [
       "<div>\n",
       "<style scoped>\n",
       "    .dataframe tbody tr th:only-of-type {\n",
       "        vertical-align: middle;\n",
       "    }\n",
       "\n",
       "    .dataframe tbody tr th {\n",
       "        vertical-align: top;\n",
       "    }\n",
       "\n",
       "    .dataframe thead th {\n",
       "        text-align: right;\n",
       "    }\n",
       "</style>\n",
       "<table border=\"1\" class=\"dataframe\">\n",
       "  <thead>\n",
       "    <tr style=\"text-align: right;\">\n",
       "      <th></th>\n",
       "      <th>R-square</th>\n",
       "      <th>Pb(Fstatics)</th>\n",
       "      <th>Pb(omnibus)</th>\n",
       "      <th>Pb(jb)</th>\n",
       "      <th>Dub-Wat</th>\n",
       "      <th>Cond.No.</th>\n",
       "    </tr>\n",
       "  </thead>\n",
       "  <tbody>\n",
       "    <tr>\n",
       "      <th>0</th>\n",
       "      <td>0.609</td>\n",
       "      <td>0.0</td>\n",
       "      <td>0.0</td>\n",
       "      <td>0.0</td>\n",
       "      <td>1.999</td>\n",
       "      <td>237509.531</td>\n",
       "    </tr>\n",
       "  </tbody>\n",
       "</table>\n",
       "</div>"
      ],
      "text/plain": [
       "   R-square  Pb(Fstatics)  Pb(omnibus)  Pb(jb)  Dub-Wat    Cond.No.\n",
       "0     0.609           0.0          0.0     0.0    1.999  237509.531"
      ]
     },
     "execution_count": 9,
     "metadata": {},
     "output_type": "execute_result"
    }
   ],
   "source": [
    "report(model)"
   ]
  },
  {
   "cell_type": "code",
   "execution_count": 11,
   "metadata": {
    "scrolled": false
   },
   "outputs": [
    {
     "data": {
      "text/plain": [
       "Index(['const', 'vendor_id', 'passenger_count', 'store_and_fwd_flag', 'month',\n",
       "       'weekday', 'hour', 'holiday', 'pickup_longitude', 'pickup_latitude',\n",
       "       'dropoff_longitude', 'dropoff_latitude', 'dist', 'trip_duration'],\n",
       "      dtype='object')"
      ]
     },
     "execution_count": 11,
     "metadata": {},
     "output_type": "execute_result"
    }
   ],
   "source": [
    "train.columns"
   ]
  },
  {
   "cell_type": "code",
   "execution_count": 12,
   "metadata": {},
   "outputs": [
    {
     "data": {
      "text/plain": [
       "Index(['const', 'vendor_id', 'passenger_count', 'store_and_fwd_flag', 'month',\n",
       "       'weekday', 'hour', 'holiday', 'pickup_longitude', 'pickup_latitude',\n",
       "       'dropoff_longitude', 'dropoff_latitude', 'dist'],\n",
       "      dtype='object')"
      ]
     },
     "execution_count": 12,
     "metadata": {},
     "output_type": "execute_result"
    }
   ],
   "source": [
    "test.columns"
   ]
  },
  {
   "cell_type": "code",
   "execution_count": 13,
   "metadata": {},
   "outputs": [
    {
     "data": {
      "text/html": [
       "<div>\n",
       "<style scoped>\n",
       "    .dataframe tbody tr th:only-of-type {\n",
       "        vertical-align: middle;\n",
       "    }\n",
       "\n",
       "    .dataframe tbody tr th {\n",
       "        vertical-align: top;\n",
       "    }\n",
       "\n",
       "    .dataframe thead th {\n",
       "        text-align: right;\n",
       "    }\n",
       "</style>\n",
       "<table border=\"1\" class=\"dataframe\">\n",
       "  <thead>\n",
       "    <tr style=\"text-align: right;\">\n",
       "      <th></th>\n",
       "      <th>VIF Factor</th>\n",
       "      <th>features</th>\n",
       "    </tr>\n",
       "  </thead>\n",
       "  <tbody>\n",
       "    <tr>\n",
       "      <th>0</th>\n",
       "      <td>3.933350e+06</td>\n",
       "      <td>const</td>\n",
       "    </tr>\n",
       "    <tr>\n",
       "      <th>1</th>\n",
       "      <td>1.096849e+00</td>\n",
       "      <td>vendor_id</td>\n",
       "    </tr>\n",
       "    <tr>\n",
       "      <th>2</th>\n",
       "      <td>1.090998e+00</td>\n",
       "      <td>passenger_count</td>\n",
       "    </tr>\n",
       "    <tr>\n",
       "      <th>3</th>\n",
       "      <td>1.007134e+00</td>\n",
       "      <td>store_and_fwd_flag</td>\n",
       "    </tr>\n",
       "    <tr>\n",
       "      <th>4</th>\n",
       "      <td>1.020835e+00</td>\n",
       "      <td>month</td>\n",
       "    </tr>\n",
       "    <tr>\n",
       "      <th>5</th>\n",
       "      <td>1.021712e+00</td>\n",
       "      <td>weekday</td>\n",
       "    </tr>\n",
       "    <tr>\n",
       "      <th>6</th>\n",
       "      <td>1.010686e+00</td>\n",
       "      <td>hour</td>\n",
       "    </tr>\n",
       "    <tr>\n",
       "      <th>7</th>\n",
       "      <td>1.031597e+00</td>\n",
       "      <td>holiday</td>\n",
       "    </tr>\n",
       "    <tr>\n",
       "      <th>8</th>\n",
       "      <td>2.716887e+00</td>\n",
       "      <td>pickup_longitude</td>\n",
       "    </tr>\n",
       "    <tr>\n",
       "      <th>9</th>\n",
       "      <td>1.439363e+00</td>\n",
       "      <td>pickup_latitude</td>\n",
       "    </tr>\n",
       "    <tr>\n",
       "      <th>10</th>\n",
       "      <td>2.699259e+00</td>\n",
       "      <td>dropoff_longitude</td>\n",
       "    </tr>\n",
       "    <tr>\n",
       "      <th>11</th>\n",
       "      <td>1.386097e+00</td>\n",
       "      <td>dropoff_latitude</td>\n",
       "    </tr>\n",
       "    <tr>\n",
       "      <th>12</th>\n",
       "      <td>1.101740e+00</td>\n",
       "      <td>dist</td>\n",
       "    </tr>\n",
       "  </tbody>\n",
       "</table>\n",
       "</div>"
      ],
      "text/plain": [
       "      VIF Factor            features\n",
       "0   3.933350e+06               const\n",
       "1   1.096849e+00           vendor_id\n",
       "2   1.090998e+00     passenger_count\n",
       "3   1.007134e+00  store_and_fwd_flag\n",
       "4   1.020835e+00               month\n",
       "5   1.021712e+00             weekday\n",
       "6   1.010686e+00                hour\n",
       "7   1.031597e+00             holiday\n",
       "8   2.716887e+00    pickup_longitude\n",
       "9   1.439363e+00     pickup_latitude\n",
       "10  2.699259e+00   dropoff_longitude\n",
       "11  1.386097e+00    dropoff_latitude\n",
       "12  1.101740e+00                dist"
      ]
     },
     "execution_count": 13,
     "metadata": {},
     "output_type": "execute_result"
    }
   ],
   "source": [
    "from statsmodels.stats.outliers_influence import variance_inflation_factor\n",
    "train_vif = train.drop(['trip_duration'], axis = 1)\n",
    "vif = pd.DataFrame()\n",
    "vif[\"VIF Factor\"] = [variance_inflation_factor(train_vif.values, i) for i in range(train_vif.shape[1])]\n",
    "vif[\"features\"] = train_vif.columns\n",
    "vif"
   ]
  },
  {
   "cell_type": "code",
   "execution_count": 14,
   "metadata": {
    "scrolled": false
   },
   "outputs": [
    {
     "data": {
      "image/png": "[encoded data removed]",
      "text/plain": [
       "<matplotlib.figure.Figure at 0x10ad73b00>"
      ]
     },
     "metadata": {
      "image/png": {
       "height": 386,
       "width": 498
      }
     },
     "output_type": "display_data"
    }
   ],
   "source": [
    "import scipy as sp\n",
    "# probplot\n",
    "f, ax = plt.subplots(figsize=(8, 6))\n",
    "sp.stats.probplot(result.resid, plot = plt)\n",
    "\n",
    "plt.show()"
   ]
  },
  {
   "cell_type": "code",
   "execution_count": 15,
   "metadata": {},
   "outputs": [
    {
     "name": "stdout",
     "output_type": "stream",
     "text": [
      "Chi^2       : 458368.197\n",
      "P-value     :  0.000\n"
     ]
    }
   ],
   "source": [
    "import statsmodels.stats.api as sms\n",
    "\n",
    "# Chi-square 확인\n",
    "resid = sms.omni_normtest(result.resid)\n",
    "for i in zip(['Chi^2', 'P-value'], resid):\n",
    "    print(\"%-12s: %6.3f\" % i)"
   ]
  },
  {
   "cell_type": "code",
   "execution_count": 16,
   "metadata": {},
   "outputs": [],
   "source": [
    "def cooks_distace(result, data, category=False, dropped=False):\n",
    "    \n",
    "    '''\n",
    "    Cook's distance를 활용한 아웃라이어 제거 함수입니다.\n",
    "    Cook's distance를 통해 제거된 데이터들은 dropped_data로 따로 저장했습니다.\n",
    "    '''\n",
    "\n",
    "    influence = result.get_influence()\n",
    "\n",
    "    if category:\n",
    "        fox_cr = 4 / (len(data) - result.df_model + 1)\n",
    "    else:\n",
    "        fox_cr = 4 / (len(data) - result.df_model)\n",
    "\n",
    "    cooks_d2, pvals = influence.cooks_distance\n",
    "    idx = np.where(cooks_d2 > fox_cr)[0]\n",
    "\n",
    "    dropped_data = data.iloc[idx]\n",
    "    data = data.drop(data.index[idx])\n",
    "    data.reset_index(drop=True, inplace=True)\n",
    "\n",
    "    if dropped:\n",
    "\n",
    "        return data, dropped_data\n",
    "\n",
    "    return data"
   ]
  },
  {
   "cell_type": "markdown",
   "metadata": {},
   "source": [
    "### outlier 1회"
   ]
  },
  {
   "cell_type": "code",
   "execution_count": 17,
   "metadata": {},
   "outputs": [
    {
     "data": {
      "text/html": [
       "<div>\n",
       "<style scoped>\n",
       "    .dataframe tbody tr th:only-of-type {\n",
       "        vertical-align: middle;\n",
       "    }\n",
       "\n",
       "    .dataframe tbody tr th {\n",
       "        vertical-align: top;\n",
       "    }\n",
       "\n",
       "    .dataframe thead th {\n",
       "        text-align: right;\n",
       "    }\n",
       "</style>\n",
       "<table border=\"1\" class=\"dataframe\">\n",
       "  <thead>\n",
       "    <tr style=\"text-align: right;\">\n",
       "      <th></th>\n",
       "      <th>const</th>\n",
       "      <th>vendor_id</th>\n",
       "      <th>passenger_count</th>\n",
       "      <th>store_and_fwd_flag</th>\n",
       "      <th>month</th>\n",
       "      <th>weekday</th>\n",
       "      <th>hour</th>\n",
       "      <th>holiday</th>\n",
       "      <th>pickup_longitude</th>\n",
       "      <th>pickup_latitude</th>\n",
       "      <th>dropoff_longitude</th>\n",
       "      <th>dropoff_latitude</th>\n",
       "      <th>dist</th>\n",
       "      <th>trip_duration</th>\n",
       "    </tr>\n",
       "  </thead>\n",
       "  <tbody>\n",
       "    <tr>\n",
       "      <th>1410898</th>\n",
       "      <td>1.0</td>\n",
       "      <td>2</td>\n",
       "      <td>4</td>\n",
       "      <td>0</td>\n",
       "      <td>4</td>\n",
       "      <td>4</td>\n",
       "      <td>13</td>\n",
       "      <td>0</td>\n",
       "      <td>-73.982201</td>\n",
       "      <td>40.745522</td>\n",
       "      <td>-73.994911</td>\n",
       "      <td>40.740170</td>\n",
       "      <td>0.799447</td>\n",
       "      <td>6.658011</td>\n",
       "    </tr>\n",
       "    <tr>\n",
       "      <th>1410899</th>\n",
       "      <td>1.0</td>\n",
       "      <td>1</td>\n",
       "      <td>1</td>\n",
       "      <td>0</td>\n",
       "      <td>1</td>\n",
       "      <td>6</td>\n",
       "      <td>7</td>\n",
       "      <td>0</td>\n",
       "      <td>-74.000946</td>\n",
       "      <td>40.747379</td>\n",
       "      <td>-73.970184</td>\n",
       "      <td>40.796547</td>\n",
       "      <td>1.952465</td>\n",
       "      <td>6.486161</td>\n",
       "    </tr>\n",
       "    <tr>\n",
       "      <th>1410900</th>\n",
       "      <td>1.0</td>\n",
       "      <td>2</td>\n",
       "      <td>1</td>\n",
       "      <td>0</td>\n",
       "      <td>4</td>\n",
       "      <td>4</td>\n",
       "      <td>6</td>\n",
       "      <td>0</td>\n",
       "      <td>-73.959129</td>\n",
       "      <td>40.768799</td>\n",
       "      <td>-74.004433</td>\n",
       "      <td>40.707371</td>\n",
       "      <td>2.176987</td>\n",
       "      <td>6.639876</td>\n",
       "    </tr>\n",
       "    <tr>\n",
       "      <th>1410901</th>\n",
       "      <td>1.0</td>\n",
       "      <td>1</td>\n",
       "      <td>1</td>\n",
       "      <td>0</td>\n",
       "      <td>1</td>\n",
       "      <td>1</td>\n",
       "      <td>15</td>\n",
       "      <td>0</td>\n",
       "      <td>-73.982079</td>\n",
       "      <td>40.749062</td>\n",
       "      <td>-73.974632</td>\n",
       "      <td>40.757107</td>\n",
       "      <td>0.738062</td>\n",
       "      <td>5.924256</td>\n",
       "    </tr>\n",
       "    <tr>\n",
       "      <th>1410902</th>\n",
       "      <td>1.0</td>\n",
       "      <td>1</td>\n",
       "      <td>1</td>\n",
       "      <td>0</td>\n",
       "      <td>4</td>\n",
       "      <td>1</td>\n",
       "      <td>14</td>\n",
       "      <td>0</td>\n",
       "      <td>-73.979538</td>\n",
       "      <td>40.781750</td>\n",
       "      <td>-73.972809</td>\n",
       "      <td>40.790585</td>\n",
       "      <td>0.757684</td>\n",
       "      <td>5.293305</td>\n",
       "    </tr>\n",
       "  </tbody>\n",
       "</table>\n",
       "</div>"
      ],
      "text/plain": [
       "         const  vendor_id  passenger_count  store_and_fwd_flag  month  \\\n",
       "1410898    1.0          2                4                   0      4   \n",
       "1410899    1.0          1                1                   0      1   \n",
       "1410900    1.0          2                1                   0      4   \n",
       "1410901    1.0          1                1                   0      1   \n",
       "1410902    1.0          1                1                   0      4   \n",
       "\n",
       "         weekday  hour  holiday  pickup_longitude  pickup_latitude  \\\n",
       "1410898        4    13        0        -73.982201        40.745522   \n",
       "1410899        6     7        0        -74.000946        40.747379   \n",
       "1410900        4     6        0        -73.959129        40.768799   \n",
       "1410901        1    15        0        -73.982079        40.749062   \n",
       "1410902        1    14        0        -73.979538        40.781750   \n",
       "\n",
       "         dropoff_longitude  dropoff_latitude      dist  trip_duration  \n",
       "1410898         -73.994911         40.740170  0.799447       6.658011  \n",
       "1410899         -73.970184         40.796547  1.952465       6.486161  \n",
       "1410900         -74.004433         40.707371  2.176987       6.639876  \n",
       "1410901         -73.974632         40.757107  0.738062       5.924256  \n",
       "1410902         -73.972809         40.790585  0.757684       5.293305  "
      ]
     },
     "execution_count": 17,
     "metadata": {},
     "output_type": "execute_result"
    }
   ],
   "source": [
    "train1 = cooks_distace(result, train)\n",
    "train1.tail()"
   ]
  },
  {
   "cell_type": "code",
   "execution_count": 18,
   "metadata": {
    "scrolled": false
   },
   "outputs": [
    {
     "data": {
      "text/html": [
       "<table class=\"simpletable\">\n",
       "<caption>OLS Regression Results</caption>\n",
       "<tr>\n",
       "  <th>Dep. Variable:</th>      <td>trip_duration</td>  <th>  R-squared:         </th>  <td>   0.713</td>  \n",
       "</tr>\n",
       "<tr>\n",
       "  <th>Model:</th>                   <td>OLS</td>       <th>  Adj. R-squared:    </th>  <td>   0.713</td>  \n",
       "</tr>\n",
       "<tr>\n",
       "  <th>Method:</th>             <td>Least Squares</td>  <th>  F-statistic:       </th>  <td>8.159e+04</td> \n",
       "</tr>\n",
       "<tr>\n",
       "  <th>Date:</th>             <td>Sun, 20 May 2018</td> <th>  Prob (F-statistic):</th>   <td>  0.00</td>   \n",
       "</tr>\n",
       "<tr>\n",
       "  <th>Time:</th>                 <td>18:28:52</td>     <th>  Log-Likelihood:    </th> <td>-6.2504e+05</td>\n",
       "</tr>\n",
       "<tr>\n",
       "  <th>No. Observations:</th>      <td>1410903</td>     <th>  AIC:               </th>  <td>1.250e+06</td> \n",
       "</tr>\n",
       "<tr>\n",
       "  <th>Df Residuals:</th>          <td>1410859</td>     <th>  BIC:               </th>  <td>1.251e+06</td> \n",
       "</tr>\n",
       "<tr>\n",
       "  <th>Df Model:</th>              <td>    43</td>      <th>                     </th>      <td> </td>     \n",
       "</tr>\n",
       "<tr>\n",
       "  <th>Covariance Type:</th>      <td>nonrobust</td>    <th>                     </th>      <td> </td>     \n",
       "</tr>\n",
       "</table>\n",
       "<table class=\"simpletable\">\n",
       "<tr>\n",
       "               <td></td>                 <th>coef</th>     <th>std err</th>      <th>t</th>      <th>P>|t|</th>  <th>[0.025</th>    <th>0.975]</th>  \n",
       "</tr>\n",
       "<tr>\n",
       "  <th>Intercept</th>                  <td> -168.9287</td> <td>    1.192</td> <td> -141.760</td> <td> 0.000</td> <td> -171.264</td> <td> -166.593</td>\n",
       "</tr>\n",
       "<tr>\n",
       "  <th>C(vendor_id)[T.2]</th>          <td>   -0.0017</td> <td>    0.001</td> <td>   -2.573</td> <td> 0.010</td> <td>   -0.003</td> <td>   -0.000</td>\n",
       "</tr>\n",
       "<tr>\n",
       "  <th>C(store_and_fwd_flag)[T.1]</th> <td>   -0.0203</td> <td>    0.005</td> <td>   -4.073</td> <td> 0.000</td> <td>   -0.030</td> <td>   -0.011</td>\n",
       "</tr>\n",
       "<tr>\n",
       "  <th>C(month)[T.2]</th>              <td>    0.0093</td> <td>    0.001</td> <td>    8.272</td> <td> 0.000</td> <td>    0.007</td> <td>    0.011</td>\n",
       "</tr>\n",
       "<tr>\n",
       "  <th>C(month)[T.3]</th>              <td>    0.0047</td> <td>    0.001</td> <td>    4.227</td> <td> 0.000</td> <td>    0.003</td> <td>    0.007</td>\n",
       "</tr>\n",
       "<tr>\n",
       "  <th>C(month)[T.4]</th>              <td>    0.0444</td> <td>    0.001</td> <td>   39.835</td> <td> 0.000</td> <td>    0.042</td> <td>    0.047</td>\n",
       "</tr>\n",
       "<tr>\n",
       "  <th>C(month)[T.5]</th>              <td>    0.0630</td> <td>    0.001</td> <td>   56.507</td> <td> 0.000</td> <td>    0.061</td> <td>    0.065</td>\n",
       "</tr>\n",
       "<tr>\n",
       "  <th>C(month)[T.6]</th>              <td>    0.0642</td> <td>    0.001</td> <td>   56.561</td> <td> 0.000</td> <td>    0.062</td> <td>    0.066</td>\n",
       "</tr>\n",
       "<tr>\n",
       "  <th>C(weekday)[T.1]</th>            <td>    0.0811</td> <td>    0.001</td> <td>   64.941</td> <td> 0.000</td> <td>    0.079</td> <td>    0.084</td>\n",
       "</tr>\n",
       "<tr>\n",
       "  <th>C(weekday)[T.2]</th>            <td>    0.1045</td> <td>    0.001</td> <td>   84.376</td> <td> 0.000</td> <td>    0.102</td> <td>    0.107</td>\n",
       "</tr>\n",
       "<tr>\n",
       "  <th>C(weekday)[T.3]</th>            <td>    0.1143</td> <td>    0.001</td> <td>   93.089</td> <td> 0.000</td> <td>    0.112</td> <td>    0.117</td>\n",
       "</tr>\n",
       "<tr>\n",
       "  <th>C(weekday)[T.4]</th>            <td>    0.1032</td> <td>    0.001</td> <td>   85.519</td> <td> 0.000</td> <td>    0.101</td> <td>    0.106</td>\n",
       "</tr>\n",
       "<tr>\n",
       "  <th>C(weekday)[T.5]</th>            <td>    0.0019</td> <td>    0.001</td> <td>    1.506</td> <td> 0.132</td> <td>   -0.001</td> <td>    0.004</td>\n",
       "</tr>\n",
       "<tr>\n",
       "  <th>C(weekday)[T.6]</th>            <td>   -0.0957</td> <td>    0.001</td> <td>  -74.904</td> <td> 0.000</td> <td>   -0.098</td> <td>   -0.093</td>\n",
       "</tr>\n",
       "<tr>\n",
       "  <th>C(hour)[T.1]</th>               <td>   -0.0423</td> <td>    0.003</td> <td>  -16.417</td> <td> 0.000</td> <td>   -0.047</td> <td>   -0.037</td>\n",
       "</tr>\n",
       "<tr>\n",
       "  <th>C(hour)[T.2]</th>               <td>   -0.0701</td> <td>    0.003</td> <td>  -24.491</td> <td> 0.000</td> <td>   -0.076</td> <td>   -0.065</td>\n",
       "</tr>\n",
       "<tr>\n",
       "  <th>C(hour)[T.3]</th>               <td>   -0.1053</td> <td>    0.003</td> <td>  -32.947</td> <td> 0.000</td> <td>   -0.112</td> <td>   -0.099</td>\n",
       "</tr>\n",
       "<tr>\n",
       "  <th>C(hour)[T.4]</th>               <td>   -0.1755</td> <td>    0.004</td> <td>  -48.473</td> <td> 0.000</td> <td>   -0.183</td> <td>   -0.168</td>\n",
       "</tr>\n",
       "<tr>\n",
       "  <th>C(hour)[T.5]</th>               <td>   -0.3068</td> <td>    0.004</td> <td>  -83.917</td> <td> 0.000</td> <td>   -0.314</td> <td>   -0.300</td>\n",
       "</tr>\n",
       "<tr>\n",
       "  <th>C(hour)[T.6]</th>               <td>   -0.2082</td> <td>    0.003</td> <td>  -77.204</td> <td> 0.000</td> <td>   -0.213</td> <td>   -0.203</td>\n",
       "</tr>\n",
       "<tr>\n",
       "  <th>C(hour)[T.7]</th>               <td>    0.0385</td> <td>    0.002</td> <td>   16.393</td> <td> 0.000</td> <td>    0.034</td> <td>    0.043</td>\n",
       "</tr>\n",
       "<tr>\n",
       "  <th>C(hour)[T.8]</th>               <td>    0.2228</td> <td>    0.002</td> <td>   99.210</td> <td> 0.000</td> <td>    0.218</td> <td>    0.227</td>\n",
       "</tr>\n",
       "<tr>\n",
       "  <th>C(hour)[T.9]</th>               <td>    0.2645</td> <td>    0.002</td> <td>  118.119</td> <td> 0.000</td> <td>    0.260</td> <td>    0.269</td>\n",
       "</tr>\n",
       "<tr>\n",
       "  <th>C(hour)[T.10]</th>              <td>    0.2677</td> <td>    0.002</td> <td>  118.855</td> <td> 0.000</td> <td>    0.263</td> <td>    0.272</td>\n",
       "</tr>\n",
       "<tr>\n",
       "  <th>C(hour)[T.11]</th>              <td>    0.2992</td> <td>    0.002</td> <td>  134.218</td> <td> 0.000</td> <td>    0.295</td> <td>    0.304</td>\n",
       "</tr>\n",
       "<tr>\n",
       "  <th>C(hour)[T.12]</th>              <td>    0.3091</td> <td>    0.002</td> <td>  140.153</td> <td> 0.000</td> <td>    0.305</td> <td>    0.313</td>\n",
       "</tr>\n",
       "<tr>\n",
       "  <th>C(hour)[T.13]</th>              <td>    0.2980</td> <td>    0.002</td> <td>  135.087</td> <td> 0.000</td> <td>    0.294</td> <td>    0.302</td>\n",
       "</tr>\n",
       "<tr>\n",
       "  <th>C(hour)[T.14]</th>              <td>    0.3118</td> <td>    0.002</td> <td>  142.558</td> <td> 0.000</td> <td>    0.308</td> <td>    0.316</td>\n",
       "</tr>\n",
       "<tr>\n",
       "  <th>C(hour)[T.15]</th>              <td>    0.3177</td> <td>    0.002</td> <td>  144.261</td> <td> 0.000</td> <td>    0.313</td> <td>    0.322</td>\n",
       "</tr>\n",
       "<tr>\n",
       "  <th>C(hour)[T.16]</th>              <td>    0.2872</td> <td>    0.002</td> <td>  127.203</td> <td> 0.000</td> <td>    0.283</td> <td>    0.292</td>\n",
       "</tr>\n",
       "<tr>\n",
       "  <th>C(hour)[T.17]</th>              <td>    0.2827</td> <td>    0.002</td> <td>  130.018</td> <td> 0.000</td> <td>    0.278</td> <td>    0.287</td>\n",
       "</tr>\n",
       "<tr>\n",
       "  <th>C(hour)[T.18]</th>              <td>    0.2589</td> <td>    0.002</td> <td>  123.154</td> <td> 0.000</td> <td>    0.255</td> <td>    0.263</td>\n",
       "</tr>\n",
       "<tr>\n",
       "  <th>C(hour)[T.19]</th>              <td>    0.1749</td> <td>    0.002</td> <td>   83.221</td> <td> 0.000</td> <td>    0.171</td> <td>    0.179</td>\n",
       "</tr>\n",
       "<tr>\n",
       "  <th>C(hour)[T.20]</th>              <td>    0.0875</td> <td>    0.002</td> <td>   41.094</td> <td> 0.000</td> <td>    0.083</td> <td>    0.092</td>\n",
       "</tr>\n",
       "<tr>\n",
       "  <th>C(hour)[T.21]</th>              <td>    0.0590</td> <td>    0.002</td> <td>   27.728</td> <td> 0.000</td> <td>    0.055</td> <td>    0.063</td>\n",
       "</tr>\n",
       "<tr>\n",
       "  <th>C(hour)[T.22]</th>              <td>    0.0565</td> <td>    0.002</td> <td>   26.339</td> <td> 0.000</td> <td>    0.052</td> <td>    0.061</td>\n",
       "</tr>\n",
       "<tr>\n",
       "  <th>C(hour)[T.23]</th>              <td>    0.0184</td> <td>    0.002</td> <td>    8.346</td> <td> 0.000</td> <td>    0.014</td> <td>    0.023</td>\n",
       "</tr>\n",
       "<tr>\n",
       "  <th>C(holiday)[T.1]</th>            <td>   -0.1109</td> <td>    0.002</td> <td>  -50.402</td> <td> 0.000</td> <td>   -0.115</td> <td>   -0.107</td>\n",
       "</tr>\n",
       "<tr>\n",
       "  <th>passenger_count</th>            <td>    0.0053</td> <td>    0.000</td> <td>   20.993</td> <td> 0.000</td> <td>    0.005</td> <td>    0.006</td>\n",
       "</tr>\n",
       "<tr>\n",
       "  <th>pickup_longitude</th>           <td>   -1.7350</td> <td>    0.010</td> <td> -182.555</td> <td> 0.000</td> <td>   -1.754</td> <td>   -1.716</td>\n",
       "</tr>\n",
       "<tr>\n",
       "  <th>pickup_latitude</th>            <td>    0.1285</td> <td>    0.013</td> <td>    9.802</td> <td> 0.000</td> <td>    0.103</td> <td>    0.154</td>\n",
       "</tr>\n",
       "<tr>\n",
       "  <th>dropoff_longitude</th>          <td>   -1.1530</td> <td>    0.010</td> <td> -111.717</td> <td> 0.000</td> <td>   -1.173</td> <td>   -1.133</td>\n",
       "</tr>\n",
       "<tr>\n",
       "  <th>dropoff_latitude</th>           <td>   -1.1040</td> <td>    0.011</td> <td>  -97.231</td> <td> 0.000</td> <td>   -1.126</td> <td>   -1.082</td>\n",
       "</tr>\n",
       "<tr>\n",
       "  <th>dist</th>                       <td>    1.0172</td> <td>    0.001</td> <td> 1653.336</td> <td> 0.000</td> <td>    1.016</td> <td>    1.018</td>\n",
       "</tr>\n",
       "</table>\n",
       "<table class=\"simpletable\">\n",
       "<tr>\n",
       "  <th>Omnibus:</th>       <td>738.598</td> <th>  Durbin-Watson:     </th> <td>   1.999</td> \n",
       "</tr>\n",
       "<tr>\n",
       "  <th>Prob(Omnibus):</th> <td> 0.000</td>  <th>  Jarque-Bera (JB):  </th> <td> 739.746</td> \n",
       "</tr>\n",
       "<tr>\n",
       "  <th>Skew:</th>          <td>-0.056</td>  <th>  Prob(JB):          </th> <td>2.32e-161</td>\n",
       "</tr>\n",
       "<tr>\n",
       "  <th>Kurtosis:</th>      <td> 3.003</td>  <th>  Cond. No.          </th> <td>4.49e+05</td> \n",
       "</tr>\n",
       "</table>"
      ],
      "text/plain": [
       "<class 'statsmodels.iolib.summary.Summary'>\n",
       "\"\"\"\n",
       "                            OLS Regression Results                            \n",
       "==============================================================================\n",
       "Dep. Variable:          trip_duration   R-squared:                       0.713\n",
       "Model:                            OLS   Adj. R-squared:                  0.713\n",
       "Method:                 Least Squares   F-statistic:                 8.159e+04\n",
       "Date:                Sun, 20 May 2018   Prob (F-statistic):               0.00\n",
       "Time:                        18:28:52   Log-Likelihood:            -6.2504e+05\n",
       "No. Observations:             1410903   AIC:                         1.250e+06\n",
       "Df Residuals:                 1410859   BIC:                         1.251e+06\n",
       "Df Model:                          43                                         \n",
       "Covariance Type:            nonrobust                                         \n",
       "==============================================================================================\n",
       "                                 coef    std err          t      P>|t|      [0.025      0.975]\n",
       "----------------------------------------------------------------------------------------------\n",
       "Intercept                   -168.9287      1.192   -141.760      0.000    -171.264    -166.593\n",
       "C(vendor_id)[T.2]             -0.0017      0.001     -2.573      0.010      -0.003      -0.000\n",
       "C(store_and_fwd_flag)[T.1]    -0.0203      0.005     -4.073      0.000      -0.030      -0.011\n",
       "C(month)[T.2]                  0.0093      0.001      8.272      0.000       0.007       0.011\n",
       "C(month)[T.3]                  0.0047      0.001      4.227      0.000       0.003       0.007\n",
       "C(month)[T.4]                  0.0444      0.001     39.835      0.000       0.042       0.047\n",
       "C(month)[T.5]                  0.0630      0.001     56.507      0.000       0.061       0.065\n",
       "C(month)[T.6]                  0.0642      0.001     56.561      0.000       0.062       0.066\n",
       "C(weekday)[T.1]                0.0811      0.001     64.941      0.000       0.079       0.084\n",
       "C(weekday)[T.2]                0.1045      0.001     84.376      0.000       0.102       0.107\n",
       "C(weekday)[T.3]                0.1143      0.001     93.089      0.000       0.112       0.117\n",
       "C(weekday)[T.4]                0.1032      0.001     85.519      0.000       0.101       0.106\n",
       "C(weekday)[T.5]                0.0019      0.001      1.506      0.132      -0.001       0.004\n",
       "C(weekday)[T.6]               -0.0957      0.001    -74.904      0.000      -0.098      -0.093\n",
       "C(hour)[T.1]                  -0.0423      0.003    -16.417      0.000      -0.047      -0.037\n",
       "C(hour)[T.2]                  -0.0701      0.003    -24.491      0.000      -0.076      -0.065\n",
       "C(hour)[T.3]                  -0.1053      0.003    -32.947      0.000      -0.112      -0.099\n",
       "C(hour)[T.4]                  -0.1755      0.004    -48.473      0.000      -0.183      -0.168\n",
       "C(hour)[T.5]                  -0.3068      0.004    -83.917      0.000      -0.314      -0.300\n",
       "C(hour)[T.6]                  -0.2082      0.003    -77.204      0.000      -0.213      -0.203\n",
       "C(hour)[T.7]                   0.0385      0.002     16.393      0.000       0.034       0.043\n",
       "C(hour)[T.8]                   0.2228      0.002     99.210      0.000       0.218       0.227\n",
       "C(hour)[T.9]                   0.2645      0.002    118.119      0.000       0.260       0.269\n",
       "C(hour)[T.10]                  0.2677      0.002    118.855      0.000       0.263       0.272\n",
       "C(hour)[T.11]                  0.2992      0.002    134.218      0.000       0.295       0.304\n",
       "C(hour)[T.12]                  0.3091      0.002    140.153      0.000       0.305       0.313\n",
       "C(hour)[T.13]                  0.2980      0.002    135.087      0.000       0.294       0.302\n",
       "C(hour)[T.14]                  0.3118      0.002    142.558      0.000       0.308       0.316\n",
       "C(hour)[T.15]                  0.3177      0.002    144.261      0.000       0.313       0.322\n",
       "C(hour)[T.16]                  0.2872      0.002    127.203      0.000       0.283       0.292\n",
       "C(hour)[T.17]                  0.2827      0.002    130.018      0.000       0.278       0.287\n",
       "C(hour)[T.18]                  0.2589      0.002    123.154      0.000       0.255       0.263\n",
       "C(hour)[T.19]                  0.1749      0.002     83.221      0.000       0.171       0.179\n",
       "C(hour)[T.20]                  0.0875      0.002     41.094      0.000       0.083       0.092\n",
       "C(hour)[T.21]                  0.0590      0.002     27.728      0.000       0.055       0.063\n",
       "C(hour)[T.22]                  0.0565      0.002     26.339      0.000       0.052       0.061\n",
       "C(hour)[T.23]                  0.0184      0.002      8.346      0.000       0.014       0.023\n",
       "C(holiday)[T.1]               -0.1109      0.002    -50.402      0.000      -0.115      -0.107\n",
       "passenger_count                0.0053      0.000     20.993      0.000       0.005       0.006\n",
       "pickup_longitude              -1.7350      0.010   -182.555      0.000      -1.754      -1.716\n",
       "pickup_latitude                0.1285      0.013      9.802      0.000       0.103       0.154\n",
       "dropoff_longitude             -1.1530      0.010   -111.717      0.000      -1.173      -1.133\n",
       "dropoff_latitude              -1.1040      0.011    -97.231      0.000      -1.126      -1.082\n",
       "dist                           1.0172      0.001   1653.336      0.000       1.016       1.018\n",
       "==============================================================================\n",
       "Omnibus:                      738.598   Durbin-Watson:                   1.999\n",
       "Prob(Omnibus):                  0.000   Jarque-Bera (JB):              739.746\n",
       "Skew:                          -0.056   Prob(JB):                    2.32e-161\n",
       "Kurtosis:                       3.003   Cond. No.                     4.49e+05\n",
       "==============================================================================\n",
       "\n",
       "Warnings:\n",
       "[1] Standard Errors assume that the covariance matrix of the errors is correctly specified.\n",
       "[2] The condition number is large, 4.49e+05. This might indicate that there are\n",
       "strong multicollinearity or other numerical problems.\n",
       "\"\"\""
      ]
     },
     "execution_count": 18,
     "metadata": {},
     "output_type": "execute_result"
    }
   ],
   "source": [
    "# regression model\n",
    "model1 =  sm.OLS.from_formula(\"trip_duration ~ {}\".format(features), data = train1)\n",
    "result1 = model1.fit()\n",
    "result1.summary()"
   ]
  },
  {
   "cell_type": "code",
   "execution_count": 19,
   "metadata": {
    "scrolled": true
   },
   "outputs": [
    {
     "data": {
      "text/html": [
       "<div>\n",
       "<style scoped>\n",
       "    .dataframe tbody tr th:only-of-type {\n",
       "        vertical-align: middle;\n",
       "    }\n",
       "\n",
       "    .dataframe tbody tr th {\n",
       "        vertical-align: top;\n",
       "    }\n",
       "\n",
       "    .dataframe thead th {\n",
       "        text-align: right;\n",
       "    }\n",
       "</style>\n",
       "<table border=\"1\" class=\"dataframe\">\n",
       "  <thead>\n",
       "    <tr style=\"text-align: right;\">\n",
       "      <th></th>\n",
       "      <th>R-square</th>\n",
       "      <th>Pb(Fstatics)</th>\n",
       "      <th>Pb(omnibus)</th>\n",
       "      <th>Pb(jb)</th>\n",
       "      <th>Dub-Wat</th>\n",
       "      <th>Cond.No.</th>\n",
       "    </tr>\n",
       "  </thead>\n",
       "  <tbody>\n",
       "    <tr>\n",
       "      <th>0</th>\n",
       "      <td>0.713</td>\n",
       "      <td>0.0</td>\n",
       "      <td>0.0</td>\n",
       "      <td>0.0</td>\n",
       "      <td>1.999</td>\n",
       "      <td>448730.675</td>\n",
       "    </tr>\n",
       "  </tbody>\n",
       "</table>\n",
       "</div>"
      ],
      "text/plain": [
       "   R-square  Pb(Fstatics)  Pb(omnibus)  Pb(jb)  Dub-Wat    Cond.No.\n",
       "0     0.713           0.0          0.0     0.0    1.999  448730.675"
      ]
     },
     "execution_count": 19,
     "metadata": {},
     "output_type": "execute_result"
    }
   ],
   "source": [
    "report(model1)"
   ]
  },
  {
   "cell_type": "code",
   "execution_count": 20,
   "metadata": {},
   "outputs": [
    {
     "data": {
      "image/png": "[encoded data removed]",
      "text/plain": [
       "<matplotlib.figure.Figure at 0x10adb2978>"
      ]
     },
     "metadata": {
      "image/png": {
       "height": 386,
       "width": 493
      }
     },
     "output_type": "display_data"
    }
   ],
   "source": [
    "import scipy as sp\n",
    "# probplot\n",
    "f, ax = plt.subplots(figsize=(8, 6))\n",
    "sp.stats.probplot(result1.resid, plot = plt)\n",
    "\n",
    "plt.show()"
   ]
  },
  {
   "cell_type": "code",
   "execution_count": 21,
   "metadata": {},
   "outputs": [
    {
     "name": "stdout",
     "output_type": "stream",
     "text": [
      "Chi^2       : 738.598\n",
      "P-value     :  0.000\n"
     ]
    }
   ],
   "source": [
    "# Chi-square 확인\n",
    "resid = sms.omni_normtest(result1.resid)\n",
    "for i in zip(['Chi^2', 'P-value'], resid):\n",
    "    print(\"%-12s: %6.3f\" % i)"
   ]
  },
  {
   "cell_type": "markdown",
   "metadata": {},
   "source": [
    "### submission"
   ]
  },
  {
   "cell_type": "code",
   "execution_count": null,
   "metadata": {},
   "outputs": [],
   "source": [
    "y_hat = y_hat.apply(lambda x: int(round(np.exp(x), 0)))"
   ]
  },
  {
   "cell_type": "code",
   "execution_count": 41,
   "metadata": {
    "scrolled": true
   },
   "outputs": [
    {
     "data": {
      "text/plain": [
       "count    625134.000000\n",
       "mean          8.687386\n",
       "std           4.289173\n",
       "min          -8.802130\n",
       "25%           6.493448\n",
       "50%           7.355469\n",
       "75%           9.146584\n",
       "max        1042.219931\n",
       "dtype: float64"
      ]
     },
     "execution_count": 41,
     "metadata": {},
     "output_type": "execute_result"
    }
   ],
   "source": [
    "y_hat.describe()"
   ]
  },
  {
   "cell_type": "code",
   "execution_count": 33,
   "metadata": {},
   "outputs": [
    {
     "ename": "OverflowError",
     "evalue": "(34, 'Result too large')",
     "output_type": "error",
     "traceback": [
      "\u001b[0;31m---------------------------------------------------------------------------\u001b[0m",
      "\u001b[0;31mOverflowError\u001b[0m                             Traceback (most recent call last)",
      "\u001b[0;32m<ipython-input-33-7c93c6156dad>\u001b[0m in \u001b[0;36m<module>\u001b[0;34m()\u001b[0m\n\u001b[0;32m----> 1\u001b[0;31m \u001b[0my_hat\u001b[0m\u001b[0;34m.\u001b[0m\u001b[0mapply\u001b[0m\u001b[0;34m(\u001b[0m\u001b[0;32mlambda\u001b[0m \u001b[0mx\u001b[0m\u001b[0;34m:\u001b[0m \u001b[0mint\u001b[0m\u001b[0;34m(\u001b[0m\u001b[0mround\u001b[0m\u001b[0;34m(\u001b[0m\u001b[0;36m2\u001b[0m\u001b[0;34m**\u001b[0m\u001b[0mx\u001b[0m\u001b[0;34m,\u001b[0m\u001b[0;36m0\u001b[0m\u001b[0;34m)\u001b[0m\u001b[0;34m)\u001b[0m\u001b[0;34m)\u001b[0m\u001b[0;34m\u001b[0m\u001b[0m\n\u001b[0m",
      "\u001b[0;32m/usr/local/lib/python3.6/site-packages/pandas/core/series.py\u001b[0m in \u001b[0;36mapply\u001b[0;34m(self, func, convert_dtype, args, **kwds)\u001b[0m\n\u001b[1;32m   2549\u001b[0m             \u001b[0;32melse\u001b[0m\u001b[0;34m:\u001b[0m\u001b[0;34m\u001b[0m\u001b[0m\n\u001b[1;32m   2550\u001b[0m                 \u001b[0mvalues\u001b[0m \u001b[0;34m=\u001b[0m \u001b[0mself\u001b[0m\u001b[0;34m.\u001b[0m\u001b[0masobject\u001b[0m\u001b[0;34m\u001b[0m\u001b[0m\n\u001b[0;32m-> 2551\u001b[0;31m                 \u001b[0mmapped\u001b[0m \u001b[0;34m=\u001b[0m \u001b[0mlib\u001b[0m\u001b[0;34m.\u001b[0m\u001b[0mmap_infer\u001b[0m\u001b[0;34m(\u001b[0m\u001b[0mvalues\u001b[0m\u001b[0;34m,\u001b[0m \u001b[0mf\u001b[0m\u001b[0;34m,\u001b[0m \u001b[0mconvert\u001b[0m\u001b[0;34m=\u001b[0m\u001b[0mconvert_dtype\u001b[0m\u001b[0;34m)\u001b[0m\u001b[0;34m\u001b[0m\u001b[0m\n\u001b[0m\u001b[1;32m   2552\u001b[0m \u001b[0;34m\u001b[0m\u001b[0m\n\u001b[1;32m   2553\u001b[0m         \u001b[0;32mif\u001b[0m \u001b[0mlen\u001b[0m\u001b[0;34m(\u001b[0m\u001b[0mmapped\u001b[0m\u001b[0;34m)\u001b[0m \u001b[0;32mand\u001b[0m \u001b[0misinstance\u001b[0m\u001b[0;34m(\u001b[0m\u001b[0mmapped\u001b[0m\u001b[0;34m[\u001b[0m\u001b[0;36m0\u001b[0m\u001b[0;34m]\u001b[0m\u001b[0;34m,\u001b[0m \u001b[0mSeries\u001b[0m\u001b[0;34m)\u001b[0m\u001b[0;34m:\u001b[0m\u001b[0;34m\u001b[0m\u001b[0m\n",
      "\u001b[0;32mpandas/_libs/src/inference.pyx\u001b[0m in \u001b[0;36mpandas._libs.lib.map_infer\u001b[0;34m()\u001b[0m\n",
      "\u001b[0;32m<ipython-input-33-7c93c6156dad>\u001b[0m in \u001b[0;36m<lambda>\u001b[0;34m(x)\u001b[0m\n\u001b[0;32m----> 1\u001b[0;31m \u001b[0my_hat\u001b[0m\u001b[0;34m.\u001b[0m\u001b[0mapply\u001b[0m\u001b[0;34m(\u001b[0m\u001b[0;32mlambda\u001b[0m \u001b[0mx\u001b[0m\u001b[0;34m:\u001b[0m \u001b[0mint\u001b[0m\u001b[0;34m(\u001b[0m\u001b[0mround\u001b[0m\u001b[0;34m(\u001b[0m\u001b[0;36m2\u001b[0m\u001b[0;34m**\u001b[0m\u001b[0mx\u001b[0m\u001b[0;34m,\u001b[0m\u001b[0;36m0\u001b[0m\u001b[0;34m)\u001b[0m\u001b[0;34m)\u001b[0m\u001b[0;34m)\u001b[0m\u001b[0;34m\u001b[0m\u001b[0m\n\u001b[0m",
      "\u001b[0;31mOverflowError\u001b[0m: (34, 'Result too large')"
     ]
    }
   ],
   "source": [
    "y_hat.apply(lambda x: int(round(2**x,0)))"
   ]
  },
  {
   "cell_type": "code",
   "execution_count": 27,
   "metadata": {
    "scrolled": true
   },
   "outputs": [
    {
     "ename": "OverflowError",
     "evalue": "cannot convert float infinity to integer",
     "output_type": "error",
     "traceback": [
      "\u001b[0;31m---------------------------------------------------------------------------\u001b[0m",
      "\u001b[0;31mOverflowError\u001b[0m                             Traceback (most recent call last)",
      "\u001b[0;32m<ipython-input-27-849f73aa76c3>\u001b[0m in \u001b[0;36m<module>\u001b[0;34m()\u001b[0m\n\u001b[1;32m      1\u001b[0m \u001b[0my_hat\u001b[0m \u001b[0;34m=\u001b[0m \u001b[0mresult1\u001b[0m\u001b[0;34m.\u001b[0m\u001b[0mpredict\u001b[0m\u001b[0;34m(\u001b[0m\u001b[0mtest\u001b[0m\u001b[0;34m)\u001b[0m\u001b[0;34m\u001b[0m\u001b[0m\n\u001b[0;32m----> 2\u001b[0;31m \u001b[0my_hat\u001b[0m \u001b[0;34m=\u001b[0m \u001b[0my_hat\u001b[0m\u001b[0;34m.\u001b[0m\u001b[0mapply\u001b[0m\u001b[0;34m(\u001b[0m\u001b[0;32mlambda\u001b[0m \u001b[0mx\u001b[0m\u001b[0;34m:\u001b[0m \u001b[0mint\u001b[0m\u001b[0;34m(\u001b[0m\u001b[0mround\u001b[0m\u001b[0;34m(\u001b[0m\u001b[0mnp\u001b[0m\u001b[0;34m.\u001b[0m\u001b[0mexp\u001b[0m\u001b[0;34m(\u001b[0m\u001b[0mx\u001b[0m\u001b[0;34m)\u001b[0m\u001b[0;34m,\u001b[0m \u001b[0;36m0\u001b[0m\u001b[0;34m)\u001b[0m\u001b[0;34m)\u001b[0m\u001b[0;34m)\u001b[0m\u001b[0;34m\u001b[0m\u001b[0m\n\u001b[0m\u001b[1;32m      3\u001b[0m \u001b[0mans\u001b[0m \u001b[0;34m=\u001b[0m \u001b[0mpd\u001b[0m\u001b[0;34m.\u001b[0m\u001b[0mconcat\u001b[0m\u001b[0;34m(\u001b[0m\u001b[0;34m[\u001b[0m\u001b[0msubmission\u001b[0m\u001b[0;34m[\u001b[0m\u001b[0;34m'id'\u001b[0m\u001b[0;34m]\u001b[0m\u001b[0;34m,\u001b[0m \u001b[0my_hat\u001b[0m\u001b[0;34m]\u001b[0m\u001b[0;34m,\u001b[0m \u001b[0maxis\u001b[0m\u001b[0;34m=\u001b[0m\u001b[0;36m1\u001b[0m\u001b[0;34m)\u001b[0m\u001b[0;34m\u001b[0m\u001b[0m\n\u001b[1;32m      4\u001b[0m \u001b[0mans\u001b[0m\u001b[0;34m.\u001b[0m\u001b[0mrename\u001b[0m\u001b[0;34m(\u001b[0m\u001b[0mcolumns\u001b[0m\u001b[0;34m=\u001b[0m\u001b[0;34m{\u001b[0m\u001b[0;34m'id'\u001b[0m\u001b[0;34m:\u001b[0m\u001b[0;34m'id'\u001b[0m \u001b[0;34m,\u001b[0m \u001b[0;36m0\u001b[0m \u001b[0;34m:\u001b[0m\u001b[0;34m'trip_duration'\u001b[0m\u001b[0;34m}\u001b[0m\u001b[0;34m,\u001b[0m \u001b[0minplace\u001b[0m\u001b[0;34m=\u001b[0m\u001b[0;32mTrue\u001b[0m\u001b[0;34m)\u001b[0m\u001b[0;34m\u001b[0m\u001b[0m\n\u001b[1;32m      5\u001b[0m \u001b[0mans\u001b[0m\u001b[0;34m.\u001b[0m\u001b[0mtail\u001b[0m\u001b[0;34m(\u001b[0m\u001b[0;34m)\u001b[0m\u001b[0;34m\u001b[0m\u001b[0m\n",
      "\u001b[0;32m/usr/local/lib/python3.6/site-packages/pandas/core/series.py\u001b[0m in \u001b[0;36mapply\u001b[0;34m(self, func, convert_dtype, args, **kwds)\u001b[0m\n\u001b[1;32m   2549\u001b[0m             \u001b[0;32melse\u001b[0m\u001b[0;34m:\u001b[0m\u001b[0;34m\u001b[0m\u001b[0m\n\u001b[1;32m   2550\u001b[0m                 \u001b[0mvalues\u001b[0m \u001b[0;34m=\u001b[0m \u001b[0mself\u001b[0m\u001b[0;34m.\u001b[0m\u001b[0masobject\u001b[0m\u001b[0;34m\u001b[0m\u001b[0m\n\u001b[0;32m-> 2551\u001b[0;31m                 \u001b[0mmapped\u001b[0m \u001b[0;34m=\u001b[0m \u001b[0mlib\u001b[0m\u001b[0;34m.\u001b[0m\u001b[0mmap_infer\u001b[0m\u001b[0;34m(\u001b[0m\u001b[0mvalues\u001b[0m\u001b[0;34m,\u001b[0m \u001b[0mf\u001b[0m\u001b[0;34m,\u001b[0m \u001b[0mconvert\u001b[0m\u001b[0;34m=\u001b[0m\u001b[0mconvert_dtype\u001b[0m\u001b[0;34m)\u001b[0m\u001b[0;34m\u001b[0m\u001b[0m\n\u001b[0m\u001b[1;32m   2552\u001b[0m \u001b[0;34m\u001b[0m\u001b[0m\n\u001b[1;32m   2553\u001b[0m         \u001b[0;32mif\u001b[0m \u001b[0mlen\u001b[0m\u001b[0;34m(\u001b[0m\u001b[0mmapped\u001b[0m\u001b[0;34m)\u001b[0m \u001b[0;32mand\u001b[0m \u001b[0misinstance\u001b[0m\u001b[0;34m(\u001b[0m\u001b[0mmapped\u001b[0m\u001b[0;34m[\u001b[0m\u001b[0;36m0\u001b[0m\u001b[0;34m]\u001b[0m\u001b[0;34m,\u001b[0m \u001b[0mSeries\u001b[0m\u001b[0;34m)\u001b[0m\u001b[0;34m:\u001b[0m\u001b[0;34m\u001b[0m\u001b[0m\n",
      "\u001b[0;32mpandas/_libs/src/inference.pyx\u001b[0m in \u001b[0;36mpandas._libs.lib.map_infer\u001b[0;34m()\u001b[0m\n",
      "\u001b[0;32m<ipython-input-27-849f73aa76c3>\u001b[0m in \u001b[0;36m<lambda>\u001b[0;34m(x)\u001b[0m\n\u001b[1;32m      1\u001b[0m \u001b[0my_hat\u001b[0m \u001b[0;34m=\u001b[0m \u001b[0mresult1\u001b[0m\u001b[0;34m.\u001b[0m\u001b[0mpredict\u001b[0m\u001b[0;34m(\u001b[0m\u001b[0mtest\u001b[0m\u001b[0;34m)\u001b[0m\u001b[0;34m\u001b[0m\u001b[0m\n\u001b[0;32m----> 2\u001b[0;31m \u001b[0my_hat\u001b[0m \u001b[0;34m=\u001b[0m \u001b[0my_hat\u001b[0m\u001b[0;34m.\u001b[0m\u001b[0mapply\u001b[0m\u001b[0;34m(\u001b[0m\u001b[0;32mlambda\u001b[0m \u001b[0mx\u001b[0m\u001b[0;34m:\u001b[0m \u001b[0mint\u001b[0m\u001b[0;34m(\u001b[0m\u001b[0mround\u001b[0m\u001b[0;34m(\u001b[0m\u001b[0mnp\u001b[0m\u001b[0;34m.\u001b[0m\u001b[0mexp\u001b[0m\u001b[0;34m(\u001b[0m\u001b[0mx\u001b[0m\u001b[0;34m)\u001b[0m\u001b[0;34m,\u001b[0m \u001b[0;36m0\u001b[0m\u001b[0;34m)\u001b[0m\u001b[0;34m)\u001b[0m\u001b[0;34m)\u001b[0m\u001b[0;34m\u001b[0m\u001b[0m\n\u001b[0m\u001b[1;32m      3\u001b[0m \u001b[0mans\u001b[0m \u001b[0;34m=\u001b[0m \u001b[0mpd\u001b[0m\u001b[0;34m.\u001b[0m\u001b[0mconcat\u001b[0m\u001b[0;34m(\u001b[0m\u001b[0;34m[\u001b[0m\u001b[0msubmission\u001b[0m\u001b[0;34m[\u001b[0m\u001b[0;34m'id'\u001b[0m\u001b[0;34m]\u001b[0m\u001b[0;34m,\u001b[0m \u001b[0my_hat\u001b[0m\u001b[0;34m]\u001b[0m\u001b[0;34m,\u001b[0m \u001b[0maxis\u001b[0m\u001b[0;34m=\u001b[0m\u001b[0;36m1\u001b[0m\u001b[0;34m)\u001b[0m\u001b[0;34m\u001b[0m\u001b[0m\n\u001b[1;32m      4\u001b[0m \u001b[0mans\u001b[0m\u001b[0;34m.\u001b[0m\u001b[0mrename\u001b[0m\u001b[0;34m(\u001b[0m\u001b[0mcolumns\u001b[0m\u001b[0;34m=\u001b[0m\u001b[0;34m{\u001b[0m\u001b[0;34m'id'\u001b[0m\u001b[0;34m:\u001b[0m\u001b[0;34m'id'\u001b[0m \u001b[0;34m,\u001b[0m \u001b[0;36m0\u001b[0m \u001b[0;34m:\u001b[0m\u001b[0;34m'trip_duration'\u001b[0m\u001b[0;34m}\u001b[0m\u001b[0;34m,\u001b[0m \u001b[0minplace\u001b[0m\u001b[0;34m=\u001b[0m\u001b[0;32mTrue\u001b[0m\u001b[0;34m)\u001b[0m\u001b[0;34m\u001b[0m\u001b[0m\n\u001b[1;32m      5\u001b[0m \u001b[0mans\u001b[0m\u001b[0;34m.\u001b[0m\u001b[0mtail\u001b[0m\u001b[0;34m(\u001b[0m\u001b[0;34m)\u001b[0m\u001b[0;34m\u001b[0m\u001b[0m\n",
      "\u001b[0;31mOverflowError\u001b[0m: cannot convert float infinity to integer"
     ]
    }
   ],
   "source": [
    "y_hat = result1.predict(test)\n",
    "y_hat = y_hat.apply(lambda x: int(round(np.exp(x), 0)))\n",
    "ans = pd.concat([submission['id'], y_hat], axis=1)\n",
    "ans.rename(columns={'id':'id' , 0 :'trip_duration'}, inplace=True)\n",
    "ans.tail()"
   ]
  },
  {
   "cell_type": "code",
   "execution_count": 67,
   "metadata": {},
   "outputs": [],
   "source": [
    "ans.to_csv('answer.csv', index = False)"
   ]
  },
  {
   "cell_type": "code",
   "execution_count": 105,
   "metadata": {},
   "outputs": [
    {
     "data": {
      "text/plain": [
       "count     625134.0\n",
       "unique    130842.0\n",
       "top          431.0\n",
       "freq         475.0\n",
       "dtype: float64"
      ]
     },
     "execution_count": 105,
     "metadata": {},
     "output_type": "execute_result"
    }
   ],
   "source": [
    "y_hat.describe()"
   ]
  },
  {
   "cell_type": "code",
   "execution_count": 104,
   "metadata": {},
   "outputs": [
    {
     "data": {
      "text/plain": [
       "0                2923\n",
       "1                3047\n",
       "2                 705\n",
       "3               36945\n",
       "4                 448\n",
       "5               12181\n",
       "6                6268\n",
       "7                4022\n",
       "8         2.93054e+10\n",
       "9                1130\n",
       "10              24384\n",
       "11                391\n",
       "12                696\n",
       "13               2494\n",
       "14              42476\n",
       "15              20647\n",
       "16               6972\n",
       "17               1081\n",
       "18                319\n",
       "19              42184\n",
       "20                394\n",
       "21               1301\n",
       "22               1000\n",
       "23              22685\n",
       "24              34187\n",
       "25             299053\n",
       "26               2065\n",
       "27                522\n",
       "28        5.07928e+06\n",
       "29             660952\n",
       "             ...     \n",
       "625104            613\n",
       "625105            596\n",
       "625106           1662\n",
       "625107            706\n",
       "625108         396767\n",
       "625109           3776\n",
       "625110            269\n",
       "625111           9336\n",
       "625112            647\n",
       "625113           1113\n",
       "625114            980\n",
       "625115    1.78633e+09\n",
       "625116           1762\n",
       "625117    1.83479e+06\n",
       "625118          53548\n",
       "625119            716\n",
       "625120            737\n",
       "625121            368\n",
       "625122            528\n",
       "625123          67513\n",
       "625124           3294\n",
       "625125           4009\n",
       "625126            546\n",
       "625127            642\n",
       "625128            307\n",
       "625129            416\n",
       "625130          76502\n",
       "625131         504801\n",
       "625132    1.04951e+11\n",
       "625133          57918\n",
       "Length: 625134, dtype: object"
      ]
     },
     "execution_count": 104,
     "metadata": {},
     "output_type": "execute_result"
    }
   ],
   "source": [
    "y_hat = result1.predict(test)\n",
    "y_hat = y_hat.apply(lambda x: (round(np.exp(x))),0)\n",
    "y_hat"
   ]
  },
  {
   "cell_type": "code",
   "execution_count": 100,
   "metadata": {},
   "outputs": [
    {
     "name": "stderr",
     "output_type": "stream",
     "text": [
      "/usr/local/lib/python3.6/site-packages/ipykernel_launcher.py:1: RuntimeWarning: overflow encountered in exp\n",
      "  \"\"\"Entry point for launching an IPython kernel.\n"
     ]
    }
   ],
   "source": [
    "data1 = np.exp(data)"
   ]
  },
  {
   "cell_type": "code",
   "execution_count": 103,
   "metadata": {},
   "outputs": [
    {
     "ename": "OverflowError",
     "evalue": "cannot convert float infinity to integer",
     "output_type": "error",
     "traceback": [
      "\u001b[0;31m---------------------------------------------------------------------------\u001b[0m",
      "\u001b[0;31mOverflowError\u001b[0m                             Traceback (most recent call last)",
      "\u001b[0;32m<ipython-input-103-103d8802ed08>\u001b[0m in \u001b[0;36m<module>\u001b[0;34m()\u001b[0m\n\u001b[0;32m----> 1\u001b[0;31m \u001b[0mdata1\u001b[0m \u001b[0;34m=\u001b[0m \u001b[0mdata1\u001b[0m\u001b[0;34m.\u001b[0m\u001b[0mapply\u001b[0m\u001b[0;34m(\u001b[0m\u001b[0;32mlambda\u001b[0m \u001b[0mx\u001b[0m\u001b[0;34m:\u001b[0m \u001b[0mint\u001b[0m\u001b[0;34m(\u001b[0m\u001b[0mx\u001b[0m\u001b[0;34m)\u001b[0m\u001b[0;34m)\u001b[0m\u001b[0;34m\u001b[0m\u001b[0m\n\u001b[0m",
      "\u001b[0;32m/usr/local/lib/python3.6/site-packages/pandas/core/series.py\u001b[0m in \u001b[0;36mapply\u001b[0;34m(self, func, convert_dtype, args, **kwds)\u001b[0m\n\u001b[1;32m   2549\u001b[0m             \u001b[0;32melse\u001b[0m\u001b[0;34m:\u001b[0m\u001b[0;34m\u001b[0m\u001b[0m\n\u001b[1;32m   2550\u001b[0m                 \u001b[0mvalues\u001b[0m \u001b[0;34m=\u001b[0m \u001b[0mself\u001b[0m\u001b[0;34m.\u001b[0m\u001b[0masobject\u001b[0m\u001b[0;34m\u001b[0m\u001b[0m\n\u001b[0;32m-> 2551\u001b[0;31m                 \u001b[0mmapped\u001b[0m \u001b[0;34m=\u001b[0m \u001b[0mlib\u001b[0m\u001b[0;34m.\u001b[0m\u001b[0mmap_infer\u001b[0m\u001b[0;34m(\u001b[0m\u001b[0mvalues\u001b[0m\u001b[0;34m,\u001b[0m \u001b[0mf\u001b[0m\u001b[0;34m,\u001b[0m \u001b[0mconvert\u001b[0m\u001b[0;34m=\u001b[0m\u001b[0mconvert_dtype\u001b[0m\u001b[0;34m)\u001b[0m\u001b[0;34m\u001b[0m\u001b[0m\n\u001b[0m\u001b[1;32m   2552\u001b[0m \u001b[0;34m\u001b[0m\u001b[0m\n\u001b[1;32m   2553\u001b[0m         \u001b[0;32mif\u001b[0m \u001b[0mlen\u001b[0m\u001b[0;34m(\u001b[0m\u001b[0mmapped\u001b[0m\u001b[0;34m)\u001b[0m \u001b[0;32mand\u001b[0m \u001b[0misinstance\u001b[0m\u001b[0;34m(\u001b[0m\u001b[0mmapped\u001b[0m\u001b[0;34m[\u001b[0m\u001b[0;36m0\u001b[0m\u001b[0;34m]\u001b[0m\u001b[0;34m,\u001b[0m \u001b[0mSeries\u001b[0m\u001b[0;34m)\u001b[0m\u001b[0;34m:\u001b[0m\u001b[0;34m\u001b[0m\u001b[0m\n",
      "\u001b[0;32mpandas/_libs/src/inference.pyx\u001b[0m in \u001b[0;36mpandas._libs.lib.map_infer\u001b[0;34m()\u001b[0m\n",
      "\u001b[0;32m<ipython-input-103-103d8802ed08>\u001b[0m in \u001b[0;36m<lambda>\u001b[0;34m(x)\u001b[0m\n\u001b[0;32m----> 1\u001b[0;31m \u001b[0mdata1\u001b[0m \u001b[0;34m=\u001b[0m \u001b[0mdata1\u001b[0m\u001b[0;34m.\u001b[0m\u001b[0mapply\u001b[0m\u001b[0;34m(\u001b[0m\u001b[0;32mlambda\u001b[0m \u001b[0mx\u001b[0m\u001b[0;34m:\u001b[0m \u001b[0mint\u001b[0m\u001b[0;34m(\u001b[0m\u001b[0mx\u001b[0m\u001b[0;34m)\u001b[0m\u001b[0;34m)\u001b[0m\u001b[0;34m\u001b[0m\u001b[0m\n\u001b[0m",
      "\u001b[0;31mOverflowError\u001b[0m: cannot convert float infinity to integer"
     ]
    }
   ],
   "source": [
    "data1 = data1.apply(lambda x: int(x))"
   ]
  },
  {
   "cell_type": "markdown",
   "metadata": {},
   "source": [
    "### outlier 2회"
   ]
  },
  {
   "cell_type": "code",
   "execution_count": null,
   "metadata": {},
   "outputs": [],
   "source": [
    "train2 = cooks_distace(result1, train1)\n",
    "train2.tail()"
   ]
  },
  {
   "cell_type": "code",
   "execution_count": null,
   "metadata": {
    "scrolled": true
   },
   "outputs": [],
   "source": [
    "# regression model\n",
    "model2 =  sm.OLS.from_formula(\"trip_duration ~ {}\".format(features), data = train2)\n",
    "result2 = model2.fit()\n",
    "result2.summary()"
   ]
  },
  {
   "cell_type": "code",
   "execution_count": null,
   "metadata": {
    "scrolled": true
   },
   "outputs": [],
   "source": [
    "report(model2)"
   ]
  },
  {
   "cell_type": "code",
   "execution_count": null,
   "metadata": {},
   "outputs": [],
   "source": [
    "import scipy as sp\n",
    "# probplot\n",
    "f, ax = plt.subplots(figsize=(8, 6))\n",
    "sp.stats.probplot(result2.resid, plot = plt)\n",
    "\n",
    "plt.show()"
   ]
  },
  {
   "cell_type": "code",
   "execution_count": null,
   "metadata": {},
   "outputs": [],
   "source": [
    "# Chi-square 확인\n",
    "resid = sms.omni_normtest(result2.resid)\n",
    "for i in zip(['Chi^2', 'P-value'], resid):\n",
    "    print(\"%-12s: %6.3f\" % i)"
   ]
  },
  {
   "cell_type": "markdown",
   "metadata": {},
   "source": [
    "### outlier 1회"
   ]
  },
  {
   "cell_type": "code",
   "execution_count": 22,
   "metadata": {},
   "outputs": [
    {
     "data": {
      "text/html": [
       "<div>\n",
       "<style scoped>\n",
       "    .dataframe tbody tr th:only-of-type {\n",
       "        vertical-align: middle;\n",
       "    }\n",
       "\n",
       "    .dataframe tbody tr th {\n",
       "        vertical-align: top;\n",
       "    }\n",
       "\n",
       "    .dataframe thead th {\n",
       "        text-align: right;\n",
       "    }\n",
       "</style>\n",
       "<table border=\"1\" class=\"dataframe\">\n",
       "  <thead>\n",
       "    <tr style=\"text-align: right;\">\n",
       "      <th></th>\n",
       "      <th>const</th>\n",
       "      <th>vendor_id</th>\n",
       "      <th>passenger_count</th>\n",
       "      <th>store_and_fwd_flag</th>\n",
       "      <th>month</th>\n",
       "      <th>weekday</th>\n",
       "      <th>hour</th>\n",
       "      <th>holiday</th>\n",
       "      <th>pickup_longitude</th>\n",
       "      <th>pickup_latitude</th>\n",
       "      <th>dropoff_longitude</th>\n",
       "      <th>dropoff_latitude</th>\n",
       "      <th>dist</th>\n",
       "      <th>trip_duration</th>\n",
       "    </tr>\n",
       "  </thead>\n",
       "  <tbody>\n",
       "    <tr>\n",
       "      <th>1415915</th>\n",
       "      <td>1.0</td>\n",
       "      <td>2</td>\n",
       "      <td>4</td>\n",
       "      <td>0</td>\n",
       "      <td>4</td>\n",
       "      <td>4</td>\n",
       "      <td>13</td>\n",
       "      <td>0</td>\n",
       "      <td>-73.982201</td>\n",
       "      <td>40.745522</td>\n",
       "      <td>-73.994911</td>\n",
       "      <td>40.740170</td>\n",
       "      <td>0.799447</td>\n",
       "      <td>6.656727</td>\n",
       "    </tr>\n",
       "    <tr>\n",
       "      <th>1415916</th>\n",
       "      <td>1.0</td>\n",
       "      <td>1</td>\n",
       "      <td>1</td>\n",
       "      <td>0</td>\n",
       "      <td>1</td>\n",
       "      <td>6</td>\n",
       "      <td>7</td>\n",
       "      <td>0</td>\n",
       "      <td>-74.000946</td>\n",
       "      <td>40.747379</td>\n",
       "      <td>-73.970184</td>\n",
       "      <td>40.796547</td>\n",
       "      <td>1.952465</td>\n",
       "      <td>6.484635</td>\n",
       "    </tr>\n",
       "    <tr>\n",
       "      <th>1415917</th>\n",
       "      <td>1.0</td>\n",
       "      <td>2</td>\n",
       "      <td>1</td>\n",
       "      <td>0</td>\n",
       "      <td>4</td>\n",
       "      <td>4</td>\n",
       "      <td>6</td>\n",
       "      <td>0</td>\n",
       "      <td>-73.959129</td>\n",
       "      <td>40.768799</td>\n",
       "      <td>-74.004433</td>\n",
       "      <td>40.707371</td>\n",
       "      <td>2.176987</td>\n",
       "      <td>6.638568</td>\n",
       "    </tr>\n",
       "    <tr>\n",
       "      <th>1415918</th>\n",
       "      <td>1.0</td>\n",
       "      <td>1</td>\n",
       "      <td>1</td>\n",
       "      <td>0</td>\n",
       "      <td>1</td>\n",
       "      <td>1</td>\n",
       "      <td>15</td>\n",
       "      <td>0</td>\n",
       "      <td>-73.982079</td>\n",
       "      <td>40.749062</td>\n",
       "      <td>-73.974632</td>\n",
       "      <td>40.757107</td>\n",
       "      <td>0.738062</td>\n",
       "      <td>5.921578</td>\n",
       "    </tr>\n",
       "    <tr>\n",
       "      <th>1415919</th>\n",
       "      <td>1.0</td>\n",
       "      <td>1</td>\n",
       "      <td>1</td>\n",
       "      <td>0</td>\n",
       "      <td>4</td>\n",
       "      <td>1</td>\n",
       "      <td>14</td>\n",
       "      <td>0</td>\n",
       "      <td>-73.979538</td>\n",
       "      <td>40.781750</td>\n",
       "      <td>-73.972809</td>\n",
       "      <td>40.790585</td>\n",
       "      <td>0.757684</td>\n",
       "      <td>5.288267</td>\n",
       "    </tr>\n",
       "  </tbody>\n",
       "</table>\n",
       "</div>"
      ],
      "text/plain": [
       "         const  vendor_id  passenger_count  store_and_fwd_flag  month  \\\n",
       "1415915    1.0          2                4                   0      4   \n",
       "1415916    1.0          1                1                   0      1   \n",
       "1415917    1.0          2                1                   0      4   \n",
       "1415918    1.0          1                1                   0      1   \n",
       "1415919    1.0          1                1                   0      4   \n",
       "\n",
       "         weekday  hour  holiday  pickup_longitude  pickup_latitude  \\\n",
       "1415915        4    13        0        -73.982201        40.745522   \n",
       "1415916        6     7        0        -74.000946        40.747379   \n",
       "1415917        4     6        0        -73.959129        40.768799   \n",
       "1415918        1    15        0        -73.982079        40.749062   \n",
       "1415919        1    14        0        -73.979538        40.781750   \n",
       "\n",
       "         dropoff_longitude  dropoff_latitude      dist  trip_duration  \n",
       "1415915         -73.994911         40.740170  0.799447       6.656727  \n",
       "1415916         -73.970184         40.796547  1.952465       6.484635  \n",
       "1415917         -74.004433         40.707371  2.176987       6.638568  \n",
       "1415918         -73.974632         40.757107  0.738062       5.921578  \n",
       "1415919         -73.972809         40.790585  0.757684       5.288267  "
      ]
     },
     "execution_count": 22,
     "metadata": {},
     "output_type": "execute_result"
    }
   ],
   "source": [
    "train1 = cooks_distace(result, train)\n",
    "train1.tail()"
   ]
  },
  {
   "cell_type": "code",
   "execution_count": null,
   "metadata": {
    "scrolled": true
   },
   "outputs": [],
   "source": [
    "# regression model\n",
    "model1 =  sm.OLS.from_formula(\"trip_duration ~ {}\".format(features), data = train1)\n",
    "result1 = model1.fit()\n",
    "result1.summary()"
   ]
  },
  {
   "cell_type": "code",
   "execution_count": null,
   "metadata": {
    "scrolled": true
   },
   "outputs": [],
   "source": [
    "report(model1)"
   ]
  },
  {
   "cell_type": "code",
   "execution_count": null,
   "metadata": {},
   "outputs": [],
   "source": [
    "import scipy as sp\n",
    "# probplot\n",
    "f, ax = plt.subplots(figsize=(8, 6))\n",
    "sp.stats.probplot(result1.resid, plot = plt)\n",
    "\n",
    "plt.show()"
   ]
  },
  {
   "cell_type": "code",
   "execution_count": 21,
   "metadata": {},
   "outputs": [
    {
     "name": "stdout",
     "output_type": "stream",
     "text": [
      "Chi^2       : 1662.768\n",
      "P-value     :  0.000\n"
     ]
    }
   ],
   "source": [
    "# Chi-square 확인\n",
    "resid = sms.omni_normtest(result1.resid)\n",
    "for i in zip(['Chi^2', 'P-value'], resid):\n",
    "    print(\"%-12s: %6.3f\" % i)"
   ]
  },
  {
   "cell_type": "code",
   "execution_count": null,
   "metadata": {},
   "outputs": [],
   "source": []
  },
  {
   "cell_type": "markdown",
   "metadata": {},
   "source": [
    "### outlier 1회"
   ]
  },
  {
   "cell_type": "code",
   "execution_count": 22,
   "metadata": {},
   "outputs": [
    {
     "data": {
      "text/html": [
       "<div>\n",
       "<style scoped>\n",
       "    .dataframe tbody tr th:only-of-type {\n",
       "        vertical-align: middle;\n",
       "    }\n",
       "\n",
       "    .dataframe tbody tr th {\n",
       "        vertical-align: top;\n",
       "    }\n",
       "\n",
       "    .dataframe thead th {\n",
       "        text-align: right;\n",
       "    }\n",
       "</style>\n",
       "<table border=\"1\" class=\"dataframe\">\n",
       "  <thead>\n",
       "    <tr style=\"text-align: right;\">\n",
       "      <th></th>\n",
       "      <th>const</th>\n",
       "      <th>vendor_id</th>\n",
       "      <th>passenger_count</th>\n",
       "      <th>store_and_fwd_flag</th>\n",
       "      <th>month</th>\n",
       "      <th>weekday</th>\n",
       "      <th>hour</th>\n",
       "      <th>holiday</th>\n",
       "      <th>pickup_longitude</th>\n",
       "      <th>pickup_latitude</th>\n",
       "      <th>dropoff_longitude</th>\n",
       "      <th>dropoff_latitude</th>\n",
       "      <th>dist</th>\n",
       "      <th>trip_duration</th>\n",
       "    </tr>\n",
       "  </thead>\n",
       "  <tbody>\n",
       "    <tr>\n",
       "      <th>1415915</th>\n",
       "      <td>1.0</td>\n",
       "      <td>2</td>\n",
       "      <td>4</td>\n",
       "      <td>0</td>\n",
       "      <td>4</td>\n",
       "      <td>4</td>\n",
       "      <td>13</td>\n",
       "      <td>0</td>\n",
       "      <td>-73.982201</td>\n",
       "      <td>40.745522</td>\n",
       "      <td>-73.994911</td>\n",
       "      <td>40.740170</td>\n",
       "      <td>0.799447</td>\n",
       "      <td>6.656727</td>\n",
       "    </tr>\n",
       "    <tr>\n",
       "      <th>1415916</th>\n",
       "      <td>1.0</td>\n",
       "      <td>1</td>\n",
       "      <td>1</td>\n",
       "      <td>0</td>\n",
       "      <td>1</td>\n",
       "      <td>6</td>\n",
       "      <td>7</td>\n",
       "      <td>0</td>\n",
       "      <td>-74.000946</td>\n",
       "      <td>40.747379</td>\n",
       "      <td>-73.970184</td>\n",
       "      <td>40.796547</td>\n",
       "      <td>1.952465</td>\n",
       "      <td>6.484635</td>\n",
       "    </tr>\n",
       "    <tr>\n",
       "      <th>1415917</th>\n",
       "      <td>1.0</td>\n",
       "      <td>2</td>\n",
       "      <td>1</td>\n",
       "      <td>0</td>\n",
       "      <td>4</td>\n",
       "      <td>4</td>\n",
       "      <td>6</td>\n",
       "      <td>0</td>\n",
       "      <td>-73.959129</td>\n",
       "      <td>40.768799</td>\n",
       "      <td>-74.004433</td>\n",
       "      <td>40.707371</td>\n",
       "      <td>2.176987</td>\n",
       "      <td>6.638568</td>\n",
       "    </tr>\n",
       "    <tr>\n",
       "      <th>1415918</th>\n",
       "      <td>1.0</td>\n",
       "      <td>1</td>\n",
       "      <td>1</td>\n",
       "      <td>0</td>\n",
       "      <td>1</td>\n",
       "      <td>1</td>\n",
       "      <td>15</td>\n",
       "      <td>0</td>\n",
       "      <td>-73.982079</td>\n",
       "      <td>40.749062</td>\n",
       "      <td>-73.974632</td>\n",
       "      <td>40.757107</td>\n",
       "      <td>0.738062</td>\n",
       "      <td>5.921578</td>\n",
       "    </tr>\n",
       "    <tr>\n",
       "      <th>1415919</th>\n",
       "      <td>1.0</td>\n",
       "      <td>1</td>\n",
       "      <td>1</td>\n",
       "      <td>0</td>\n",
       "      <td>4</td>\n",
       "      <td>1</td>\n",
       "      <td>14</td>\n",
       "      <td>0</td>\n",
       "      <td>-73.979538</td>\n",
       "      <td>40.781750</td>\n",
       "      <td>-73.972809</td>\n",
       "      <td>40.790585</td>\n",
       "      <td>0.757684</td>\n",
       "      <td>5.288267</td>\n",
       "    </tr>\n",
       "  </tbody>\n",
       "</table>\n",
       "</div>"
      ],
      "text/plain": [
       "         const  vendor_id  passenger_count  store_and_fwd_flag  month  \\\n",
       "1415915    1.0          2                4                   0      4   \n",
       "1415916    1.0          1                1                   0      1   \n",
       "1415917    1.0          2                1                   0      4   \n",
       "1415918    1.0          1                1                   0      1   \n",
       "1415919    1.0          1                1                   0      4   \n",
       "\n",
       "         weekday  hour  holiday  pickup_longitude  pickup_latitude  \\\n",
       "1415915        4    13        0        -73.982201        40.745522   \n",
       "1415916        6     7        0        -74.000946        40.747379   \n",
       "1415917        4     6        0        -73.959129        40.768799   \n",
       "1415918        1    15        0        -73.982079        40.749062   \n",
       "1415919        1    14        0        -73.979538        40.781750   \n",
       "\n",
       "         dropoff_longitude  dropoff_latitude      dist  trip_duration  \n",
       "1415915         -73.994911         40.740170  0.799447       6.656727  \n",
       "1415916         -73.970184         40.796547  1.952465       6.484635  \n",
       "1415917         -74.004433         40.707371  2.176987       6.638568  \n",
       "1415918         -73.974632         40.757107  0.738062       5.921578  \n",
       "1415919         -73.972809         40.790585  0.757684       5.288267  "
      ]
     },
     "execution_count": 22,
     "metadata": {},
     "output_type": "execute_result"
    }
   ],
   "source": [
    "train1 = cooks_distace(result, train)\n",
    "train1.tail()"
   ]
  },
  {
   "cell_type": "code",
   "execution_count": null,
   "metadata": {
    "scrolled": true
   },
   "outputs": [],
   "source": [
    "# regression model\n",
    "model1 =  sm.OLS.from_formula(\"trip_duration ~ {}\".format(features), data = train1)\n",
    "result1 = model1.fit()\n",
    "result1.summary()"
   ]
  },
  {
   "cell_type": "code",
   "execution_count": null,
   "metadata": {
    "scrolled": true
   },
   "outputs": [],
   "source": [
    "report(model1)"
   ]
  },
  {
   "cell_type": "code",
   "execution_count": null,
   "metadata": {},
   "outputs": [],
   "source": [
    "import scipy as sp\n",
    "# probplot\n",
    "f, ax = plt.subplots(figsize=(8, 6))\n",
    "sp.stats.probplot(result1.resid, plot = plt)\n",
    "\n",
    "plt.show()"
   ]
  },
  {
   "cell_type": "code",
   "execution_count": 21,
   "metadata": {},
   "outputs": [
    {
     "name": "stdout",
     "output_type": "stream",
     "text": [
      "Chi^2       : 1662.768\n",
      "P-value     :  0.000\n"
     ]
    }
   ],
   "source": [
    "# Chi-square 확인\n",
    "resid = sms.omni_normtest(result1.resid)\n",
    "for i in zip(['Chi^2', 'P-value'], resid):\n",
    "    print(\"%-12s: %6.3f\" % i)"
   ]
  },
  {
   "cell_type": "markdown",
   "metadata": {},
   "source": [
    "### outlier 1회"
   ]
  },
  {
   "cell_type": "code",
   "execution_count": 22,
   "metadata": {},
   "outputs": [
    {
     "data": {
      "text/html": [
       "<div>\n",
       "<style scoped>\n",
       "    .dataframe tbody tr th:only-of-type {\n",
       "        vertical-align: middle;\n",
       "    }\n",
       "\n",
       "    .dataframe tbody tr th {\n",
       "        vertical-align: top;\n",
       "    }\n",
       "\n",
       "    .dataframe thead th {\n",
       "        text-align: right;\n",
       "    }\n",
       "</style>\n",
       "<table border=\"1\" class=\"dataframe\">\n",
       "  <thead>\n",
       "    <tr style=\"text-align: right;\">\n",
       "      <th></th>\n",
       "      <th>const</th>\n",
       "      <th>vendor_id</th>\n",
       "      <th>passenger_count</th>\n",
       "      <th>store_and_fwd_flag</th>\n",
       "      <th>month</th>\n",
       "      <th>weekday</th>\n",
       "      <th>hour</th>\n",
       "      <th>holiday</th>\n",
       "      <th>pickup_longitude</th>\n",
       "      <th>pickup_latitude</th>\n",
       "      <th>dropoff_longitude</th>\n",
       "      <th>dropoff_latitude</th>\n",
       "      <th>dist</th>\n",
       "      <th>trip_duration</th>\n",
       "    </tr>\n",
       "  </thead>\n",
       "  <tbody>\n",
       "    <tr>\n",
       "      <th>1415915</th>\n",
       "      <td>1.0</td>\n",
       "      <td>2</td>\n",
       "      <td>4</td>\n",
       "      <td>0</td>\n",
       "      <td>4</td>\n",
       "      <td>4</td>\n",
       "      <td>13</td>\n",
       "      <td>0</td>\n",
       "      <td>-73.982201</td>\n",
       "      <td>40.745522</td>\n",
       "      <td>-73.994911</td>\n",
       "      <td>40.740170</td>\n",
       "      <td>0.799447</td>\n",
       "      <td>6.656727</td>\n",
       "    </tr>\n",
       "    <tr>\n",
       "      <th>1415916</th>\n",
       "      <td>1.0</td>\n",
       "      <td>1</td>\n",
       "      <td>1</td>\n",
       "      <td>0</td>\n",
       "      <td>1</td>\n",
       "      <td>6</td>\n",
       "      <td>7</td>\n",
       "      <td>0</td>\n",
       "      <td>-74.000946</td>\n",
       "      <td>40.747379</td>\n",
       "      <td>-73.970184</td>\n",
       "      <td>40.796547</td>\n",
       "      <td>1.952465</td>\n",
       "      <td>6.484635</td>\n",
       "    </tr>\n",
       "    <tr>\n",
       "      <th>1415917</th>\n",
       "      <td>1.0</td>\n",
       "      <td>2</td>\n",
       "      <td>1</td>\n",
       "      <td>0</td>\n",
       "      <td>4</td>\n",
       "      <td>4</td>\n",
       "      <td>6</td>\n",
       "      <td>0</td>\n",
       "      <td>-73.959129</td>\n",
       "      <td>40.768799</td>\n",
       "      <td>-74.004433</td>\n",
       "      <td>40.707371</td>\n",
       "      <td>2.176987</td>\n",
       "      <td>6.638568</td>\n",
       "    </tr>\n",
       "    <tr>\n",
       "      <th>1415918</th>\n",
       "      <td>1.0</td>\n",
       "      <td>1</td>\n",
       "      <td>1</td>\n",
       "      <td>0</td>\n",
       "      <td>1</td>\n",
       "      <td>1</td>\n",
       "      <td>15</td>\n",
       "      <td>0</td>\n",
       "      <td>-73.982079</td>\n",
       "      <td>40.749062</td>\n",
       "      <td>-73.974632</td>\n",
       "      <td>40.757107</td>\n",
       "      <td>0.738062</td>\n",
       "      <td>5.921578</td>\n",
       "    </tr>\n",
       "    <tr>\n",
       "      <th>1415919</th>\n",
       "      <td>1.0</td>\n",
       "      <td>1</td>\n",
       "      <td>1</td>\n",
       "      <td>0</td>\n",
       "      <td>4</td>\n",
       "      <td>1</td>\n",
       "      <td>14</td>\n",
       "      <td>0</td>\n",
       "      <td>-73.979538</td>\n",
       "      <td>40.781750</td>\n",
       "      <td>-73.972809</td>\n",
       "      <td>40.790585</td>\n",
       "      <td>0.757684</td>\n",
       "      <td>5.288267</td>\n",
       "    </tr>\n",
       "  </tbody>\n",
       "</table>\n",
       "</div>"
      ],
      "text/plain": [
       "         const  vendor_id  passenger_count  store_and_fwd_flag  month  \\\n",
       "1415915    1.0          2                4                   0      4   \n",
       "1415916    1.0          1                1                   0      1   \n",
       "1415917    1.0          2                1                   0      4   \n",
       "1415918    1.0          1                1                   0      1   \n",
       "1415919    1.0          1                1                   0      4   \n",
       "\n",
       "         weekday  hour  holiday  pickup_longitude  pickup_latitude  \\\n",
       "1415915        4    13        0        -73.982201        40.745522   \n",
       "1415916        6     7        0        -74.000946        40.747379   \n",
       "1415917        4     6        0        -73.959129        40.768799   \n",
       "1415918        1    15        0        -73.982079        40.749062   \n",
       "1415919        1    14        0        -73.979538        40.781750   \n",
       "\n",
       "         dropoff_longitude  dropoff_latitude      dist  trip_duration  \n",
       "1415915         -73.994911         40.740170  0.799447       6.656727  \n",
       "1415916         -73.970184         40.796547  1.952465       6.484635  \n",
       "1415917         -74.004433         40.707371  2.176987       6.638568  \n",
       "1415918         -73.974632         40.757107  0.738062       5.921578  \n",
       "1415919         -73.972809         40.790585  0.757684       5.288267  "
      ]
     },
     "execution_count": 22,
     "metadata": {},
     "output_type": "execute_result"
    }
   ],
   "source": [
    "train1 = cooks_distace(result, train)\n",
    "train1.tail()"
   ]
  },
  {
   "cell_type": "code",
   "execution_count": null,
   "metadata": {
    "scrolled": true
   },
   "outputs": [],
   "source": [
    "# regression model\n",
    "model1 =  sm.OLS.from_formula(\"trip_duration ~ {}\".format(features), data = train1)\n",
    "result1 = model1.fit()\n",
    "result1.summary()"
   ]
  },
  {
   "cell_type": "code",
   "execution_count": null,
   "metadata": {
    "scrolled": true
   },
   "outputs": [],
   "source": [
    "report(model1)"
   ]
  },
  {
   "cell_type": "code",
   "execution_count": null,
   "metadata": {},
   "outputs": [],
   "source": [
    "import scipy as sp\n",
    "# probplot\n",
    "f, ax = plt.subplots(figsize=(8, 6))\n",
    "sp.stats.probplot(result1.resid, plot = plt)\n",
    "\n",
    "plt.show()"
   ]
  },
  {
   "cell_type": "code",
   "execution_count": 21,
   "metadata": {},
   "outputs": [
    {
     "name": "stdout",
     "output_type": "stream",
     "text": [
      "Chi^2       : 1662.768\n",
      "P-value     :  0.000\n"
     ]
    }
   ],
   "source": [
    "# Chi-square 확인\n",
    "resid = sms.omni_normtest(result1.resid)\n",
    "for i in zip(['Chi^2', 'P-value'], resid):\n",
    "    print(\"%-12s: %6.3f\" % i)"
   ]
  },
  {
   "cell_type": "markdown",
   "metadata": {},
   "source": [
    "### outlier 1회"
   ]
  },
  {
   "cell_type": "code",
   "execution_count": 22,
   "metadata": {},
   "outputs": [
    {
     "data": {
      "text/html": [
       "<div>\n",
       "<style scoped>\n",
       "    .dataframe tbody tr th:only-of-type {\n",
       "        vertical-align: middle;\n",
       "    }\n",
       "\n",
       "    .dataframe tbody tr th {\n",
       "        vertical-align: top;\n",
       "    }\n",
       "\n",
       "    .dataframe thead th {\n",
       "        text-align: right;\n",
       "    }\n",
       "</style>\n",
       "<table border=\"1\" class=\"dataframe\">\n",
       "  <thead>\n",
       "    <tr style=\"text-align: right;\">\n",
       "      <th></th>\n",
       "      <th>const</th>\n",
       "      <th>vendor_id</th>\n",
       "      <th>passenger_count</th>\n",
       "      <th>store_and_fwd_flag</th>\n",
       "      <th>month</th>\n",
       "      <th>weekday</th>\n",
       "      <th>hour</th>\n",
       "      <th>holiday</th>\n",
       "      <th>pickup_longitude</th>\n",
       "      <th>pickup_latitude</th>\n",
       "      <th>dropoff_longitude</th>\n",
       "      <th>dropoff_latitude</th>\n",
       "      <th>dist</th>\n",
       "      <th>trip_duration</th>\n",
       "    </tr>\n",
       "  </thead>\n",
       "  <tbody>\n",
       "    <tr>\n",
       "      <th>1415915</th>\n",
       "      <td>1.0</td>\n",
       "      <td>2</td>\n",
       "      <td>4</td>\n",
       "      <td>0</td>\n",
       "      <td>4</td>\n",
       "      <td>4</td>\n",
       "      <td>13</td>\n",
       "      <td>0</td>\n",
       "      <td>-73.982201</td>\n",
       "      <td>40.745522</td>\n",
       "      <td>-73.994911</td>\n",
       "      <td>40.740170</td>\n",
       "      <td>0.799447</td>\n",
       "      <td>6.656727</td>\n",
       "    </tr>\n",
       "    <tr>\n",
       "      <th>1415916</th>\n",
       "      <td>1.0</td>\n",
       "      <td>1</td>\n",
       "      <td>1</td>\n",
       "      <td>0</td>\n",
       "      <td>1</td>\n",
       "      <td>6</td>\n",
       "      <td>7</td>\n",
       "      <td>0</td>\n",
       "      <td>-74.000946</td>\n",
       "      <td>40.747379</td>\n",
       "      <td>-73.970184</td>\n",
       "      <td>40.796547</td>\n",
       "      <td>1.952465</td>\n",
       "      <td>6.484635</td>\n",
       "    </tr>\n",
       "    <tr>\n",
       "      <th>1415917</th>\n",
       "      <td>1.0</td>\n",
       "      <td>2</td>\n",
       "      <td>1</td>\n",
       "      <td>0</td>\n",
       "      <td>4</td>\n",
       "      <td>4</td>\n",
       "      <td>6</td>\n",
       "      <td>0</td>\n",
       "      <td>-73.959129</td>\n",
       "      <td>40.768799</td>\n",
       "      <td>-74.004433</td>\n",
       "      <td>40.707371</td>\n",
       "      <td>2.176987</td>\n",
       "      <td>6.638568</td>\n",
       "    </tr>\n",
       "    <tr>\n",
       "      <th>1415918</th>\n",
       "      <td>1.0</td>\n",
       "      <td>1</td>\n",
       "      <td>1</td>\n",
       "      <td>0</td>\n",
       "      <td>1</td>\n",
       "      <td>1</td>\n",
       "      <td>15</td>\n",
       "      <td>0</td>\n",
       "      <td>-73.982079</td>\n",
       "      <td>40.749062</td>\n",
       "      <td>-73.974632</td>\n",
       "      <td>40.757107</td>\n",
       "      <td>0.738062</td>\n",
       "      <td>5.921578</td>\n",
       "    </tr>\n",
       "    <tr>\n",
       "      <th>1415919</th>\n",
       "      <td>1.0</td>\n",
       "      <td>1</td>\n",
       "      <td>1</td>\n",
       "      <td>0</td>\n",
       "      <td>4</td>\n",
       "      <td>1</td>\n",
       "      <td>14</td>\n",
       "      <td>0</td>\n",
       "      <td>-73.979538</td>\n",
       "      <td>40.781750</td>\n",
       "      <td>-73.972809</td>\n",
       "      <td>40.790585</td>\n",
       "      <td>0.757684</td>\n",
       "      <td>5.288267</td>\n",
       "    </tr>\n",
       "  </tbody>\n",
       "</table>\n",
       "</div>"
      ],
      "text/plain": [
       "         const  vendor_id  passenger_count  store_and_fwd_flag  month  \\\n",
       "1415915    1.0          2                4                   0      4   \n",
       "1415916    1.0          1                1                   0      1   \n",
       "1415917    1.0          2                1                   0      4   \n",
       "1415918    1.0          1                1                   0      1   \n",
       "1415919    1.0          1                1                   0      4   \n",
       "\n",
       "         weekday  hour  holiday  pickup_longitude  pickup_latitude  \\\n",
       "1415915        4    13        0        -73.982201        40.745522   \n",
       "1415916        6     7        0        -74.000946        40.747379   \n",
       "1415917        4     6        0        -73.959129        40.768799   \n",
       "1415918        1    15        0        -73.982079        40.749062   \n",
       "1415919        1    14        0        -73.979538        40.781750   \n",
       "\n",
       "         dropoff_longitude  dropoff_latitude      dist  trip_duration  \n",
       "1415915         -73.994911         40.740170  0.799447       6.656727  \n",
       "1415916         -73.970184         40.796547  1.952465       6.484635  \n",
       "1415917         -74.004433         40.707371  2.176987       6.638568  \n",
       "1415918         -73.974632         40.757107  0.738062       5.921578  \n",
       "1415919         -73.972809         40.790585  0.757684       5.288267  "
      ]
     },
     "execution_count": 22,
     "metadata": {},
     "output_type": "execute_result"
    }
   ],
   "source": [
    "train1 = cooks_distace(result, train)\n",
    "train1.tail()"
   ]
  },
  {
   "cell_type": "code",
   "execution_count": null,
   "metadata": {
    "scrolled": true
   },
   "outputs": [],
   "source": [
    "# regression model\n",
    "model1 =  sm.OLS.from_formula(\"trip_duration ~ {}\".format(features), data = train1)\n",
    "result1 = model1.fit()\n",
    "result1.summary()"
   ]
  },
  {
   "cell_type": "code",
   "execution_count": null,
   "metadata": {
    "scrolled": true
   },
   "outputs": [],
   "source": [
    "report(model1)"
   ]
  },
  {
   "cell_type": "code",
   "execution_count": null,
   "metadata": {},
   "outputs": [],
   "source": [
    "import scipy as sp\n",
    "# probplot\n",
    "f, ax = plt.subplots(figsize=(8, 6))\n",
    "sp.stats.probplot(result1.resid, plot = plt)\n",
    "\n",
    "plt.show()"
   ]
  },
  {
   "cell_type": "code",
   "execution_count": 21,
   "metadata": {},
   "outputs": [
    {
     "name": "stdout",
     "output_type": "stream",
     "text": [
      "Chi^2       : 1662.768\n",
      "P-value     :  0.000\n"
     ]
    }
   ],
   "source": [
    "# Chi-square 확인\n",
    "resid = sms.omni_normtest(result1.resid)\n",
    "for i in zip(['Chi^2', 'P-value'], resid):\n",
    "    print(\"%-12s: %6.3f\" % i)"
   ]
  },
  {
   "cell_type": "markdown",
   "metadata": {},
   "source": [
    "### outlier 1회"
   ]
  },
  {
   "cell_type": "code",
   "execution_count": 22,
   "metadata": {},
   "outputs": [
    {
     "data": {
      "text/html": [
       "<div>\n",
       "<style scoped>\n",
       "    .dataframe tbody tr th:only-of-type {\n",
       "        vertical-align: middle;\n",
       "    }\n",
       "\n",
       "    .dataframe tbody tr th {\n",
       "        vertical-align: top;\n",
       "    }\n",
       "\n",
       "    .dataframe thead th {\n",
       "        text-align: right;\n",
       "    }\n",
       "</style>\n",
       "<table border=\"1\" class=\"dataframe\">\n",
       "  <thead>\n",
       "    <tr style=\"text-align: right;\">\n",
       "      <th></th>\n",
       "      <th>const</th>\n",
       "      <th>vendor_id</th>\n",
       "      <th>passenger_count</th>\n",
       "      <th>store_and_fwd_flag</th>\n",
       "      <th>month</th>\n",
       "      <th>weekday</th>\n",
       "      <th>hour</th>\n",
       "      <th>holiday</th>\n",
       "      <th>pickup_longitude</th>\n",
       "      <th>pickup_latitude</th>\n",
       "      <th>dropoff_longitude</th>\n",
       "      <th>dropoff_latitude</th>\n",
       "      <th>dist</th>\n",
       "      <th>trip_duration</th>\n",
       "    </tr>\n",
       "  </thead>\n",
       "  <tbody>\n",
       "    <tr>\n",
       "      <th>1415915</th>\n",
       "      <td>1.0</td>\n",
       "      <td>2</td>\n",
       "      <td>4</td>\n",
       "      <td>0</td>\n",
       "      <td>4</td>\n",
       "      <td>4</td>\n",
       "      <td>13</td>\n",
       "      <td>0</td>\n",
       "      <td>-73.982201</td>\n",
       "      <td>40.745522</td>\n",
       "      <td>-73.994911</td>\n",
       "      <td>40.740170</td>\n",
       "      <td>0.799447</td>\n",
       "      <td>6.656727</td>\n",
       "    </tr>\n",
       "    <tr>\n",
       "      <th>1415916</th>\n",
       "      <td>1.0</td>\n",
       "      <td>1</td>\n",
       "      <td>1</td>\n",
       "      <td>0</td>\n",
       "      <td>1</td>\n",
       "      <td>6</td>\n",
       "      <td>7</td>\n",
       "      <td>0</td>\n",
       "      <td>-74.000946</td>\n",
       "      <td>40.747379</td>\n",
       "      <td>-73.970184</td>\n",
       "      <td>40.796547</td>\n",
       "      <td>1.952465</td>\n",
       "      <td>6.484635</td>\n",
       "    </tr>\n",
       "    <tr>\n",
       "      <th>1415917</th>\n",
       "      <td>1.0</td>\n",
       "      <td>2</td>\n",
       "      <td>1</td>\n",
       "      <td>0</td>\n",
       "      <td>4</td>\n",
       "      <td>4</td>\n",
       "      <td>6</td>\n",
       "      <td>0</td>\n",
       "      <td>-73.959129</td>\n",
       "      <td>40.768799</td>\n",
       "      <td>-74.004433</td>\n",
       "      <td>40.707371</td>\n",
       "      <td>2.176987</td>\n",
       "      <td>6.638568</td>\n",
       "    </tr>\n",
       "    <tr>\n",
       "      <th>1415918</th>\n",
       "      <td>1.0</td>\n",
       "      <td>1</td>\n",
       "      <td>1</td>\n",
       "      <td>0</td>\n",
       "      <td>1</td>\n",
       "      <td>1</td>\n",
       "      <td>15</td>\n",
       "      <td>0</td>\n",
       "      <td>-73.982079</td>\n",
       "      <td>40.749062</td>\n",
       "      <td>-73.974632</td>\n",
       "      <td>40.757107</td>\n",
       "      <td>0.738062</td>\n",
       "      <td>5.921578</td>\n",
       "    </tr>\n",
       "    <tr>\n",
       "      <th>1415919</th>\n",
       "      <td>1.0</td>\n",
       "      <td>1</td>\n",
       "      <td>1</td>\n",
       "      <td>0</td>\n",
       "      <td>4</td>\n",
       "      <td>1</td>\n",
       "      <td>14</td>\n",
       "      <td>0</td>\n",
       "      <td>-73.979538</td>\n",
       "      <td>40.781750</td>\n",
       "      <td>-73.972809</td>\n",
       "      <td>40.790585</td>\n",
       "      <td>0.757684</td>\n",
       "      <td>5.288267</td>\n",
       "    </tr>\n",
       "  </tbody>\n",
       "</table>\n",
       "</div>"
      ],
      "text/plain": [
       "         const  vendor_id  passenger_count  store_and_fwd_flag  month  \\\n",
       "1415915    1.0          2                4                   0      4   \n",
       "1415916    1.0          1                1                   0      1   \n",
       "1415917    1.0          2                1                   0      4   \n",
       "1415918    1.0          1                1                   0      1   \n",
       "1415919    1.0          1                1                   0      4   \n",
       "\n",
       "         weekday  hour  holiday  pickup_longitude  pickup_latitude  \\\n",
       "1415915        4    13        0        -73.982201        40.745522   \n",
       "1415916        6     7        0        -74.000946        40.747379   \n",
       "1415917        4     6        0        -73.959129        40.768799   \n",
       "1415918        1    15        0        -73.982079        40.749062   \n",
       "1415919        1    14        0        -73.979538        40.781750   \n",
       "\n",
       "         dropoff_longitude  dropoff_latitude      dist  trip_duration  \n",
       "1415915         -73.994911         40.740170  0.799447       6.656727  \n",
       "1415916         -73.970184         40.796547  1.952465       6.484635  \n",
       "1415917         -74.004433         40.707371  2.176987       6.638568  \n",
       "1415918         -73.974632         40.757107  0.738062       5.921578  \n",
       "1415919         -73.972809         40.790585  0.757684       5.288267  "
      ]
     },
     "execution_count": 22,
     "metadata": {},
     "output_type": "execute_result"
    }
   ],
   "source": [
    "train1 = cooks_distace(result, train)\n",
    "train1.tail()"
   ]
  },
  {
   "cell_type": "code",
   "execution_count": null,
   "metadata": {
    "scrolled": true
   },
   "outputs": [],
   "source": [
    "# regression model\n",
    "model1 =  sm.OLS.from_formula(\"trip_duration ~ {}\".format(features), data = train1)\n",
    "result1 = model1.fit()\n",
    "result1.summary()"
   ]
  },
  {
   "cell_type": "code",
   "execution_count": null,
   "metadata": {
    "scrolled": true
   },
   "outputs": [],
   "source": [
    "report(model1)"
   ]
  },
  {
   "cell_type": "code",
   "execution_count": null,
   "metadata": {},
   "outputs": [],
   "source": [
    "import scipy as sp\n",
    "# probplot\n",
    "f, ax = plt.subplots(figsize=(8, 6))\n",
    "sp.stats.probplot(result1.resid, plot = plt)\n",
    "\n",
    "plt.show()"
   ]
  },
  {
   "cell_type": "code",
   "execution_count": 21,
   "metadata": {},
   "outputs": [
    {
     "name": "stdout",
     "output_type": "stream",
     "text": [
      "Chi^2       : 1662.768\n",
      "P-value     :  0.000\n"
     ]
    }
   ],
   "source": [
    "# Chi-square 확인\n",
    "resid = sms.omni_normtest(result1.resid)\n",
    "for i in zip(['Chi^2', 'P-value'], resid):\n",
    "    print(\"%-12s: %6.3f\" % i)"
   ]
  }
 ],
 "metadata": {
  "kernelspec": {
   "display_name": "Python 3",
   "language": "python",
   "name": "python3"
  },
  "language_info": {
   "codemirror_mode": {
    "name": "ipython",
    "version": 3
   },
   "file_extension": ".py",
   "mimetype": "text/x-python",
   "name": "python",
   "nbconvert_exporter": "python",
   "pygments_lexer": "ipython3",
   "version": "3.6.4"
  }
 },
 "nbformat": 4,
 "nbformat_minor": 2
}
