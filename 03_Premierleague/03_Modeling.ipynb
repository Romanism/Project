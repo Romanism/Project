{
 "cells": [
  {
   "cell_type": "markdown",
   "metadata": {},
   "source": [
    "# Modeling"
   ]
  },
  {
   "cell_type": "code",
   "execution_count": 1,
   "metadata": {},
   "outputs": [],
   "source": [
    "from function import *"
   ]
  },
  {
   "cell_type": "code",
   "execution_count": 2,
   "metadata": {},
   "outputs": [],
   "source": [
    "# load data\n",
    "train = pd.read_csv('data/train.csv')\n",
    "test = pd.read_csv('data/test.csv')"
   ]
  },
  {
   "cell_type": "code",
   "execution_count": 3,
   "metadata": {},
   "outputs": [
    {
     "data": {
      "text/html": [
       "<div>\n",
       "<style scoped>\n",
       "    .dataframe tbody tr th:only-of-type {\n",
       "        vertical-align: middle;\n",
       "    }\n",
       "\n",
       "    .dataframe tbody tr th {\n",
       "        vertical-align: top;\n",
       "    }\n",
       "\n",
       "    .dataframe thead th {\n",
       "        text-align: right;\n",
       "    }\n",
       "</style>\n",
       "<table border=\"1\" class=\"dataframe\">\n",
       "  <thead>\n",
       "    <tr style=\"text-align: right;\">\n",
       "      <th></th>\n",
       "      <th>Team</th>\n",
       "      <th>Possession</th>\n",
       "      <th>SOT</th>\n",
       "      <th>Shots</th>\n",
       "      <th>Touches</th>\n",
       "      <th>Passes</th>\n",
       "      <th>Tackles</th>\n",
       "      <th>Clearances</th>\n",
       "      <th>Corners</th>\n",
       "      <th>Offsides</th>\n",
       "      <th>Goal</th>\n",
       "      <th>Year</th>\n",
       "      <th>Home</th>\n",
       "      <th>Result</th>\n",
       "    </tr>\n",
       "  </thead>\n",
       "  <tbody>\n",
       "    <tr>\n",
       "      <th>3795</th>\n",
       "      <td>Stoke City</td>\n",
       "      <td>39.0</td>\n",
       "      <td>3</td>\n",
       "      <td>14</td>\n",
       "      <td>510</td>\n",
       "      <td>319</td>\n",
       "      <td>16</td>\n",
       "      <td>29</td>\n",
       "      <td>10</td>\n",
       "      <td>2</td>\n",
       "      <td>1</td>\n",
       "      <td>2016</td>\n",
       "      <td>0</td>\n",
       "      <td>1</td>\n",
       "    </tr>\n",
       "    <tr>\n",
       "      <th>3796</th>\n",
       "      <td>Swansea City</td>\n",
       "      <td>65.3</td>\n",
       "      <td>2</td>\n",
       "      <td>12</td>\n",
       "      <td>795</td>\n",
       "      <td>589</td>\n",
       "      <td>17</td>\n",
       "      <td>17</td>\n",
       "      <td>7</td>\n",
       "      <td>1</td>\n",
       "      <td>2</td>\n",
       "      <td>2016</td>\n",
       "      <td>1</td>\n",
       "      <td>1</td>\n",
       "    </tr>\n",
       "    <tr>\n",
       "      <th>3797</th>\n",
       "      <td>West Bromwich Albion</td>\n",
       "      <td>34.7</td>\n",
       "      <td>5</td>\n",
       "      <td>16</td>\n",
       "      <td>500</td>\n",
       "      <td>316</td>\n",
       "      <td>18</td>\n",
       "      <td>24</td>\n",
       "      <td>4</td>\n",
       "      <td>0</td>\n",
       "      <td>1</td>\n",
       "      <td>2016</td>\n",
       "      <td>0</td>\n",
       "      <td>0</td>\n",
       "    </tr>\n",
       "    <tr>\n",
       "      <th>3798</th>\n",
       "      <td>Watford</td>\n",
       "      <td>32.9</td>\n",
       "      <td>3</td>\n",
       "      <td>6</td>\n",
       "      <td>440</td>\n",
       "      <td>297</td>\n",
       "      <td>20</td>\n",
       "      <td>6</td>\n",
       "      <td>4</td>\n",
       "      <td>0</td>\n",
       "      <td>0</td>\n",
       "      <td>2016</td>\n",
       "      <td>1</td>\n",
       "      <td>0</td>\n",
       "    </tr>\n",
       "    <tr>\n",
       "      <th>3799</th>\n",
       "      <td>Manchester City</td>\n",
       "      <td>67.1</td>\n",
       "      <td>9</td>\n",
       "      <td>15</td>\n",
       "      <td>789</td>\n",
       "      <td>620</td>\n",
       "      <td>19</td>\n",
       "      <td>13</td>\n",
       "      <td>5</td>\n",
       "      <td>2</td>\n",
       "      <td>5</td>\n",
       "      <td>2016</td>\n",
       "      <td>0</td>\n",
       "      <td>1</td>\n",
       "    </tr>\n",
       "  </tbody>\n",
       "</table>\n",
       "</div>"
      ],
      "text/plain": [
       "                      Team  Possession  SOT  Shots  Touches  Passes  Tackles  \\\n",
       "3795            Stoke City        39.0    3     14      510     319       16   \n",
       "3796          Swansea City        65.3    2     12      795     589       17   \n",
       "3797  West Bromwich Albion        34.7    5     16      500     316       18   \n",
       "3798               Watford        32.9    3      6      440     297       20   \n",
       "3799       Manchester City        67.1    9     15      789     620       19   \n",
       "\n",
       "      Clearances  Corners  Offsides  Goal  Year  Home  Result  \n",
       "3795          29       10         2     1  2016     0       1  \n",
       "3796          17        7         1     2  2016     1       1  \n",
       "3797          24        4         0     1  2016     0       0  \n",
       "3798           6        4         0     0  2016     1       0  \n",
       "3799          13        5         2     5  2016     0       1  "
      ]
     },
     "execution_count": 3,
     "metadata": {},
     "output_type": "execute_result"
    }
   ],
   "source": [
    "train.tail()"
   ]
  },
  {
   "cell_type": "code",
   "execution_count": 4,
   "metadata": {},
   "outputs": [
    {
     "data": {
      "text/html": [
       "<div>\n",
       "<style scoped>\n",
       "    .dataframe tbody tr th:only-of-type {\n",
       "        vertical-align: middle;\n",
       "    }\n",
       "\n",
       "    .dataframe tbody tr th {\n",
       "        vertical-align: top;\n",
       "    }\n",
       "\n",
       "    .dataframe thead th {\n",
       "        text-align: right;\n",
       "    }\n",
       "</style>\n",
       "<table border=\"1\" class=\"dataframe\">\n",
       "  <thead>\n",
       "    <tr style=\"text-align: right;\">\n",
       "      <th></th>\n",
       "      <th>VIF Factor</th>\n",
       "      <th>features</th>\n",
       "    </tr>\n",
       "  </thead>\n",
       "  <tbody>\n",
       "    <tr>\n",
       "      <th>0</th>\n",
       "      <td>136.174014</td>\n",
       "      <td>Possession</td>\n",
       "    </tr>\n",
       "    <tr>\n",
       "      <th>1</th>\n",
       "      <td>10.935964</td>\n",
       "      <td>SOT</td>\n",
       "    </tr>\n",
       "    <tr>\n",
       "      <th>2</th>\n",
       "      <td>19.660793</td>\n",
       "      <td>Shots</td>\n",
       "    </tr>\n",
       "    <tr>\n",
       "      <th>3</th>\n",
       "      <td>1583.093997</td>\n",
       "      <td>Touches</td>\n",
       "    </tr>\n",
       "    <tr>\n",
       "      <th>4</th>\n",
       "      <td>732.883603</td>\n",
       "      <td>Passes</td>\n",
       "    </tr>\n",
       "    <tr>\n",
       "      <th>5</th>\n",
       "      <td>15.933275</td>\n",
       "      <td>Tackles</td>\n",
       "    </tr>\n",
       "    <tr>\n",
       "      <th>6</th>\n",
       "      <td>12.092899</td>\n",
       "      <td>Clearances</td>\n",
       "    </tr>\n",
       "    <tr>\n",
       "      <th>7</th>\n",
       "      <td>6.988084</td>\n",
       "      <td>Corners</td>\n",
       "    </tr>\n",
       "    <tr>\n",
       "      <th>8</th>\n",
       "      <td>2.705923</td>\n",
       "      <td>Offsides</td>\n",
       "    </tr>\n",
       "    <tr>\n",
       "      <th>9</th>\n",
       "      <td>3.579688</td>\n",
       "      <td>Goal</td>\n",
       "    </tr>\n",
       "    <tr>\n",
       "      <th>10</th>\n",
       "      <td>110.939927</td>\n",
       "      <td>Year</td>\n",
       "    </tr>\n",
       "    <tr>\n",
       "      <th>11</th>\n",
       "      <td>2.301395</td>\n",
       "      <td>Home</td>\n",
       "    </tr>\n",
       "  </tbody>\n",
       "</table>\n",
       "</div>"
      ],
      "text/plain": [
       "     VIF Factor    features\n",
       "0    136.174014  Possession\n",
       "1     10.935964         SOT\n",
       "2     19.660793       Shots\n",
       "3   1583.093997     Touches\n",
       "4    732.883603      Passes\n",
       "5     15.933275     Tackles\n",
       "6     12.092899  Clearances\n",
       "7      6.988084     Corners\n",
       "8      2.705923    Offsides\n",
       "9      3.579688        Goal\n",
       "10   110.939927        Year\n",
       "11     2.301395        Home"
      ]
     },
     "execution_count": 4,
     "metadata": {},
     "output_type": "execute_result"
    }
   ],
   "source": [
    "from statsmodels.stats.outliers_influence import variance_inflation_factor\n",
    "\n",
    "vif_train = train.drop(['Team', 'Result'], axis = 1)\n",
    "vif = pd.DataFrame()\n",
    "vif[\"VIF Factor\"] = [variance_inflation_factor(vif_train.values, i) for i in range(vif_train.shape[1])]\n",
    "vif[\"features\"] = vif_train.columns\n",
    "vif"
   ]
  },
  {
   "cell_type": "code",
   "execution_count": 5,
   "metadata": {},
   "outputs": [
    {
     "data": {
      "text/html": [
       "<div>\n",
       "<style scoped>\n",
       "    .dataframe tbody tr th:only-of-type {\n",
       "        vertical-align: middle;\n",
       "    }\n",
       "\n",
       "    .dataframe tbody tr th {\n",
       "        vertical-align: top;\n",
       "    }\n",
       "\n",
       "    .dataframe thead th {\n",
       "        text-align: right;\n",
       "    }\n",
       "</style>\n",
       "<table border=\"1\" class=\"dataframe\">\n",
       "  <thead>\n",
       "    <tr style=\"text-align: right;\">\n",
       "      <th></th>\n",
       "      <th>VIF Factor</th>\n",
       "      <th>features</th>\n",
       "    </tr>\n",
       "  </thead>\n",
       "  <tbody>\n",
       "    <tr>\n",
       "      <th>0</th>\n",
       "      <td>10.876718</td>\n",
       "      <td>SOT</td>\n",
       "    </tr>\n",
       "    <tr>\n",
       "      <th>1</th>\n",
       "      <td>18.092754</td>\n",
       "      <td>Shots</td>\n",
       "    </tr>\n",
       "    <tr>\n",
       "      <th>2</th>\n",
       "      <td>13.362571</td>\n",
       "      <td>Passes</td>\n",
       "    </tr>\n",
       "    <tr>\n",
       "      <th>3</th>\n",
       "      <td>8.649483</td>\n",
       "      <td>Tackles</td>\n",
       "    </tr>\n",
       "    <tr>\n",
       "      <th>4</th>\n",
       "      <td>5.448460</td>\n",
       "      <td>Clearances</td>\n",
       "    </tr>\n",
       "    <tr>\n",
       "      <th>5</th>\n",
       "      <td>6.223119</td>\n",
       "      <td>Corners</td>\n",
       "    </tr>\n",
       "    <tr>\n",
       "      <th>6</th>\n",
       "      <td>3.461095</td>\n",
       "      <td>Goal</td>\n",
       "    </tr>\n",
       "    <tr>\n",
       "      <th>7</th>\n",
       "      <td>2.199670</td>\n",
       "      <td>Home</td>\n",
       "    </tr>\n",
       "  </tbody>\n",
       "</table>\n",
       "</div>"
      ],
      "text/plain": [
       "   VIF Factor    features\n",
       "0   10.876718         SOT\n",
       "1   18.092754       Shots\n",
       "2   13.362571      Passes\n",
       "3    8.649483     Tackles\n",
       "4    5.448460  Clearances\n",
       "5    6.223119     Corners\n",
       "6    3.461095        Goal\n",
       "7    2.199670        Home"
      ]
     },
     "execution_count": 5,
     "metadata": {},
     "output_type": "execute_result"
    }
   ],
   "source": [
    "from statsmodels.stats.outliers_influence import variance_inflation_factor\n",
    "\n",
    "vif_train = train.drop(['Team', 'Result', 'Possession', 'Touches', 'Offsides', 'Year'], axis = 1)\n",
    "vif = pd.DataFrame()\n",
    "vif[\"VIF Factor\"] = [variance_inflation_factor(vif_train.values, i) for i in range(vif_train.shape[1])]\n",
    "vif[\"features\"] = vif_train.columns\n",
    "vif"
   ]
  },
  {
   "cell_type": "markdown",
   "metadata": {},
   "source": [
    "### 1. Select columns & Encoding"
   ]
  },
  {
   "cell_type": "code",
   "execution_count": 1,
   "metadata": {},
   "outputs": [],
   "source": [
    "# Select columns\n",
    "category = ['Home']\n",
    "continuous = ['SOT', 'Shots', 'Passes','Tackles', 'Clearances', 'Corners', 'Goal', ]"
   ]
  },
  {
   "cell_type": "code",
   "execution_count": 7,
   "metadata": {},
   "outputs": [],
   "source": [
    "# make train/test data\n",
    "\n",
    "train_cols, test_cols = [], []\n",
    "\n",
    "# category\n",
    "for cat in category:\n",
    "    train_tok, test_tok = category_to_ohe(train[cat],test[cat])\n",
    "    train_cols.append(train_tok)\n",
    "    test_cols.append(test_tok)    \n",
    "\n",
    "# continuous\n",
    "for con in continuous:\n",
    "    train_cols.append(train[con].values.reshape(len(train),1))\n",
    "    test_cols.append(test[con].values.reshape(len(test),1))\n",
    " "
   ]
  },
  {
   "cell_type": "code",
   "execution_count": 8,
   "metadata": {},
   "outputs": [],
   "source": [
    "# stack train/test data\n",
    "X_train = np.hstack(tuple(each for each in train_cols))\n",
    "X_test = np.hstack(tuple(each for each in test_cols))\n",
    "y_train = train['Result']"
   ]
  },
  {
   "cell_type": "code",
   "execution_count": 9,
   "metadata": {},
   "outputs": [
    {
     "data": {
      "text/plain": [
       "(3800, 8)"
      ]
     },
     "execution_count": 9,
     "metadata": {},
     "output_type": "execute_result"
    }
   ],
   "source": [
    "X_train.shape"
   ]
  },
  {
   "cell_type": "code",
   "execution_count": 10,
   "metadata": {},
   "outputs": [
    {
     "data": {
      "text/plain": [
       "array([[ 1, 10, 27, ..., 30,  9,  4],\n",
       "       [ 0,  3,  6, ..., 24,  4,  3],\n",
       "       [ 1,  2,  6, ..., 39,  3,  0],\n",
       "       ...,\n",
       "       [ 0,  9, 16, ..., 17,  4,  4],\n",
       "       [ 1,  4, 15, ..., 20,  6,  3],\n",
       "       [ 0,  7, 14, ..., 22,  6,  1]])"
      ]
     },
     "execution_count": 10,
     "metadata": {},
     "output_type": "execute_result"
    }
   ],
   "source": [
    "X_test"
   ]
  },
  {
   "cell_type": "code",
   "execution_count": 11,
   "metadata": {},
   "outputs": [
    {
     "data": {
      "text/plain": [
       "3795    1\n",
       "3796    1\n",
       "3797    0\n",
       "3798    0\n",
       "3799    1\n",
       "Name: Result, dtype: int64"
      ]
     },
     "execution_count": 11,
     "metadata": {},
     "output_type": "execute_result"
    }
   ],
   "source": [
    "y_train.tail()"
   ]
  },
  {
   "cell_type": "markdown",
   "metadata": {},
   "source": [
    "---"
   ]
  },
  {
   "cell_type": "markdown",
   "metadata": {},
   "source": [
    "### 2. Modeling"
   ]
  },
  {
   "cell_type": "markdown",
   "metadata": {},
   "source": [
    " - 조건부 확률 모형 : 각 클래스가 정답일 조건부 확률을 계산\n",
    "\n",
    "    - 조건부 확률기반 생성모형 : 베이즈 정리를 사용\n",
    "\n",
    "        - LDA (linear discriminant analysis)\n",
    "        - QDA (Quadratic Discriminanat Analysis)\n",
    "        - 나이브 베이지안 (Naive Bayes)\n",
    "    \n",
    "    - 조건부 확률기반 판별모형 :  직접 조건부 확률 함수를 추정\n",
    "    \n",
    "        - 로지스틱 회귀 (Logistic Regression)\n",
    "        - 의사결정나무 (Descision Tree)\n",
    "        - KNN (K Nearest Neighbor)\n",
    "        \n",
    "        \n",
    "- 판별함수 모형 : 경계면을 찾아서 데이터가 어느 위치에 있는지 계산\n",
    "\n",
    "    - 퍼셉트론 (Perceptron)\n",
    "    - 서포트 벡터 머신 (Support Vector Machine)\n",
    "    - 신경망 (Neural Network)  \n",
    "    \n",
    "    \n",
    "- 모형결합 (Ensemble) : 복수의 예측모형을 결합하여 더 나은 성능을 예측하려는 시도\n",
    "\n",
    "    - 취합 방법론 : 사용할 모형의 집합이 이미 결정되어 있음\n",
    "        \n",
    "        - 다수결 (Majority voting)\n",
    "        - 배깅 (Bagging)\n",
    "        - 랜덤 포레스트 (Random Forest)\n",
    "        \n",
    "    - 부스팅 방법론 : 사용할 모형을 점진적으로 늘림\n",
    "    \n",
    "        - 에이다 부스트 (AdaBoost)\n",
    "        - 그레디언트 부스트 (Gradient Boost)"
   ]
  },
  {
   "cell_type": "markdown",
   "metadata": {},
   "source": [
    "---"
   ]
  },
  {
   "cell_type": "markdown",
   "metadata": {},
   "source": [
    "#### 2.1 조건부 확률모형"
   ]
  },
  {
   "cell_type": "markdown",
   "metadata": {},
   "source": [
    "##### 2.1.1 조건부 확률기반 생성 모형"
   ]
  },
  {
   "cell_type": "code",
   "execution_count": 12,
   "metadata": {},
   "outputs": [
    {
     "name": "stdout",
     "output_type": "stream",
     "text": [
      "Confusion Matrix : \n",
      "\n",
      " [[263  16   2]\n",
      " [ 49 208  24]\n",
      " [134  44  20]]\n",
      "\n",
      "\n",
      " Classification Report : \n",
      "\n",
      "              precision    recall  f1-score   support\n",
      "\n",
      "       Lose       0.59      0.94      0.72       281\n",
      "        Win       0.78      0.74      0.76       281\n",
      "       Draw       0.43      0.10      0.16       198\n",
      "\n",
      "avg / total       0.62      0.65      0.59       760\n",
      "\n"
     ]
    }
   ],
   "source": [
    "# LDA (linear discriminant analysis)\n",
    "model = LinearDiscriminantAnalysis(n_components=3, solver=\"svd\", \n",
    "        store_covariance=True).fit(X_train, y_train)\n",
    "predict_proba = model.predict_proba(X_test)\n",
    "\n",
    "# comparison\n",
    "y_true = test['Result']\n",
    "y_pred = []\n",
    "\n",
    "for i in range(760) :\n",
    "    y_pred.append(np.argmax(predict_proba[i]))\n",
    "\n",
    "target_names = ['Lose', 'Win', 'Draw']\n",
    "print('Confusion Matrix : \\n\\n',confusion_matrix(y_true, y_pred))\n",
    "print('\\n\\n Classification Report : \\n\\n', classification_report(y_true, y_pred, target_names=target_names))"
   ]
  },
  {
   "cell_type": "code",
   "execution_count": 13,
   "metadata": {},
   "outputs": [
    {
     "name": "stdout",
     "output_type": "stream",
     "text": [
      "Confusion Matrix : \n",
      "\n",
      " [[252  20   9]\n",
      " [ 45 212  24]\n",
      " [130  41  27]]\n",
      "\n",
      "\n",
      " Classification Report : \n",
      "\n",
      "              precision    recall  f1-score   support\n",
      "\n",
      "       Lose       0.59      0.90      0.71       281\n",
      "        Win       0.78      0.75      0.77       281\n",
      "       Draw       0.45      0.14      0.21       198\n",
      "\n",
      "avg / total       0.62      0.65      0.60       760\n",
      "\n"
     ]
    }
   ],
   "source": [
    "# QDA (Quadratic Discriminanat Analysis)\n",
    "model = QuadraticDiscriminantAnalysis().fit(X_train, y_train)\n",
    "predict_proba = model.predict_proba(X_test)\n",
    "\n",
    "# comparison\n",
    "y_true = test['Result']\n",
    "y_pred = []\n",
    "\n",
    "for i in range(760) :\n",
    "    y_pred.append(np.argmax(predict_proba[i]))\n",
    "\n",
    "target_names = ['Lose', 'Win', 'Draw']\n",
    "print('Confusion Matrix : \\n\\n',confusion_matrix(y_true, y_pred))\n",
    "print('\\n\\n Classification Report : \\n\\n', classification_report(y_true, y_pred, target_names=target_names))"
   ]
  },
  {
   "cell_type": "code",
   "execution_count": 14,
   "metadata": {},
   "outputs": [
    {
     "name": "stdout",
     "output_type": "stream",
     "text": [
      "Confusion Matrix : \n",
      "\n",
      " [[201  30  50]\n",
      " [ 65 175  41]\n",
      " [ 93  56  49]]\n",
      "\n",
      "\n",
      " Classification Report : \n",
      "\n",
      "              precision    recall  f1-score   support\n",
      "\n",
      "       Lose       0.56      0.72      0.63       281\n",
      "        Win       0.67      0.62      0.65       281\n",
      "       Draw       0.35      0.25      0.29       198\n",
      "\n",
      "avg / total       0.55      0.56      0.55       760\n",
      "\n"
     ]
    }
   ],
   "source": [
    "# Naive bayesian - Multinomial\n",
    "model = MultinomialNB().fit(X_train, y_train)\n",
    "predict_proba = model.predict_proba(X_test)\n",
    "\n",
    "# comparison\n",
    "y_true = test['Result']\n",
    "y_pred = []\n",
    "\n",
    "for i in range(760) :\n",
    "    y_pred.append(np.argmax(predict_proba[i]))\n",
    "\n",
    "target_names = ['Lose', 'Win', 'Draw']\n",
    "print('Confusion Matrix : \\n\\n',confusion_matrix(y_true, y_pred))\n",
    "print('\\n\\n Classification Report : \\n\\n', classification_report(y_true, y_pred, target_names=target_names))"
   ]
  },
  {
   "cell_type": "markdown",
   "metadata": {},
   "source": [
    "---"
   ]
  },
  {
   "cell_type": "markdown",
   "metadata": {},
   "source": [
    "##### 2.1.2 조건부 확률기반 판별모형"
   ]
  },
  {
   "cell_type": "code",
   "execution_count": 15,
   "metadata": {},
   "outputs": [],
   "source": [
    "# Logistic Regression : 사용 X (종속변수가 이항분포를 따라야함)"
   ]
  },
  {
   "cell_type": "code",
   "execution_count": 16,
   "metadata": {},
   "outputs": [
    {
     "name": "stdout",
     "output_type": "stream",
     "text": [
      "Confusion Matrix : \n",
      "\n",
      " [[233  26  22]\n",
      " [ 36 217  28]\n",
      " [121  50  27]]\n",
      "\n",
      "\n",
      " Classification Report : \n",
      "\n",
      "              precision    recall  f1-score   support\n",
      "\n",
      "       Lose       0.60      0.83      0.69       281\n",
      "        Win       0.74      0.77      0.76       281\n",
      "       Draw       0.35      0.14      0.20       198\n",
      "\n",
      "avg / total       0.59      0.63      0.59       760\n",
      "\n"
     ]
    }
   ],
   "source": [
    "# Descision Tree\n",
    "model = DecisionTreeClassifier(criterion='entropy', \n",
    "        max_depth=7, min_samples_leaf=5).fit(X_train, y_train)\n",
    "predict_proba = model.predict_proba(X_test)\n",
    "\n",
    "# comparison\n",
    "y_true = test['Result']\n",
    "y_pred = []\n",
    "\n",
    "for i in range(760) :\n",
    "    y_pred.append(np.argmax(predict_proba[i]))\n",
    "\n",
    "target_names = ['Lose', 'Win', 'Draw']\n",
    "print('Confusion Matrix : \\n\\n',confusion_matrix(y_true, y_pred))\n",
    "print('\\n\\n Classification Report : \\n\\n', classification_report(y_true, y_pred, target_names=target_names))"
   ]
  },
  {
   "cell_type": "code",
   "execution_count": 17,
   "metadata": {},
   "outputs": [],
   "source": [
    "# KNN (K Nearest Neighbor)"
   ]
  },
  {
   "cell_type": "markdown",
   "metadata": {},
   "source": [
    "---"
   ]
  },
  {
   "cell_type": "code",
   "execution_count": 18,
   "metadata": {},
   "outputs": [],
   "source": [
    "#### 2.2 모형결합 (Ensemble)"
   ]
  },
  {
   "cell_type": "code",
   "execution_count": 19,
   "metadata": {},
   "outputs": [],
   "source": [
    "##### 2.2.1 취합 방법론"
   ]
  },
  {
   "cell_type": "code",
   "execution_count": 20,
   "metadata": {},
   "outputs": [
    {
     "name": "stdout",
     "output_type": "stream",
     "text": [
      "Confusion Matrix : \n",
      "\n",
      " [[242  24  15]\n",
      " [ 50 199  32]\n",
      " [116  47  35]]\n",
      "\n",
      "\n",
      " Classification Report : \n",
      "\n",
      "              precision    recall  f1-score   support\n",
      "\n",
      "       Lose       0.59      0.86      0.70       281\n",
      "        Win       0.74      0.71      0.72       281\n",
      "       Draw       0.43      0.18      0.25       198\n",
      "\n",
      "avg / total       0.60      0.63      0.59       760\n",
      "\n"
     ]
    }
   ],
   "source": [
    "# 다수결 (Majority voting)\n",
    "\n",
    "# 취합할 모델 생성\n",
    "model1 = LinearDiscriminantAnalysis(n_components=3, solver=\"svd\", store_covariance=True)\n",
    "model2 = QuadraticDiscriminantAnalysis()\n",
    "model3 = GaussianNB()\n",
    "model4 = MultinomialNB()\n",
    "\n",
    "# ensemble 생성\n",
    "ensemble = VotingClassifier(estimators=[('lda', model1), ('qda', model2), ('gnb', model3), ('mul', model4)], \n",
    "                            voting='soft', weights=[2, 4, 1, 5])\n",
    "\n",
    "predict_proba = [c.fit(X_train, y_train).predict_proba(X_test) for c in (model1, model2, model3, model4, ensemble)]\n",
    "\n",
    "# comparison\n",
    "y_true = test['Result']\n",
    "y_pred = []\n",
    "\n",
    "for i in range(760) :\n",
    "    y_pred.append(np.argmax(predict_proba[4][i])) # ensemble index\n",
    "\n",
    "target_names = ['Lose', 'Win', 'Draw']\n",
    "print('Confusion Matrix : \\n\\n',confusion_matrix(y_true, y_pred))\n",
    "print('\\n\\n Classification Report : \\n\\n', classification_report(y_true, y_pred, target_names=target_names))"
   ]
  },
  {
   "cell_type": "code",
   "execution_count": 21,
   "metadata": {},
   "outputs": [
    {
     "name": "stdout",
     "output_type": "stream",
     "text": [
      "Confusion Matrix : \n",
      "\n",
      " [[210  33  38]\n",
      " [ 49 210  22]\n",
      " [106  57  35]]\n",
      "\n",
      "\n",
      " Classification Report : \n",
      "\n",
      "              precision    recall  f1-score   support\n",
      "\n",
      "       Lose       0.58      0.75      0.65       281\n",
      "        Win       0.70      0.75      0.72       281\n",
      "       Draw       0.37      0.18      0.24       198\n",
      "\n",
      "avg / total       0.57      0.60      0.57       760\n",
      "\n"
     ]
    }
   ],
   "source": [
    "# 배깅 (Bagging)\n",
    "model1 = DecisionTreeClassifier().fit(X_train, y_train)\n",
    "model2 = BaggingClassifier(DecisionTreeClassifier(), bootstrap_features=True, random_state=0).fit(X_train, y_train)\n",
    "predict_proba = model2.predict_proba(X_test)\n",
    "\n",
    "# comparison\n",
    "y_true = test['Result']\n",
    "y_pred = []\n",
    "\n",
    "for i in range(760) :\n",
    "    y_pred.append(np.argmax(predict_proba[i]))\n",
    "\n",
    "target_names = ['Lose', 'Win', 'Draw']\n",
    "print('Confusion Matrix : \\n\\n',confusion_matrix(y_true, y_pred))\n",
    "print('\\n\\n Classification Report : \\n\\n', classification_report(y_true, y_pred, target_names=target_names))"
   ]
  },
  {
   "cell_type": "code",
   "execution_count": 22,
   "metadata": {},
   "outputs": [
    {
     "name": "stdout",
     "output_type": "stream",
     "text": [
      "Confusion Matrix : \n",
      "\n",
      " [[251  27   3]\n",
      " [ 41 235   5]\n",
      " [126  57  15]]\n",
      "\n",
      "\n",
      " Classification Report : \n",
      "\n",
      "              precision    recall  f1-score   support\n",
      "\n",
      "       Lose       0.60      0.89      0.72       281\n",
      "        Win       0.74      0.84      0.78       281\n",
      "       Draw       0.65      0.08      0.14       198\n",
      "\n",
      "avg / total       0.66      0.66      0.59       760\n",
      "\n"
     ]
    }
   ],
   "source": [
    "# 랜덤포레스트 (RandomForest)\n",
    "clf = RandomForestClassifier(n_estimators=1000, max_depth=8, min_samples_split = 10, criterion = 'entropy')\n",
    "model = clf.fit(X_train, y_train)\n",
    "predict_proba = model.predict_proba(X_test)\n",
    "\n",
    "# comparison\n",
    "y_true = test['Result']\n",
    "y_pred = []\n",
    "\n",
    "for i in range(760) :\n",
    "    y_pred.append(np.argmax(predict_proba[i]))\n",
    "\n",
    "target_names = ['Lose', 'Win', 'Draw']\n",
    "print('Confusion Matrix : \\n\\n',confusion_matrix(y_true, y_pred))\n",
    "print('\\n\\n Classification Report : \\n\\n', classification_report(y_true, y_pred, target_names=target_names))"
   ]
  },
  {
   "cell_type": "markdown",
   "metadata": {},
   "source": [
    "---"
   ]
  },
  {
   "cell_type": "code",
   "execution_count": 23,
   "metadata": {},
   "outputs": [],
   "source": [
    "##### 2.2.2 부스팅 방법론"
   ]
  },
  {
   "cell_type": "code",
   "execution_count": 24,
   "metadata": {},
   "outputs": [
    {
     "name": "stdout",
     "output_type": "stream",
     "text": [
      "Confusion Matrix : \n",
      "\n",
      " [[195  28  58]\n",
      " [ 21 213  47]\n",
      " [ 76  56  66]]\n",
      "\n",
      "\n",
      " Classification Report : \n",
      "\n",
      "              precision    recall  f1-score   support\n",
      "\n",
      "       Lose       0.67      0.69      0.68       281\n",
      "        Win       0.72      0.76      0.74       281\n",
      "       Draw       0.39      0.33      0.36       198\n",
      "\n",
      "avg / total       0.61      0.62      0.62       760\n",
      "\n"
     ]
    }
   ],
   "source": [
    "# 에이다 부스트 (Ada Boost)\n",
    "model = AdaBoostClassifier(DecisionTreeClassifier(max_depth=5, random_state=0), \n",
    "                               algorithm=\"SAMME\", n_estimators=300).fit(X_train, y_train)\n",
    "predict_proba = model.predict_proba(X_test)\n",
    "\n",
    "# comparison\n",
    "y_true = test['Result']\n",
    "y_pred = []\n",
    "\n",
    "for i in range(760) :\n",
    "    y_pred.append(np.argmax(predict_proba[i]))\n",
    "\n",
    "target_names = ['Lose', 'Win', 'Draw']\n",
    "print('Confusion Matrix : \\n\\n',confusion_matrix(y_true, y_pred))\n",
    "print('\\n\\n Classification Report : \\n\\n', classification_report(y_true, y_pred, target_names=target_names))"
   ]
  },
  {
   "cell_type": "code",
   "execution_count": 25,
   "metadata": {},
   "outputs": [
    {
     "name": "stdout",
     "output_type": "stream",
     "text": [
      "Confusion Matrix : \n",
      "\n",
      " [[205  25  51]\n",
      " [ 28 216  37]\n",
      " [101  52  45]]\n",
      "\n",
      "\n",
      " Classification Report : \n",
      "\n",
      "              precision    recall  f1-score   support\n",
      "\n",
      "       Lose       0.61      0.73      0.67       281\n",
      "        Win       0.74      0.77      0.75       281\n",
      "       Draw       0.34      0.23      0.27       198\n",
      "\n",
      "avg / total       0.59      0.61      0.60       760\n",
      "\n"
     ]
    }
   ],
   "source": [
    "# 그레디언트 부스트 (Gradient Boost)\n",
    "model = GradientBoostingClassifier(n_estimators=1000, max_depth=5, random_state=0).fit(X_train, y_train)\n",
    "predict_proba = model.predict_proba(X_test)\n",
    "\n",
    "# comparison\n",
    "y_true = test['Result']\n",
    "y_pred = []\n",
    "\n",
    "for i in range(760) :\n",
    "    y_pred.append(np.argmax(predict_proba[i]))\n",
    "\n",
    "target_names = ['Lose', 'Win', 'Draw']\n",
    "print('Confusion Matrix : \\n\\n',confusion_matrix(y_true, y_pred))\n",
    "print('\\n\\n Classification Report : \\n\\n', classification_report(y_true, y_pred, target_names=target_names))"
   ]
  },
  {
   "cell_type": "code",
   "execution_count": 26,
   "metadata": {},
   "outputs": [
    {
     "name": "stdout",
     "output_type": "stream",
     "text": [
      "Confusion Matrix : \n",
      "\n",
      " [[243  24  14]\n",
      " [ 36 233  12]\n",
      " [108  57  33]]\n",
      "\n",
      "\n",
      " Classification Report : \n",
      "\n",
      "              precision    recall  f1-score   support\n",
      "\n",
      "       Lose       0.63      0.86      0.73       281\n",
      "        Win       0.74      0.83      0.78       281\n",
      "       Draw       0.56      0.17      0.26       198\n",
      "\n",
      "avg / total       0.65      0.67      0.63       760\n",
      "\n"
     ]
    }
   ],
   "source": [
    "# XG boost\n",
    "model = xgboost.XGBClassifier(n_estimators=500, max_depth=2).fit(X_train, y_train)\n",
    "predict_proba = model.predict_proba(X_test)\n",
    "\n",
    "# comparison\n",
    "y_true = test['Result']\n",
    "y_pred = []\n",
    "\n",
    "for i in range(760) :\n",
    "    y_pred.append(np.argmax(predict_proba[i]))\n",
    "\n",
    "target_names = ['Lose', 'Win', 'Draw']\n",
    "print('Confusion Matrix : \\n\\n',confusion_matrix(y_true, y_pred))\n",
    "print('\\n\\n Classification Report : \\n\\n', classification_report(y_true, y_pred, target_names=target_names))"
   ]
  },
  {
   "cell_type": "markdown",
   "metadata": {},
   "source": [
    "---"
   ]
  },
  {
   "cell_type": "code",
   "execution_count": 27,
   "metadata": {},
   "outputs": [],
   "source": [
    "#### 2.3 판별함수 모형"
   ]
  },
  {
   "cell_type": "code",
   "execution_count": 28,
   "metadata": {},
   "outputs": [
    {
     "name": "stdout",
     "output_type": "stream",
     "text": [
      "Confusion Matrix : \n",
      "\n",
      " [[281   0   0]\n",
      " [281   0   0]\n",
      " [198   0   0]]\n",
      "\n",
      "\n",
      " Classification Report : \n",
      "\n",
      "              precision    recall  f1-score   support\n",
      "\n",
      "       Lose       0.37      1.00      0.54       281\n",
      "        Win       0.00      0.00      0.00       281\n",
      "       Draw       0.00      0.00      0.00       198\n",
      "\n",
      "avg / total       0.14      0.37      0.20       760\n",
      "\n"
     ]
    },
    {
     "name": "stderr",
     "output_type": "stream",
     "text": [
      "/anaconda3/envs/practice/lib/python3.6/site-packages/sklearn/metrics/classification.py:1135: UndefinedMetricWarning: Precision and F-score are ill-defined and being set to 0.0 in labels with no predicted samples.\n",
      "  'precision', 'predicted', average, warn_for)\n"
     ]
    }
   ],
   "source": [
    "# 퍼셉트론 (Perceptron) - perceptron\n",
    "model = Perceptron(max_iter=500, eta0=0.1, random_state=1).fit(X_train, y_train)\n",
    "predict_proba = model.predict(X_test)\n",
    "\n",
    "# comparison\n",
    "y_true = test['Result']\n",
    "y_pred = []\n",
    "\n",
    "for i in range(760) :\n",
    "    y_pred.append(np.argmax(predict_proba[i]))\n",
    "\n",
    "target_names = ['Lose', 'Win', 'Draw']\n",
    "print('Confusion Matrix : \\n\\n',confusion_matrix(y_true, y_pred))\n",
    "print('\\n\\n Classification Report : \\n\\n', classification_report(y_true, y_pred, target_names=target_names))"
   ]
  },
  {
   "cell_type": "code",
   "execution_count": 29,
   "metadata": {},
   "outputs": [
    {
     "name": "stdout",
     "output_type": "stream",
     "text": [
      "Confusion Matrix : \n",
      "\n",
      " [[281   0   0]\n",
      " [281   0   0]\n",
      " [198   0   0]]\n",
      "\n",
      "\n",
      " Classification Report : \n",
      "\n",
      "              precision    recall  f1-score   support\n",
      "\n",
      "       Lose       0.37      1.00      0.54       281\n",
      "        Win       0.00      0.00      0.00       281\n",
      "       Draw       0.00      0.00      0.00       198\n",
      "\n",
      "avg / total       0.14      0.37      0.20       760\n",
      "\n"
     ]
    },
    {
     "name": "stderr",
     "output_type": "stream",
     "text": [
      "/anaconda3/envs/practice/lib/python3.6/site-packages/sklearn/metrics/classification.py:1135: UndefinedMetricWarning: Precision and F-score are ill-defined and being set to 0.0 in labels with no predicted samples.\n",
      "  'precision', 'predicted', average, warn_for)\n"
     ]
    }
   ],
   "source": [
    "# 퍼셉트론 (Perceptron) - SGD\n",
    "model = SGDClassifier(loss=\"hinge\", max_iter=3, random_state=1).fit(X_train, y_train)\n",
    "predict_proba = model.predict(X_test)\n",
    "\n",
    "# comparison\n",
    "y_true = test['Result']\n",
    "y_pred = []\n",
    "\n",
    "for i in range(760) :\n",
    "    y_pred.append(np.argmax(predict_proba[i]))\n",
    "\n",
    "target_names = ['Lose', 'Win', 'Draw']\n",
    "print('Confusion Matrix : \\n\\n',confusion_matrix(y_true, y_pred))\n",
    "print('\\n\\n Classification Report : \\n\\n', classification_report(y_true, y_pred, target_names=target_names))"
   ]
  },
  {
   "cell_type": "code",
   "execution_count": 30,
   "metadata": {},
   "outputs": [
    {
     "name": "stdout",
     "output_type": "stream",
     "text": [
      "Confusion Matrix : \n",
      "\n",
      " [[281   0   0]\n",
      " [281   0   0]\n",
      " [198   0   0]]\n",
      "\n",
      "\n",
      " Classification Report : \n",
      "\n",
      "              precision    recall  f1-score   support\n",
      "\n",
      "       Lose       0.37      1.00      0.54       281\n",
      "        Win       0.00      0.00      0.00       281\n",
      "       Draw       0.00      0.00      0.00       198\n",
      "\n",
      "avg / total       0.14      0.37      0.20       760\n",
      "\n"
     ]
    },
    {
     "name": "stderr",
     "output_type": "stream",
     "text": [
      "/anaconda3/envs/practice/lib/python3.6/site-packages/sklearn/metrics/classification.py:1135: UndefinedMetricWarning: Precision and F-score are ill-defined and being set to 0.0 in labels with no predicted samples.\n",
      "  'precision', 'predicted', average, warn_for)\n"
     ]
    }
   ],
   "source": [
    "# 서포트 벡터 머신 (Support Vector Machine) - linear\n",
    "model = SVC(kernel='linear').fit(X_train, y_train)\n",
    "predict_proba = model.predict(X_test)\n",
    "\n",
    "# comparison\n",
    "y_true = test['Result']\n",
    "y_pred = []\n",
    "\n",
    "for i in range(760) :\n",
    "    y_pred.append(np.argmax(predict_proba[i]))\n",
    "\n",
    "target_names = ['Lose', 'Win', 'Draw']\n",
    "print('Confusion Matrix : \\n\\n',confusion_matrix(y_true, y_pred))\n",
    "print('\\n\\n Classification Report : \\n\\n', classification_report(y_true, y_pred, target_names=target_names))"
   ]
  },
  {
   "cell_type": "code",
   "execution_count": 31,
   "metadata": {},
   "outputs": [
    {
     "name": "stdout",
     "output_type": "stream",
     "text": [
      "Confusion Matrix : \n",
      "\n",
      " [[281   0   0]\n",
      " [281   0   0]\n",
      " [198   0   0]]\n",
      "\n",
      "\n",
      " Classification Report : \n",
      "\n",
      "              precision    recall  f1-score   support\n",
      "\n",
      "       Lose       0.37      1.00      0.54       281\n",
      "        Win       0.00      0.00      0.00       281\n",
      "       Draw       0.00      0.00      0.00       198\n",
      "\n",
      "avg / total       0.14      0.37      0.20       760\n",
      "\n"
     ]
    },
    {
     "name": "stderr",
     "output_type": "stream",
     "text": [
      "/anaconda3/envs/practice/lib/python3.6/site-packages/sklearn/metrics/classification.py:1135: UndefinedMetricWarning: Precision and F-score are ill-defined and being set to 0.0 in labels with no predicted samples.\n",
      "  'precision', 'predicted', average, warn_for)\n"
     ]
    }
   ],
   "source": [
    "# 서포트 벡터 머신 (Support Vector Machine) - 다항 커널 (Polynomial Kernel)\n",
    "model = SVC(kernel=\"poly\", degree=2, gamma=1, coef0=0).fit(X_train, y_train)\n",
    "predict_proba = model.predict(X_test)\n",
    "\n",
    "# comparison\n",
    "y_true = test['Result']\n",
    "y_pred = []\n",
    "\n",
    "for i in range(760) :\n",
    "    y_pred.append(np.argmax(predict_proba[i]))\n",
    "\n",
    "target_names = ['Lose', 'Win', 'Draw']\n",
    "print('Confusion Matrix : \\n\\n',confusion_matrix(y_true, y_pred))\n",
    "print('\\n\\n Classification Report : \\n\\n', classification_report(y_true, y_pred, target_names=target_names))"
   ]
  },
  {
   "cell_type": "code",
   "execution_count": 32,
   "metadata": {},
   "outputs": [
    {
     "name": "stdout",
     "output_type": "stream",
     "text": [
      "Confusion Matrix : \n",
      "\n",
      " [[281   0   0]\n",
      " [281   0   0]\n",
      " [198   0   0]]\n",
      "\n",
      "\n",
      " Classification Report : \n",
      "\n",
      "              precision    recall  f1-score   support\n",
      "\n",
      "       Lose       0.37      1.00      0.54       281\n",
      "        Win       0.00      0.00      0.00       281\n",
      "       Draw       0.00      0.00      0.00       198\n",
      "\n",
      "avg / total       0.14      0.37      0.20       760\n",
      "\n"
     ]
    },
    {
     "name": "stderr",
     "output_type": "stream",
     "text": [
      "/anaconda3/envs/practice/lib/python3.6/site-packages/sklearn/metrics/classification.py:1135: UndefinedMetricWarning: Precision and F-score are ill-defined and being set to 0.0 in labels with no predicted samples.\n",
      "  'precision', 'predicted', average, warn_for)\n"
     ]
    }
   ],
   "source": [
    "# 서포트 벡터 머신 (Support Vector Machine) - RBF(Radial Basis Function)\n",
    "model = SVC(kernel=\"rbf\").fit(X_train, y_train)\n",
    "predict_proba = model.predict(X_test)\n",
    "\n",
    "# comparison\n",
    "y_true = test['Result']\n",
    "y_pred = []\n",
    "\n",
    "for i in range(760) :\n",
    "    y_pred.append(np.argmax(predict_proba[i]))\n",
    "\n",
    "target_names = ['Lose', 'Win', 'Draw']\n",
    "print('Confusion Matrix : \\n\\n',confusion_matrix(y_true, y_pred))\n",
    "print('\\n\\n Classification Report : \\n\\n', classification_report(y_true, y_pred, target_names=target_names))"
   ]
  },
  {
   "cell_type": "code",
   "execution_count": 33,
   "metadata": {},
   "outputs": [
    {
     "name": "stdout",
     "output_type": "stream",
     "text": [
      "Confusion Matrix : \n",
      "\n",
      " [[281   0   0]\n",
      " [281   0   0]\n",
      " [198   0   0]]\n",
      "\n",
      "\n",
      " Classification Report : \n",
      "\n",
      "              precision    recall  f1-score   support\n",
      "\n",
      "       Lose       0.37      1.00      0.54       281\n",
      "        Win       0.00      0.00      0.00       281\n",
      "       Draw       0.00      0.00      0.00       198\n",
      "\n",
      "avg / total       0.14      0.37      0.20       760\n",
      "\n"
     ]
    },
    {
     "name": "stderr",
     "output_type": "stream",
     "text": [
      "/anaconda3/envs/practice/lib/python3.6/site-packages/sklearn/metrics/classification.py:1135: UndefinedMetricWarning: Precision and F-score are ill-defined and being set to 0.0 in labels with no predicted samples.\n",
      "  'precision', 'predicted', average, warn_for)\n"
     ]
    }
   ],
   "source": [
    "# 서포트 벡터 머신 (Support Vector Machine) - 시그모이드 커널 (Sigmoid Kernel)\n",
    "model = SVC(kernel=\"sigmoid\", gamma=2, coef0=2).fit(X_train, y_train)\n",
    "predict_proba = model.predict(X_test)\n",
    "\n",
    "# comparison\n",
    "y_true = test['Result']\n",
    "y_pred = []\n",
    "\n",
    "for i in range(760) :\n",
    "    y_pred.append(np.argmax(predict_proba[i]))\n",
    "\n",
    "target_names = ['Lose', 'Win', 'Draw']\n",
    "print('Confusion Matrix : \\n\\n',confusion_matrix(y_true, y_pred))\n",
    "print('\\n\\n Classification Report : \\n\\n', classification_report(y_true, y_pred, target_names=target_names))"
   ]
  },
  {
   "cell_type": "code",
   "execution_count": 34,
   "metadata": {},
   "outputs": [],
   "source": [
    "# 신경망 (Neural Network)"
   ]
  },
  {
   "cell_type": "markdown",
   "metadata": {},
   "source": [
    "---"
   ]
  },
  {
   "cell_type": "markdown",
   "metadata": {},
   "source": [
    "### 3. Grid Search / Cross Validation"
   ]
  },
  {
   "cell_type": "code",
   "execution_count": 36,
   "metadata": {},
   "outputs": [
    {
     "name": "stdout",
     "output_type": "stream",
     "text": [
      "Best Parameter :\n",
      "\n",
      " {'max_depth': 6, 'min_samples_split': 30, 'n_estimators': 50}\n"
     ]
    }
   ],
   "source": [
    "# choose parameter\n",
    "param_grid = [\n",
    "    {'n_estimators' : [10, 50, 100, 200, 300, 500, 1000], 'max_depth' : [2, 4, 6, 8, 10], \n",
    "     'min_samples_split' : [5, 10, 15, 20, 30]}]\n",
    "\n",
    "model = RandomForestClassifier()\n",
    "grid_search = GridSearchCV(model, param_grid, cv = 5, return_train_score = True).fit(X_train, y_train)\n",
    "\n",
    "print('Best Parameter :\\n\\n', grid_search.best_params_)"
   ]
  },
  {
   "cell_type": "code",
   "execution_count": 37,
   "metadata": {},
   "outputs": [
    {
     "name": "stdout",
     "output_type": "stream",
     "text": [
      "Corss Validation Score :\n",
      "\n",
      " [0.62368421 0.64473684 0.63684211 0.66842105 0.62894737 0.62368421\n",
      " 0.62894737 0.63157895 0.66578947 0.67368421]\n"
     ]
    }
   ],
   "source": [
    "# validation score\n",
    "clf = RandomForestClassifier(max_depth = 6, min_samples_split = 15, n_estimators = 100).fit(X_train, y_train)\n",
    "scores = cross_val_score(clf, X_train, y_train, cv= 10)\n",
    "print('Corss Validation Score :\\n\\n', scores)"
   ]
  },
  {
   "cell_type": "code",
   "execution_count": 39,
   "metadata": {},
   "outputs": [],
   "source": [
    "df = pd.DataFrame()\n",
    "df['Feature'] = ['Goal', 'SOT', 'Clearances', 'Passes', 'Shots', 'Home', 'Tackles', 'Corners']\n",
    "df['Importance'] = grid_search.best_estimator_.feature_importances_"
   ]
  },
  {
   "cell_type": "code",
   "execution_count": 41,
   "metadata": {},
   "outputs": [],
   "source": [
    "labels = ['Goal', 'SOT', 'Clearances', 'Passes', 'Shots', 'Home', 'Tackles', 'Corners']"
   ]
  },
  {
   "cell_type": "code",
   "execution_count": 42,
   "metadata": {},
   "outputs": [
    {
     "data": {
      "image/png": "[encoded data removed]",
      "text/plain": [
       "<Figure size 504x504 with 1 Axes>"
      ]
     },
     "metadata": {},
     "output_type": "display_data"
    }
   ],
   "source": [
    "plt.figure(figsize=(7, 7))\n",
    "\n",
    "plt.pie(df['Importance'], labels = labels, autopct='%1.2f%%', shadow = True, explode = (0.0, 0.0, 0.0, 0.0, 0.0, 0.0, 0.0, 0.0))\n",
    "plt.title('Importance pieplot')\n",
    "\n",
    "plt.show()"
   ]
  },
  {
   "cell_type": "code",
   "execution_count": 56,
   "metadata": {},
   "outputs": [
    {
     "name": "stdout",
     "output_type": "stream",
     "text": [
      "Confusion Matrix : \n",
      "\n",
      " [[256  25   0]\n",
      " [ 42 237   2]\n",
      " [133  59   6]]\n",
      "\n",
      "\n",
      " Classification Report : \n",
      "\n",
      "              precision    recall  f1-score   support\n",
      "\n",
      "       Lose       0.59      0.91      0.72       281\n",
      "        Win       0.74      0.84      0.79       281\n",
      "       Draw       0.75      0.03      0.06       198\n",
      "\n",
      "avg / total       0.69      0.66      0.57       760\n",
      "\n"
     ]
    }
   ],
   "source": [
    "# 랜덤포레스트 (RandomForest)\n",
    "clf = RandomForestClassifier(max_depth = 6, min_samples_split = 30, n_estimators = 50, criterion = 'entropy')\n",
    "model = clf.fit(X_train, y_train)\n",
    "predict_proba = model.predict_proba(X_test)\n",
    "\n",
    "# comparison\n",
    "y_true = test['Result']\n",
    "y_pred = []\n",
    "\n",
    "for i in range(760) :\n",
    "    y_pred.append(np.argmax(predict_proba[i]))\n",
    "\n",
    "target_names = ['Lose', 'Win', 'Draw']\n",
    "print('Confusion Matrix : \\n\\n',confusion_matrix(y_true, y_pred))\n",
    "print('\\n\\n Classification Report : \\n\\n', classification_report(y_true, y_pred, target_names=target_names))"
   ]
  },
  {
   "cell_type": "markdown",
   "metadata": {},
   "source": [
    "### 4. Evaluation"
   ]
  },
  {
   "cell_type": "code",
   "execution_count": 58,
   "metadata": {},
   "outputs": [],
   "source": [
    "# make binarize\n",
    "y0 = []\n",
    "for i in range(len(y_true)):\n",
    "    if y_true[i] == 0 :\n",
    "        y0.append(1) # y가 0이면 1\n",
    "    else:\n",
    "        y0.append(0) # y가 0이 아니면 0\n",
    "    \n",
    "y1 = []\n",
    "for i in range(len(y_true)):\n",
    "    if y_true[i] == 1 :\n",
    "        y1.append(1) # y가 1이면 1\n",
    "    else:\n",
    "        y1.append(0) # y가 1이 아니면 0\n",
    "        \n",
    "y2 = []\n",
    "for i in range(len(y_true)):\n",
    "    if y_true[i] == 2 :\n",
    "        y2.append(1) # y가 2이면 1\n",
    "    else:\n",
    "        y2.append(0) # y가 2가 아니면 0   "
   ]
  },
  {
   "cell_type": "code",
   "execution_count": 59,
   "metadata": {},
   "outputs": [],
   "source": [
    "# make model\n",
    "fpr1, tpr1, thresholds1 = roc_curve(y0, model.predict_proba(X_test)[:, 0])\n",
    "fpr2, tpr2, thresholds2 = roc_curve(y1, model.predict_proba(X_test)[:, 1])\n",
    "fpr3, tpr3, thresholds3 = roc_curve(y2, model.predict_proba(X_test)[:, 2])"
   ]
  },
  {
   "cell_type": "code",
   "execution_count": 60,
   "metadata": {},
   "outputs": [
    {
     "name": "stdout",
     "output_type": "stream",
     "text": [
      "ROC Curve :\n",
      "\n"
     ]
    },
    {
     "data": {
      "image/png": "[encoded data removed]",
      "text/plain": [
       "<Figure size 432x288 with 1 Axes>"
      ]
     },
     "metadata": {},
     "output_type": "display_data"
    },
    {
     "name": "stdout",
     "output_type": "stream",
     "text": [
      "AUC Score :\n",
      "\n",
      " 0.8595829092340954 0.9154748549394869 0.6756623171213918\n"
     ]
    }
   ],
   "source": [
    "# ROC curve\n",
    "print('ROC Curve :\\n')\n",
    "plt.plot(fpr1, tpr1, label= 'Predict Lose')\n",
    "plt.plot(fpr2, tpr2, label= 'Predict Win')\n",
    "plt.plot(fpr3, tpr3, label= 'Predict Draw')\n",
    "plt.legend()\n",
    "plt.plot([0, 1], [0, 1], 'k--', label=\"random guess\")\n",
    "plt.xlabel('False Positive Rate (Fall-Out)')\n",
    "plt.ylabel('True Positive Rate (Recall)')\n",
    "plt.title('Premierleague Win/Lose Prediction')\n",
    "plt.show()\n",
    "\n",
    "print('AUC Score :\\n\\n', auc(fpr1, tpr1), auc(fpr2, tpr2), auc(fpr3, tpr3))"
   ]
  }
 ],
 "metadata": {
  "kernelspec": {
   "display_name": "Python 3",
   "language": "python",
   "name": "python3"
  },
  "language_info": {
   "codemirror_mode": {
    "name": "ipython",
    "version": 3
   },
   "file_extension": ".py",
   "mimetype": "text/x-python",
   "name": "python",
   "nbconvert_exporter": "python",
   "pygments_lexer": "ipython3",
   "version": "3.6.5"
  }
 },
 "nbformat": 4,
 "nbformat_minor": 2
}
