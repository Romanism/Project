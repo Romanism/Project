{
 "cells": [
  {
   "cell_type": "markdown",
   "metadata": {},
   "source": [
    "# Modeling"
   ]
  },
  {
   "cell_type": "code",
   "execution_count": 1,
   "metadata": {},
   "outputs": [],
   "source": [
    "from function import *"
   ]
  },
  {
   "cell_type": "code",
   "execution_count": 2,
   "metadata": {},
   "outputs": [],
   "source": [
    "# load data\n",
    "train = pd.read_csv('data/train.csv')\n",
    "test = pd.read_csv('data/test.csv')"
   ]
  },
  {
   "cell_type": "markdown",
   "metadata": {},
   "source": [
    "### 1. Select columns & Encoding"
   ]
  },
  {
   "cell_type": "code",
   "execution_count": 3,
   "metadata": {},
   "outputs": [],
   "source": [
    "# Select columns\n",
    "category = ['Home']\n",
    "continuous = ['Possession', 'Shots', 'Touches', 'Passes',\n",
    "              'Tackles', 'Clearances','SOT', 'Corners', 'Offsides', 'Goal', ]"
   ]
  },
  {
   "cell_type": "code",
   "execution_count": 4,
   "metadata": {
    "scrolled": true
   },
   "outputs": [],
   "source": [
    "# make train/test data\n",
    "\n",
    "train_cols, test_cols = [], []\n",
    "\n",
    "# category\n",
    "for cat in category:\n",
    "    train_tok, test_tok = category_to_ohe(train[cat],test[cat])\n",
    "    train_cols.append(train_tok)\n",
    "    test_cols.append(test_tok)    \n",
    "\n",
    "# continuous\n",
    "for con in continuous:\n",
    "    train_cols.append(train[con].values.reshape(len(train),1))\n",
    "    test_cols.append(test[con].values.reshape(len(test),1))\n",
    " "
   ]
  },
  {
   "cell_type": "code",
   "execution_count": 5,
   "metadata": {},
   "outputs": [],
   "source": [
    "# stack train/test data\n",
    "X_train = np.hstack(tuple(each for each in train_cols))\n",
    "X_test = np.hstack(tuple(each for each in test_cols))\n",
    "y_train = train['Result']"
   ]
  },
  {
   "cell_type": "code",
   "execution_count": 6,
   "metadata": {},
   "outputs": [
    {
     "data": {
      "text/plain": [
       "array([[ 1. , 70.1, 23. , ...,  7. ,  2. ,  0. ],\n",
       "       [ 0. , 29.9,  4. , ...,  0. ,  1. ,  0. ],\n",
       "       [ 1. , 59.8, 15. , ...,  6. ,  2. ,  5. ],\n",
       "       ...,\n",
       "       [ 0. , 34.7, 16. , ...,  4. ,  0. ,  1. ],\n",
       "       [ 1. , 32.9,  6. , ...,  4. ,  0. ,  0. ],\n",
       "       [ 0. , 67.1, 15. , ...,  5. ,  2. ,  5. ]])"
      ]
     },
     "execution_count": 6,
     "metadata": {},
     "output_type": "execute_result"
    }
   ],
   "source": [
    "X_train"
   ]
  },
  {
   "cell_type": "code",
   "execution_count": 7,
   "metadata": {},
   "outputs": [
    {
     "data": {
      "text/plain": [
       "array([[ 1. , 70. , 27. , ...,  9. ,  5. ,  4. ],\n",
       "       [ 0. , 30. ,  6. , ...,  4. ,  3. ,  3. ],\n",
       "       [ 1. , 21.8,  6. , ...,  3. ,  6. ,  0. ],\n",
       "       ...,\n",
       "       [ 0. , 35.4, 16. , ...,  4. ,  4. ,  4. ],\n",
       "       [ 1. , 56.6, 15. , ...,  6. ,  4. ,  3. ],\n",
       "       [ 0. , 43.4, 14. , ...,  6. ,  1. ,  1. ]])"
      ]
     },
     "execution_count": 7,
     "metadata": {},
     "output_type": "execute_result"
    }
   ],
   "source": [
    "X_test"
   ]
  },
  {
   "cell_type": "code",
   "execution_count": 8,
   "metadata": {},
   "outputs": [
    {
     "data": {
      "text/plain": [
       "3795    1\n",
       "3796    1\n",
       "3797    0\n",
       "3798    0\n",
       "3799    1\n",
       "Name: Result, dtype: int64"
      ]
     },
     "execution_count": 8,
     "metadata": {},
     "output_type": "execute_result"
    }
   ],
   "source": [
    "y_train.tail()"
   ]
  },
  {
   "cell_type": "markdown",
   "metadata": {},
   "source": [
    "---"
   ]
  },
  {
   "cell_type": "markdown",
   "metadata": {},
   "source": [
    "### 2. Modeling"
   ]
  },
  {
   "cell_type": "markdown",
   "metadata": {},
   "source": [
    " - 조건부 확률 모형 : 각 클래스가 정답일 조건부 확률을 계산\n",
    "\n",
    "    - 조건부 확률기반 생성모형 : 베이즈 정리를 사용\n",
    "\n",
    "        - LDA (linear discriminant analysis)\n",
    "        - QDA (Quadratic Discriminanat Analysis)\n",
    "        - 나이브 베이지안 (Naive Bayes)\n",
    "    \n",
    "    - 조건부 확률기반 판별모형 :  직접 조건부 확률 함수를 추정\n",
    "    \n",
    "        - 로지스틱 회귀 (Logistic Regression)\n",
    "        - 의사결정나무 (Descision Tree)\n",
    "        - KNN (K Nearest Neighbor)\n",
    "        \n",
    "        \n",
    "- 판별함수 모형 : 경계면을 찾아서 데이터가 어느 위치에 있는지 계산\n",
    "\n",
    "    - 퍼셉트론 (Perceptron)\n",
    "    - 서포트 벡터 머신 (Support Vector Machine)\n",
    "    - 신경망 (Neural Network)  \n",
    "    \n",
    "    \n",
    "- 모형결합 (Ensemble) : 복수의 예측모형을 결합하여 더 나은 성능을 예측하려는 시도\n",
    "\n",
    "    - 취합 방법론 : 사용할 모형의 집합이 이미 결정되어 있음\n",
    "        \n",
    "        - 다수결 (Majority voting)\n",
    "        - 배깅 (Bagging)\n",
    "        - 랜덤 포레스트 (Random Forest)\n",
    "        \n",
    "    - 부스팅 방법론 : 사용할 모형을 점진적으로 늘림\n",
    "    \n",
    "        - 에이다 부스트 (AdaBoost)\n",
    "        - 그레디언트 부스트 (Gradient Boost)"
   ]
  },
  {
   "cell_type": "markdown",
   "metadata": {},
   "source": [
    "---"
   ]
  },
  {
   "cell_type": "markdown",
   "metadata": {},
   "source": [
    "#### 2.1 조건부 확률모형"
   ]
  },
  {
   "cell_type": "markdown",
   "metadata": {},
   "source": [
    "##### 2.1.1 조건부 확률기반 생성 모형"
   ]
  },
  {
   "cell_type": "code",
   "execution_count": 9,
   "metadata": {},
   "outputs": [
    {
     "name": "stdout",
     "output_type": "stream",
     "text": [
      "Confusion Matrix : \n",
      "\n",
      " [[261  17   3]\n",
      " [ 48 211  22]\n",
      " [135  46  17]]\n",
      "\n",
      "\n",
      " Classification Report : \n",
      "\n",
      "              precision    recall  f1-score   support\n",
      "\n",
      "       Lose       0.59      0.93      0.72       281\n",
      "        Win       0.77      0.75      0.76       281\n",
      "       Draw       0.40      0.09      0.14       198\n",
      "\n",
      "avg / total       0.61      0.64      0.58       760\n",
      "\n"
     ]
    }
   ],
   "source": [
    "# LDA (linear discriminant analysis)\n",
    "model = LinearDiscriminantAnalysis(n_components=3, solver=\"svd\", \n",
    "        store_covariance=True).fit(X_train, y_train)\n",
    "predict_proba = model.predict_proba(X_test)\n",
    "\n",
    "# comparison\n",
    "y_true = test['Result']\n",
    "y_pred = []\n",
    "\n",
    "for i in range(760) :\n",
    "    y_pred.append(np.argmax(predict_proba[i]))\n",
    "\n",
    "target_names = ['Lose', 'Win', 'Draw']\n",
    "print('Confusion Matrix : \\n\\n',confusion_matrix(y_true, y_pred))\n",
    "print('\\n\\n Classification Report : \\n\\n', classification_report(y_true, y_pred, target_names=target_names))"
   ]
  },
  {
   "cell_type": "code",
   "execution_count": 10,
   "metadata": {},
   "outputs": [
    {
     "name": "stdout",
     "output_type": "stream",
     "text": [
      "Confusion Matrix : \n",
      "\n",
      " [[246  19  16]\n",
      " [ 42 212  27]\n",
      " [119  43  36]]\n",
      "\n",
      "\n",
      " Classification Report : \n",
      "\n",
      "              precision    recall  f1-score   support\n",
      "\n",
      "       Lose       0.60      0.88      0.72       281\n",
      "        Win       0.77      0.75      0.76       281\n",
      "       Draw       0.46      0.18      0.26       198\n",
      "\n",
      "avg / total       0.63      0.65      0.61       760\n",
      "\n"
     ]
    }
   ],
   "source": [
    "# QDA (Quadratic Discriminanat Analysis)\n",
    "model = QuadraticDiscriminantAnalysis().fit(X_train, y_train)\n",
    "predict_proba = model.predict_proba(X_test)\n",
    "\n",
    "# comparison\n",
    "y_true = test['Result']\n",
    "y_pred = []\n",
    "\n",
    "for i in range(760) :\n",
    "    y_pred.append(np.argmax(predict_proba[i]))\n",
    "\n",
    "target_names = ['Lose', 'Win', 'Draw']\n",
    "print('Confusion Matrix : \\n\\n',confusion_matrix(y_true, y_pred))\n",
    "print('\\n\\n Classification Report : \\n\\n', classification_report(y_true, y_pred, target_names=target_names))"
   ]
  },
  {
   "cell_type": "code",
   "execution_count": 11,
   "metadata": {
    "scrolled": true
   },
   "outputs": [
    {
     "name": "stdout",
     "output_type": "stream",
     "text": [
      "Confusion Matrix : \n",
      "\n",
      " [[205  29  47]\n",
      " [ 53 176  52]\n",
      " [ 93  52  53]]\n",
      "\n",
      "\n",
      " Classification Report : \n",
      "\n",
      "              precision    recall  f1-score   support\n",
      "\n",
      "       Lose       0.58      0.73      0.65       281\n",
      "        Win       0.68      0.63      0.65       281\n",
      "       Draw       0.35      0.27      0.30       198\n",
      "\n",
      "avg / total       0.56      0.57      0.56       760\n",
      "\n"
     ]
    }
   ],
   "source": [
    "# Naive bayesian - Multinomial\n",
    "model = MultinomialNB().fit(X_train, y_train)\n",
    "predict_proba = model.predict_proba(X_test)\n",
    "\n",
    "# comparison\n",
    "y_true = test['Result']\n",
    "y_pred = []\n",
    "\n",
    "for i in range(760) :\n",
    "    y_pred.append(np.argmax(predict_proba[i]))\n",
    "\n",
    "target_names = ['Lose', 'Win', 'Draw']\n",
    "print('Confusion Matrix : \\n\\n',confusion_matrix(y_true, y_pred))\n",
    "print('\\n\\n Classification Report : \\n\\n', classification_report(y_true, y_pred, target_names=target_names))"
   ]
  },
  {
   "cell_type": "markdown",
   "metadata": {},
   "source": [
    "---"
   ]
  },
  {
   "cell_type": "markdown",
   "metadata": {},
   "source": [
    "##### 2.1.2 조건부 확률기반 판별모형"
   ]
  },
  {
   "cell_type": "code",
   "execution_count": 12,
   "metadata": {},
   "outputs": [],
   "source": [
    "# Logistic Regression : 사용 X (종속변수가 이항분포를 따라야함)"
   ]
  },
  {
   "cell_type": "code",
   "execution_count": 13,
   "metadata": {},
   "outputs": [
    {
     "name": "stdout",
     "output_type": "stream",
     "text": [
      "Confusion Matrix : \n",
      "\n",
      " [[226  24  31]\n",
      " [ 32 214  35]\n",
      " [114  50  34]]\n",
      "\n",
      "\n",
      " Classification Report : \n",
      "\n",
      "              precision    recall  f1-score   support\n",
      "\n",
      "       Lose       0.61      0.80      0.69       281\n",
      "        Win       0.74      0.76      0.75       281\n",
      "       Draw       0.34      0.17      0.23       198\n",
      "\n",
      "avg / total       0.59      0.62      0.59       760\n",
      "\n"
     ]
    }
   ],
   "source": [
    "# Descision Tree\n",
    "model = DecisionTreeClassifier(criterion='entropy', \n",
    "        max_depth=7, min_samples_leaf=5).fit(X_train, y_train)\n",
    "predict_proba = model.predict_proba(X_test)\n",
    "\n",
    "# comparison\n",
    "y_true = test['Result']\n",
    "y_pred = []\n",
    "\n",
    "for i in range(760) :\n",
    "    y_pred.append(np.argmax(predict_proba[i]))\n",
    "\n",
    "target_names = ['Lose', 'Win', 'Draw']\n",
    "print('Confusion Matrix : \\n\\n',confusion_matrix(y_true, y_pred))\n",
    "print('\\n\\n Classification Report : \\n\\n', classification_report(y_true, y_pred, target_names=target_names))"
   ]
  },
  {
   "cell_type": "code",
   "execution_count": 14,
   "metadata": {},
   "outputs": [],
   "source": [
    "# KNN (K Nearest Neighbor)"
   ]
  },
  {
   "cell_type": "markdown",
   "metadata": {},
   "source": [
    "---"
   ]
  },
  {
   "cell_type": "markdown",
   "metadata": {},
   "source": [
    "#### 2.2 모형결합 (Ensemble)"
   ]
  },
  {
   "cell_type": "markdown",
   "metadata": {},
   "source": [
    "##### 2.2.1 취합 방법론"
   ]
  },
  {
   "cell_type": "code",
   "execution_count": 15,
   "metadata": {},
   "outputs": [
    {
     "name": "stdout",
     "output_type": "stream",
     "text": [
      "Confusion Matrix : \n",
      "\n",
      " [[252  19  10]\n",
      " [ 47 204  30]\n",
      " [127  47  24]]\n",
      "\n",
      "\n",
      " Classification Report : \n",
      "\n",
      "              precision    recall  f1-score   support\n",
      "\n",
      "       Lose       0.59      0.90      0.71       281\n",
      "        Win       0.76      0.73      0.74       281\n",
      "       Draw       0.38      0.12      0.18       198\n",
      "\n",
      "avg / total       0.60      0.63      0.59       760\n",
      "\n"
     ]
    }
   ],
   "source": [
    "# 다수결 (Majority voting)\n",
    "\n",
    "# 취합할 모델 생성\n",
    "model1 = LinearDiscriminantAnalysis(n_components=3, solver=\"svd\", store_covariance=True)\n",
    "model2 = QuadraticDiscriminantAnalysis()\n",
    "model3 = GaussianNB()\n",
    "model4 = MultinomialNB()\n",
    "\n",
    "# ensemble 생성\n",
    "ensemble = VotingClassifier(estimators=[('lda', model1), ('qda', model2), ('gnb', model3), ('mul', model4)], \n",
    "                            voting='soft', weights=[1, 1, 1, 1])\n",
    "\n",
    "predict_proba = [c.fit(X_train, y_train).predict_proba(X_test) for c in (model1, model2, model3, model4, ensemble)]\n",
    "\n",
    "# comparison\n",
    "y_true = test['Result']\n",
    "y_pred = []\n",
    "\n",
    "for i in range(760) :\n",
    "    y_pred.append(np.argmax(predict_proba[4][i])) # ensemble index\n",
    "\n",
    "target_names = ['Lose', 'Win', 'Draw']\n",
    "print('Confusion Matrix : \\n\\n',confusion_matrix(y_true, y_pred))\n",
    "print('\\n\\n Classification Report : \\n\\n', classification_report(y_true, y_pred, target_names=target_names))"
   ]
  },
  {
   "cell_type": "code",
   "execution_count": 16,
   "metadata": {},
   "outputs": [
    {
     "name": "stdout",
     "output_type": "stream",
     "text": [
      "Confusion Matrix : \n",
      "\n",
      " [[207  39  35]\n",
      " [ 43 212  26]\n",
      " [113  54  31]]\n",
      "\n",
      "\n",
      " Classification Report : \n",
      "\n",
      "              precision    recall  f1-score   support\n",
      "\n",
      "       Lose       0.57      0.74      0.64       281\n",
      "        Win       0.70      0.75      0.72       281\n",
      "       Draw       0.34      0.16      0.21       198\n",
      "\n",
      "avg / total       0.56      0.59      0.56       760\n",
      "\n"
     ]
    }
   ],
   "source": [
    "# 배깅 (Bagging)\n",
    "model1 = DecisionTreeClassifier().fit(X_train, y_train)\n",
    "model2 = BaggingClassifier(DecisionTreeClassifier(), bootstrap_features=True, random_state=0).fit(X_train, y_train)\n",
    "predict_proba = model2.predict_proba(X_test)\n",
    "\n",
    "# comparison\n",
    "y_true = test['Result']\n",
    "y_pred = []\n",
    "\n",
    "for i in range(760) :\n",
    "    y_pred.append(np.argmax(predict_proba[i]))\n",
    "\n",
    "target_names = ['Lose', 'Win', 'Draw']\n",
    "print('Confusion Matrix : \\n\\n',confusion_matrix(y_true, y_pred))\n",
    "print('\\n\\n Classification Report : \\n\\n', classification_report(y_true, y_pred, target_names=target_names))"
   ]
  },
  {
   "cell_type": "code",
   "execution_count": 17,
   "metadata": {
    "scrolled": true
   },
   "outputs": [
    {
     "name": "stdout",
     "output_type": "stream",
     "text": [
      "Confusion Matrix : \n",
      "\n",
      " [[245  26  10]\n",
      " [ 35 232  14]\n",
      " [119  60  19]]\n",
      "\n",
      "\n",
      " Classification Report : \n",
      "\n",
      "              precision    recall  f1-score   support\n",
      "\n",
      "       Lose       0.61      0.87      0.72       281\n",
      "        Win       0.73      0.83      0.77       281\n",
      "       Draw       0.44      0.10      0.16       198\n",
      "\n",
      "avg / total       0.61      0.65      0.59       760\n",
      "\n"
     ]
    }
   ],
   "source": [
    "# 랜덤포레스트 (RandomForest)\n",
    "clf = RandomForestClassifier(n_estimators=1000, max_depth=10, min_samples_split = 10, criterion = 'entropy')\n",
    "model = clf.fit(X_train, y_train)\n",
    "predict_proba = model.predict_proba(X_test)\n",
    "\n",
    "# comparison\n",
    "y_true = test['Result']\n",
    "y_pred = []\n",
    "\n",
    "for i in range(760) :\n",
    "    y_pred.append(np.argmax(predict_proba[i]))\n",
    "\n",
    "target_names = ['Lose', 'Win', 'Draw']\n",
    "print('Confusion Matrix : \\n\\n',confusion_matrix(y_true, y_pred))\n",
    "print('\\n\\n Classification Report : \\n\\n', classification_report(y_true, y_pred, target_names=target_names))"
   ]
  },
  {
   "cell_type": "markdown",
   "metadata": {},
   "source": [
    "---"
   ]
  },
  {
   "cell_type": "markdown",
   "metadata": {},
   "source": [
    "##### 2.2.2 부스팅 방법론"
   ]
  },
  {
   "cell_type": "code",
   "execution_count": 18,
   "metadata": {},
   "outputs": [
    {
     "name": "stdout",
     "output_type": "stream",
     "text": [
      "Confusion Matrix : \n",
      "\n",
      " [[200  29  52]\n",
      " [ 23 228  30]\n",
      " [ 88  66  44]]\n",
      "\n",
      "\n",
      " Classification Report : \n",
      "\n",
      "              precision    recall  f1-score   support\n",
      "\n",
      "       Lose       0.64      0.71      0.68       281\n",
      "        Win       0.71      0.81      0.75       281\n",
      "       Draw       0.35      0.22      0.27       198\n",
      "\n",
      "avg / total       0.59      0.62      0.60       760\n",
      "\n"
     ]
    }
   ],
   "source": [
    "# 에이다 부스트 (Ada Boost)\n",
    "model = AdaBoostClassifier(DecisionTreeClassifier(max_depth=5, random_state=0), \n",
    "                               algorithm=\"SAMME\", n_estimators=100).fit(X_train, y_train)\n",
    "predict_proba = model.predict_proba(X_test)\n",
    "\n",
    "# comparison\n",
    "y_true = test['Result']\n",
    "y_pred = []\n",
    "\n",
    "for i in range(760) :\n",
    "    y_pred.append(np.argmax(predict_proba[i]))\n",
    "\n",
    "target_names = ['Lose', 'Win', 'Draw']\n",
    "print('Confusion Matrix : \\n\\n',confusion_matrix(y_true, y_pred))\n",
    "print('\\n\\n Classification Report : \\n\\n', classification_report(y_true, y_pred, target_names=target_names))"
   ]
  },
  {
   "cell_type": "code",
   "execution_count": 19,
   "metadata": {},
   "outputs": [
    {
     "name": "stdout",
     "output_type": "stream",
     "text": [
      "Confusion Matrix : \n",
      "\n",
      " [[246  25  10]\n",
      " [ 43 227  11]\n",
      " [118  57  23]]\n",
      "\n",
      "\n",
      " Classification Report : \n",
      "\n",
      "              precision    recall  f1-score   support\n",
      "\n",
      "       Lose       0.60      0.88      0.72       281\n",
      "        Win       0.73      0.81      0.77       281\n",
      "       Draw       0.52      0.12      0.19       198\n",
      "\n",
      "avg / total       0.63      0.65      0.60       760\n",
      "\n"
     ]
    }
   ],
   "source": [
    "# 그레디언트 부스트 (Gradient Boost)\n",
    "model = GradientBoostingClassifier(n_estimators=100, max_depth=2, random_state=0).fit(X_train, y_train)\n",
    "predict_proba = model.predict_proba(X_test)\n",
    "\n",
    "# comparison\n",
    "y_true = test['Result']\n",
    "y_pred = []\n",
    "\n",
    "for i in range(760) :\n",
    "    y_pred.append(np.argmax(predict_proba[i]))\n",
    "\n",
    "target_names = ['Lose', 'Win', 'Draw']\n",
    "print('Confusion Matrix : \\n\\n',confusion_matrix(y_true, y_pred))\n",
    "print('\\n\\n Classification Report : \\n\\n', classification_report(y_true, y_pred, target_names=target_names))"
   ]
  },
  {
   "cell_type": "code",
   "execution_count": 20,
   "metadata": {
    "scrolled": true
   },
   "outputs": [
    {
     "name": "stdout",
     "output_type": "stream",
     "text": [
      "Confusion Matrix : \n",
      "\n",
      " [[252  26   3]\n",
      " [ 42 236   3]\n",
      " [126  61  11]]\n",
      "\n",
      "\n",
      " Classification Report : \n",
      "\n",
      "              precision    recall  f1-score   support\n",
      "\n",
      "       Lose       0.60      0.90      0.72       281\n",
      "        Win       0.73      0.84      0.78       281\n",
      "       Draw       0.65      0.06      0.10       198\n",
      "\n",
      "avg / total       0.66      0.66      0.58       760\n",
      "\n"
     ]
    }
   ],
   "source": [
    "# XG boost\n",
    "model = xgboost.XGBClassifier(n_estimators=100, max_depth=2).fit(X_train, y_train)\n",
    "predict_proba = model.predict_proba(X_test)\n",
    "\n",
    "# comparison\n",
    "y_true = test['Result']\n",
    "y_pred = []\n",
    "\n",
    "for i in range(760) :\n",
    "    y_pred.append(np.argmax(predict_proba[i]))\n",
    "\n",
    "target_names = ['Lose', 'Win', 'Draw']\n",
    "print('Confusion Matrix : \\n\\n',confusion_matrix(y_true, y_pred))\n",
    "print('\\n\\n Classification Report : \\n\\n', classification_report(y_true, y_pred, target_names=target_names))"
   ]
  },
  {
   "cell_type": "markdown",
   "metadata": {},
   "source": [
    "---"
   ]
  },
  {
   "cell_type": "markdown",
   "metadata": {},
   "source": [
    "#### 2.3 판별함수 모형"
   ]
  },
  {
   "cell_type": "code",
   "execution_count": 21,
   "metadata": {},
   "outputs": [
    {
     "name": "stdout",
     "output_type": "stream",
     "text": [
      "Confusion Matrix : \n",
      "\n",
      " [[281   0   0]\n",
      " [281   0   0]\n",
      " [198   0   0]]\n",
      "\n",
      "\n",
      " Classification Report : \n",
      "\n",
      "              precision    recall  f1-score   support\n",
      "\n",
      "       Lose       0.37      1.00      0.54       281\n",
      "        Win       0.00      0.00      0.00       281\n",
      "       Draw       0.00      0.00      0.00       198\n",
      "\n",
      "avg / total       0.14      0.37      0.20       760\n",
      "\n"
     ]
    },
    {
     "name": "stderr",
     "output_type": "stream",
     "text": [
      "/usr/local/lib/python3.6/site-packages/sklearn/metrics/classification.py:1135: UndefinedMetricWarning: Precision and F-score are ill-defined and being set to 0.0 in labels with no predicted samples.\n",
      "  'precision', 'predicted', average, warn_for)\n"
     ]
    }
   ],
   "source": [
    "# 퍼셉트론 (Perceptron) - perceptron\n",
    "model = Perceptron(max_iter=500, eta0=0.1, random_state=1).fit(X_train, y_train)\n",
    "predict_proba = model.predict(X_test)\n",
    "\n",
    "# comparison\n",
    "y_true = test['Result']\n",
    "y_pred = []\n",
    "\n",
    "for i in range(760) :\n",
    "    y_pred.append(np.argmax(predict_proba[i]))\n",
    "\n",
    "target_names = ['Lose', 'Win', 'Draw']\n",
    "print('Confusion Matrix : \\n\\n',confusion_matrix(y_true, y_pred))\n",
    "print('\\n\\n Classification Report : \\n\\n', classification_report(y_true, y_pred, target_names=target_names))"
   ]
  },
  {
   "cell_type": "code",
   "execution_count": 22,
   "metadata": {},
   "outputs": [
    {
     "name": "stdout",
     "output_type": "stream",
     "text": [
      "Confusion Matrix : \n",
      "\n",
      " [[281   0   0]\n",
      " [281   0   0]\n",
      " [198   0   0]]\n",
      "\n",
      "\n",
      " Classification Report : \n",
      "\n",
      "              precision    recall  f1-score   support\n",
      "\n",
      "       Lose       0.37      1.00      0.54       281\n",
      "        Win       0.00      0.00      0.00       281\n",
      "       Draw       0.00      0.00      0.00       198\n",
      "\n",
      "avg / total       0.14      0.37      0.20       760\n",
      "\n"
     ]
    },
    {
     "name": "stderr",
     "output_type": "stream",
     "text": [
      "/usr/local/lib/python3.6/site-packages/sklearn/metrics/classification.py:1135: UndefinedMetricWarning: Precision and F-score are ill-defined and being set to 0.0 in labels with no predicted samples.\n",
      "  'precision', 'predicted', average, warn_for)\n"
     ]
    }
   ],
   "source": [
    "# 퍼셉트론 (Perceptron) - SGD\n",
    "model = SGDClassifier(loss=\"hinge\", max_iter=3, random_state=1).fit(X_train, y_train)\n",
    "predict_proba = model.predict(X_test)\n",
    "\n",
    "# comparison\n",
    "y_true = test['Result']\n",
    "y_pred = []\n",
    "\n",
    "for i in range(760) :\n",
    "    y_pred.append(np.argmax(predict_proba[i]))\n",
    "\n",
    "target_names = ['Lose', 'Win', 'Draw']\n",
    "print('Confusion Matrix : \\n\\n',confusion_matrix(y_true, y_pred))\n",
    "print('\\n\\n Classification Report : \\n\\n', classification_report(y_true, y_pred, target_names=target_names))"
   ]
  },
  {
   "cell_type": "code",
   "execution_count": 23,
   "metadata": {},
   "outputs": [
    {
     "name": "stdout",
     "output_type": "stream",
     "text": [
      "Confusion Matrix : \n",
      "\n",
      " [[281   0   0]\n",
      " [281   0   0]\n",
      " [198   0   0]]\n",
      "\n",
      "\n",
      " Classification Report : \n",
      "\n",
      "              precision    recall  f1-score   support\n",
      "\n",
      "       Lose       0.37      1.00      0.54       281\n",
      "        Win       0.00      0.00      0.00       281\n",
      "       Draw       0.00      0.00      0.00       198\n",
      "\n",
      "avg / total       0.14      0.37      0.20       760\n",
      "\n"
     ]
    },
    {
     "name": "stderr",
     "output_type": "stream",
     "text": [
      "/usr/local/lib/python3.6/site-packages/sklearn/metrics/classification.py:1135: UndefinedMetricWarning: Precision and F-score are ill-defined and being set to 0.0 in labels with no predicted samples.\n",
      "  'precision', 'predicted', average, warn_for)\n"
     ]
    }
   ],
   "source": [
    "# 서포트 벡터 머신 (Support Vector Machine) - linear\n",
    "model = SVC(kernel='linear').fit(X_train, y_train)\n",
    "predict_proba = model.predict(X_test)\n",
    "\n",
    "# comparison\n",
    "y_true = test['Result']\n",
    "y_pred = []\n",
    "\n",
    "for i in range(760) :\n",
    "    y_pred.append(np.argmax(predict_proba[i]))\n",
    "\n",
    "target_names = ['Lose', 'Win', 'Draw']\n",
    "print('Confusion Matrix : \\n\\n',confusion_matrix(y_true, y_pred))\n",
    "print('\\n\\n Classification Report : \\n\\n', classification_report(y_true, y_pred, target_names=target_names))"
   ]
  },
  {
   "cell_type": "code",
   "execution_count": 24,
   "metadata": {},
   "outputs": [
    {
     "name": "stdout",
     "output_type": "stream",
     "text": [
      "Confusion Matrix : \n",
      "\n",
      " [[281   0   0]\n",
      " [281   0   0]\n",
      " [198   0   0]]\n",
      "\n",
      "\n",
      " Classification Report : \n",
      "\n",
      "              precision    recall  f1-score   support\n",
      "\n",
      "       Lose       0.37      1.00      0.54       281\n",
      "        Win       0.00      0.00      0.00       281\n",
      "       Draw       0.00      0.00      0.00       198\n",
      "\n",
      "avg / total       0.14      0.37      0.20       760\n",
      "\n"
     ]
    },
    {
     "name": "stderr",
     "output_type": "stream",
     "text": [
      "/usr/local/lib/python3.6/site-packages/sklearn/metrics/classification.py:1135: UndefinedMetricWarning: Precision and F-score are ill-defined and being set to 0.0 in labels with no predicted samples.\n",
      "  'precision', 'predicted', average, warn_for)\n"
     ]
    }
   ],
   "source": [
    "# 서포트 벡터 머신 (Support Vector Machine) - 다항 커널 (Polynomial Kernel)\n",
    "model = SVC(kernel=\"poly\", degree=2, gamma=1, coef0=0).fit(X_train, y_train)\n",
    "predict_proba = model.predict(X_test)\n",
    "\n",
    "# comparison\n",
    "y_true = test['Result']\n",
    "y_pred = []\n",
    "\n",
    "for i in range(760) :\n",
    "    y_pred.append(np.argmax(predict_proba[i]))\n",
    "\n",
    "target_names = ['Lose', 'Win', 'Draw']\n",
    "print('Confusion Matrix : \\n\\n',confusion_matrix(y_true, y_pred))\n",
    "print('\\n\\n Classification Report : \\n\\n', classification_report(y_true, y_pred, target_names=target_names))"
   ]
  },
  {
   "cell_type": "code",
   "execution_count": 25,
   "metadata": {},
   "outputs": [
    {
     "name": "stdout",
     "output_type": "stream",
     "text": [
      "Confusion Matrix : \n",
      "\n",
      " [[281   0   0]\n",
      " [281   0   0]\n",
      " [198   0   0]]\n",
      "\n",
      "\n",
      " Classification Report : \n",
      "\n",
      "              precision    recall  f1-score   support\n",
      "\n",
      "       Lose       0.37      1.00      0.54       281\n",
      "        Win       0.00      0.00      0.00       281\n",
      "       Draw       0.00      0.00      0.00       198\n",
      "\n",
      "avg / total       0.14      0.37      0.20       760\n",
      "\n"
     ]
    },
    {
     "name": "stderr",
     "output_type": "stream",
     "text": [
      "/usr/local/lib/python3.6/site-packages/sklearn/metrics/classification.py:1135: UndefinedMetricWarning: Precision and F-score are ill-defined and being set to 0.0 in labels with no predicted samples.\n",
      "  'precision', 'predicted', average, warn_for)\n"
     ]
    }
   ],
   "source": [
    "# 서포트 벡터 머신 (Support Vector Machine) - RBF(Radial Basis Function)\n",
    "model = SVC(kernel=\"rbf\").fit(X_train, y_train)\n",
    "predict_proba = model.predict(X_test)\n",
    "\n",
    "# comparison\n",
    "y_true = test['Result']\n",
    "y_pred = []\n",
    "\n",
    "for i in range(760) :\n",
    "    y_pred.append(np.argmax(predict_proba[i]))\n",
    "\n",
    "target_names = ['Lose', 'Win', 'Draw']\n",
    "print('Confusion Matrix : \\n\\n',confusion_matrix(y_true, y_pred))\n",
    "print('\\n\\n Classification Report : \\n\\n', classification_report(y_true, y_pred, target_names=target_names))"
   ]
  },
  {
   "cell_type": "code",
   "execution_count": 26,
   "metadata": {},
   "outputs": [
    {
     "name": "stdout",
     "output_type": "stream",
     "text": [
      "Confusion Matrix : \n",
      "\n",
      " [[281   0   0]\n",
      " [281   0   0]\n",
      " [198   0   0]]\n",
      "\n",
      "\n",
      " Classification Report : \n",
      "\n",
      "              precision    recall  f1-score   support\n",
      "\n",
      "       Lose       0.37      1.00      0.54       281\n",
      "        Win       0.00      0.00      0.00       281\n",
      "       Draw       0.00      0.00      0.00       198\n",
      "\n",
      "avg / total       0.14      0.37      0.20       760\n",
      "\n"
     ]
    },
    {
     "name": "stderr",
     "output_type": "stream",
     "text": [
      "/usr/local/lib/python3.6/site-packages/sklearn/metrics/classification.py:1135: UndefinedMetricWarning: Precision and F-score are ill-defined and being set to 0.0 in labels with no predicted samples.\n",
      "  'precision', 'predicted', average, warn_for)\n"
     ]
    }
   ],
   "source": [
    "# 서포트 벡터 머신 (Support Vector Machine) - 시그모이드 커널 (Sigmoid Kernel)\n",
    "model = SVC(kernel=\"sigmoid\", gamma=2, coef0=2).fit(X_train, y_train)\n",
    "predict_proba = model.predict(X_test)\n",
    "\n",
    "# comparison\n",
    "y_true = test['Result']\n",
    "y_pred = []\n",
    "\n",
    "for i in range(760) :\n",
    "    y_pred.append(np.argmax(predict_proba[i]))\n",
    "\n",
    "target_names = ['Lose', 'Win', 'Draw']\n",
    "print('Confusion Matrix : \\n\\n',confusion_matrix(y_true, y_pred))\n",
    "print('\\n\\n Classification Report : \\n\\n', classification_report(y_true, y_pred, target_names=target_names))"
   ]
  },
  {
   "cell_type": "code",
   "execution_count": 27,
   "metadata": {},
   "outputs": [],
   "source": [
    "# 신경망 (Neural Network)"
   ]
  },
  {
   "cell_type": "code",
   "execution_count": null,
   "metadata": {},
   "outputs": [],
   "source": []
  },
  {
   "cell_type": "code",
   "execution_count": null,
   "metadata": {},
   "outputs": [],
   "source": []
  }
 ],
 "metadata": {
  "kernelspec": {
   "display_name": "Python 3",
   "language": "python",
   "name": "python3"
  },
  "language_info": {
   "codemirror_mode": {
    "name": "ipython",
    "version": 3
   },
   "file_extension": ".py",
   "mimetype": "text/x-python",
   "name": "python",
   "nbconvert_exporter": "python",
   "pygments_lexer": "ipython3",
   "version": "3.6.4"
  }
 },
 "nbformat": 4,
 "nbformat_minor": 2
}
