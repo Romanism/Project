{
 "cells": [
  {
   "cell_type": "markdown",
   "metadata": {},
   "source": [
    "### Data Crawling"
   ]
  },
  {
   "cell_type": "code",
   "execution_count": null,
   "metadata": {},
   "outputs": [],
   "source": [
    "from function import *"
   ]
  },
  {
   "cell_type": "code",
   "execution_count": null,
   "metadata": {},
   "outputs": [],
   "source": [
    "# make columns\n",
    "columns = [\"Team\", \"Possession\", \"Shots on target\", \"Shots\", \"Touches\", \"Passes\", \"Tackles\", \"Clearances\", \"Corners\", \"Offsides\", 'Goal']"
   ]
  },
  {
   "cell_type": "code",
   "execution_count": null,
   "metadata": {},
   "outputs": [],
   "source": [
    "# season12 crawling (Train data)\n",
    "season12 = pd.DataFrame(columns=columns)\n",
    "premier(season12, 7864, 8243)\n",
    "year(season12, 2012)\n",
    "home(season12)\n",
    "result(season12)\n",
    "\n",
    "# store csv\n",
    "season12.to_csv('season12.csv')"
   ]
  },
  {
   "cell_type": "code",
   "execution_count": null,
   "metadata": {},
   "outputs": [],
   "source": [
    "# season13 crawling (Train data)\n",
    "season13 = pd.DataFrame(columns=columns)\n",
    "premier(season13, 9231, 9610)\n",
    "year(season13, 2013)\n",
    "home(season13)\n",
    "result(season13)\n",
    "\n",
    "# store csv\n",
    "season13.to_csv('season13.csv')"
   ]
  },
  {
   "cell_type": "code",
   "execution_count": null,
   "metadata": {},
   "outputs": [],
   "source": [
    "# season14 crawling (Train data)\n",
    "season14 = pd.DataFrame(columns=columns)\n",
    "premier(season14, 9611, 9990)\n",
    "year(season14, 2014)\n",
    "home(season14)\n",
    "result(season14)\n",
    "\n",
    "# store csv\n",
    "season14.to_csv('season14.csv')"
   ]
  },
  {
   "cell_type": "code",
   "execution_count": null,
   "metadata": {},
   "outputs": [],
   "source": [
    "# season15 crawling (Train data)\n",
    "season15 = pd.DataFrame(columns=columns)\n",
    "premier(season15, 12115, 12494)\n",
    "year(season15, 2015)\n",
    "home(season15)\n",
    "result(season15)\n",
    "\n",
    "# store csv\n",
    "season15.to_csv('season15.csv')"
   ]
  },
  {
   "cell_type": "code",
   "execution_count": null,
   "metadata": {},
   "outputs": [],
   "source": [
    "# season16 crawling (Train data)\n",
    "season16 = pd.DataFrame(columns=columns)\n",
    "premier(season16, 14040, 14419)\n",
    "year(season16, 2016)\n",
    "home(season16)\n",
    "result(season16)\n",
    "\n",
    "# store csv\n",
    "season16.to_csv('season16.csv')"
   ]
  },
  {
   "cell_type": "code",
   "execution_count": null,
   "metadata": {},
   "outputs": [],
   "source": [
    "# season16 crawling (Test data)\n",
    "season17 = pd.DataFrame(columns=columns)\n",
    "premier(season17, 22344, 23023)\n",
    "year(season17, 2016)\n",
    "home(season17)\n",
    "result(season17)\n",
    "\n",
    "# store csv\n",
    "season17.to_csv('season17.csv')"
   ]
  }
 ],
 "metadata": {
  "kernelspec": {
   "display_name": "Python 3",
   "language": "python",
   "name": "python3"
  },
  "language_info": {
   "codemirror_mode": {
    "name": "ipython",
    "version": 3
   },
   "file_extension": ".py",
   "mimetype": "text/x-python",
   "name": "python",
   "nbconvert_exporter": "python",
   "pygments_lexer": "ipython3",
   "version": "3.6.4"
  }
 },
 "nbformat": 4,
 "nbformat_minor": 2
}
