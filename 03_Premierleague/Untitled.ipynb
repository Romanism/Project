{
 "cells": [
  {
   "cell_type": "code",
   "execution_count": 2,
   "metadata": {},
   "outputs": [],
   "source": [
    "season12 = pd.read_csv('data/season12.csv')\n",
    "season13 = pd.read_csv('data/season13.csv')\n",
    "season14 = pd.read_csv('data/season14.csv')\n",
    "season15 = pd.read_csv('data/season15.csv')\n",
    "season16 = pd.read_csv('data/season16.csv')"
   ]
  },
  {
   "cell_type": "code",
   "execution_count": 3,
   "metadata": {},
   "outputs": [],
   "source": [
    "# make train data\n",
    "train = pd.concat([season12, season13, season14, season15, season16]).reset_index(drop=True)\n",
    "\n",
    "# store csv\n",
    "train.to_csv('data/train.csv', encoding='utf-8', index=False)"
   ]
  },
  {
   "cell_type": "code",
   "execution_count": null,
   "metadata": {},
   "outputs": [],
   "source": []
  }
 ],
 "metadata": {
  "kernelspec": {
   "display_name": "Python 3",
   "language": "python",
   "name": "python3"
  },
  "language_info": {
   "codemirror_mode": {
    "name": "ipython",
    "version": 3
   },
   "file_extension": ".py",
   "mimetype": "text/x-python",
   "name": "python",
   "nbconvert_exporter": "python",
   "pygments_lexer": "ipython3",
   "version": "3.6.4"
  }
 },
 "nbformat": 4,
 "nbformat_minor": 2
}
