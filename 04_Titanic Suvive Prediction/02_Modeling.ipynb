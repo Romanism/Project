{
 "cells": [
  {
   "cell_type": "markdown",
   "metadata": {},
   "source": [
    "# Modeling"
   ]
  },
  {
   "cell_type": "code",
   "execution_count": 1,
   "metadata": {},
   "outputs": [],
   "source": [
    "from function import *"
   ]
  },
  {
   "cell_type": "code",
   "execution_count": 2,
   "metadata": {},
   "outputs": [],
   "source": [
    "# load data\n",
    "train = pd.read_csv('data/train.csv')\n",
    "test = pd.read_csv('data/test.csv')"
   ]
  },
  {
   "cell_type": "markdown",
   "metadata": {},
   "source": [
    "### 1. Preprocessing"
   ]
  },
  {
   "cell_type": "code",
   "execution_count": 3,
   "metadata": {
    "scrolled": true
   },
   "outputs": [
    {
     "data": {
      "text/html": [
       "<div>\n",
       "<style scoped>\n",
       "    .dataframe tbody tr th:only-of-type {\n",
       "        vertical-align: middle;\n",
       "    }\n",
       "\n",
       "    .dataframe tbody tr th {\n",
       "        vertical-align: top;\n",
       "    }\n",
       "\n",
       "    .dataframe thead th {\n",
       "        text-align: right;\n",
       "    }\n",
       "</style>\n",
       "<table border=\"1\" class=\"dataframe\">\n",
       "  <thead>\n",
       "    <tr style=\"text-align: right;\">\n",
       "      <th></th>\n",
       "      <th>PassengerId</th>\n",
       "      <th>Survived</th>\n",
       "      <th>Pclass</th>\n",
       "      <th>Name</th>\n",
       "      <th>Sex</th>\n",
       "      <th>Age</th>\n",
       "      <th>SibSp</th>\n",
       "      <th>Parch</th>\n",
       "      <th>Ticket</th>\n",
       "      <th>Fare</th>\n",
       "      <th>Cabin</th>\n",
       "      <th>Embarked</th>\n",
       "    </tr>\n",
       "  </thead>\n",
       "  <tbody>\n",
       "    <tr>\n",
       "      <th>886</th>\n",
       "      <td>887</td>\n",
       "      <td>0</td>\n",
       "      <td>2</td>\n",
       "      <td>Montvila, Rev. Juozas</td>\n",
       "      <td>0</td>\n",
       "      <td>27.0</td>\n",
       "      <td>0</td>\n",
       "      <td>0</td>\n",
       "      <td>211536</td>\n",
       "      <td>13.00</td>\n",
       "      <td>NaN</td>\n",
       "      <td>0.0</td>\n",
       "    </tr>\n",
       "    <tr>\n",
       "      <th>887</th>\n",
       "      <td>888</td>\n",
       "      <td>1</td>\n",
       "      <td>1</td>\n",
       "      <td>Graham, Miss. Margaret Edith</td>\n",
       "      <td>1</td>\n",
       "      <td>19.0</td>\n",
       "      <td>0</td>\n",
       "      <td>0</td>\n",
       "      <td>112053</td>\n",
       "      <td>30.00</td>\n",
       "      <td>B42</td>\n",
       "      <td>0.0</td>\n",
       "    </tr>\n",
       "    <tr>\n",
       "      <th>888</th>\n",
       "      <td>889</td>\n",
       "      <td>0</td>\n",
       "      <td>3</td>\n",
       "      <td>Johnston, Miss. Catherine Helen \"Carrie\"</td>\n",
       "      <td>1</td>\n",
       "      <td>NaN</td>\n",
       "      <td>1</td>\n",
       "      <td>2</td>\n",
       "      <td>W./C. 6607</td>\n",
       "      <td>23.45</td>\n",
       "      <td>NaN</td>\n",
       "      <td>0.0</td>\n",
       "    </tr>\n",
       "    <tr>\n",
       "      <th>889</th>\n",
       "      <td>890</td>\n",
       "      <td>1</td>\n",
       "      <td>1</td>\n",
       "      <td>Behr, Mr. Karl Howell</td>\n",
       "      <td>0</td>\n",
       "      <td>26.0</td>\n",
       "      <td>0</td>\n",
       "      <td>0</td>\n",
       "      <td>111369</td>\n",
       "      <td>30.00</td>\n",
       "      <td>C148</td>\n",
       "      <td>1.0</td>\n",
       "    </tr>\n",
       "    <tr>\n",
       "      <th>890</th>\n",
       "      <td>891</td>\n",
       "      <td>0</td>\n",
       "      <td>3</td>\n",
       "      <td>Dooley, Mr. Patrick</td>\n",
       "      <td>0</td>\n",
       "      <td>32.0</td>\n",
       "      <td>0</td>\n",
       "      <td>0</td>\n",
       "      <td>370376</td>\n",
       "      <td>7.75</td>\n",
       "      <td>NaN</td>\n",
       "      <td>2.0</td>\n",
       "    </tr>\n",
       "  </tbody>\n",
       "</table>\n",
       "</div>"
      ],
      "text/plain": [
       "     PassengerId  Survived  Pclass                                      Name  \\\n",
       "886          887         0       2                     Montvila, Rev. Juozas   \n",
       "887          888         1       1              Graham, Miss. Margaret Edith   \n",
       "888          889         0       3  Johnston, Miss. Catherine Helen \"Carrie\"   \n",
       "889          890         1       1                     Behr, Mr. Karl Howell   \n",
       "890          891         0       3                       Dooley, Mr. Patrick   \n",
       "\n",
       "     Sex   Age  SibSp  Parch      Ticket   Fare Cabin  Embarked  \n",
       "886    0  27.0      0      0      211536  13.00   NaN       0.0  \n",
       "887    1  19.0      0      0      112053  30.00   B42       0.0  \n",
       "888    1   NaN      1      2  W./C. 6607  23.45   NaN       0.0  \n",
       "889    0  26.0      0      0      111369  30.00  C148       1.0  \n",
       "890    0  32.0      0      0      370376   7.75   NaN       2.0  "
      ]
     },
     "execution_count": 3,
     "metadata": {},
     "output_type": "execute_result"
    }
   ],
   "source": [
    "train.tail()"
   ]
  },
  {
   "cell_type": "code",
   "execution_count": 4,
   "metadata": {
    "scrolled": false
   },
   "outputs": [
    {
     "data": {
      "text/plain": [
       "PassengerId    False\n",
       "Survived       False\n",
       "Pclass         False\n",
       "Name           False\n",
       "Sex            False\n",
       "Age             True\n",
       "SibSp          False\n",
       "Parch          False\n",
       "Ticket         False\n",
       "Fare           False\n",
       "Cabin           True\n",
       "Embarked        True\n",
       "dtype: bool"
      ]
     },
     "execution_count": 4,
     "metadata": {},
     "output_type": "execute_result"
    }
   ],
   "source": [
    "train.isnull().any()"
   ]
  },
  {
   "cell_type": "code",
   "execution_count": 5,
   "metadata": {
    "scrolled": true
   },
   "outputs": [],
   "source": [
    "# Null값 처리\n",
    "train['Age'] = train['Age'].fillna(train['Age'].mean())\n",
    "test['Age'] = test['Age'].fillna(test['Age'].mean())\n",
    "\n",
    "train['Embarked'] = train['Embarked'].fillna(train['Embarked'].max())\n",
    "test['Embarked'] = test['Embarked'].fillna(test['Embarked'].max())\n",
    "\n",
    "train['Fare'] = train['Fare'].fillna(train['Fare'].mean())\n",
    "test['Fare'] = test['Fare'].fillna(test['Fare'].mean())"
   ]
  },
  {
   "cell_type": "code",
   "execution_count": 6,
   "metadata": {},
   "outputs": [
    {
     "data": {
      "text/html": [
       "<div>\n",
       "<style scoped>\n",
       "    .dataframe tbody tr th:only-of-type {\n",
       "        vertical-align: middle;\n",
       "    }\n",
       "\n",
       "    .dataframe tbody tr th {\n",
       "        vertical-align: top;\n",
       "    }\n",
       "\n",
       "    .dataframe thead th {\n",
       "        text-align: right;\n",
       "    }\n",
       "</style>\n",
       "<table border=\"1\" class=\"dataframe\">\n",
       "  <thead>\n",
       "    <tr style=\"text-align: right;\">\n",
       "      <th></th>\n",
       "      <th>VIF Factor</th>\n",
       "      <th>features</th>\n",
       "    </tr>\n",
       "  </thead>\n",
       "  <tbody>\n",
       "    <tr>\n",
       "      <th>0</th>\n",
       "      <td>4.004062</td>\n",
       "      <td>Pclass</td>\n",
       "    </tr>\n",
       "    <tr>\n",
       "      <th>1</th>\n",
       "      <td>1.657283</td>\n",
       "      <td>Sex</td>\n",
       "    </tr>\n",
       "    <tr>\n",
       "      <th>2</th>\n",
       "      <td>3.975274</td>\n",
       "      <td>Age</td>\n",
       "    </tr>\n",
       "    <tr>\n",
       "      <th>3</th>\n",
       "      <td>1.563103</td>\n",
       "      <td>SibSp</td>\n",
       "    </tr>\n",
       "    <tr>\n",
       "      <th>4</th>\n",
       "      <td>1.631716</td>\n",
       "      <td>Parch</td>\n",
       "    </tr>\n",
       "    <tr>\n",
       "      <th>5</th>\n",
       "      <td>1.769640</td>\n",
       "      <td>Fare</td>\n",
       "    </tr>\n",
       "    <tr>\n",
       "      <th>6</th>\n",
       "      <td>1.398586</td>\n",
       "      <td>Embarked</td>\n",
       "    </tr>\n",
       "  </tbody>\n",
       "</table>\n",
       "</div>"
      ],
      "text/plain": [
       "   VIF Factor  features\n",
       "0    4.004062    Pclass\n",
       "1    1.657283       Sex\n",
       "2    3.975274       Age\n",
       "3    1.563103     SibSp\n",
       "4    1.631716     Parch\n",
       "5    1.769640      Fare\n",
       "6    1.398586  Embarked"
      ]
     },
     "execution_count": 6,
     "metadata": {},
     "output_type": "execute_result"
    }
   ],
   "source": [
    "# Check VIF\n",
    "train_vif = train.drop(['PassengerId', 'Name', 'Ticket', 'Cabin', 'Survived'], axis = 1)\n",
    "vif = pd.DataFrame()\n",
    "vif[\"VIF Factor\"] = [variance_inflation_factor(train_vif.values, i) for i in range(train_vif.shape[1])]\n",
    "vif[\"features\"] = train_vif.columns\n",
    "vif"
   ]
  },
  {
   "cell_type": "markdown",
   "metadata": {},
   "source": [
    "### 2. Select columns & Encoding"
   ]
  },
  {
   "cell_type": "code",
   "execution_count": 7,
   "metadata": {},
   "outputs": [],
   "source": [
    "y = train['Survived']\n",
    "train = train.drop(['PassengerId', 'Name', 'Ticket', 'Cabin', 'Survived'], axis = 1)\n",
    "submission_id = test['PassengerId']\n",
    "test = test.drop(['PassengerId', 'Name', 'Ticket', 'Cabin'], axis = 1)"
   ]
  },
  {
   "cell_type": "code",
   "execution_count": 8,
   "metadata": {},
   "outputs": [],
   "source": [
    "# one-hot encoding\n",
    "\n",
    "# pclass\n",
    "pclass = pd.get_dummies(train.Pclass)\n",
    "pclass.rename(columns={1: 'pclass1', 2: 'pclass2', 3: 'pclass3'}, inplace=True)\n",
    "train = pd.concat([train, pclass], axis=1)\n",
    "train = train.drop(['Pclass'], axis=1)\n",
    "\n",
    "# sibsp\n",
    "sibsp = pd.get_dummies(train.SibSp)\n",
    "sibsp.rename(columns={0: 'sibsp0', 1: 'sibsp1', 2: 'sibsp2', 3: 'sibsp3', 4: 'sibsp4', 5: 'sibsp5', 8:'sibsp8'}, inplace=True)\n",
    "train = pd.concat([train, sibsp], axis=1)\n",
    "train = train.drop(['SibSp'], axis=1)\n",
    "\n",
    "# parch\n",
    "parch = pd.get_dummies(train.Parch)\n",
    "parch.rename(columns={0: 'parch0', 1: 'parch1', 2: 'parch2', 3: 'parch3', 4: 'parch4', 5: 'parch5', 6:'parch6'}, inplace=True)\n",
    "train = pd.concat([train, parch], axis=1)\n",
    "train = train.drop(['Parch'], axis=1)\n",
    "\n",
    "# embarked\n",
    "embarked = pd.get_dummies(train.Embarked)\n",
    "embarked.rename(columns={0: 'embarked0', 1: 'embarked1', 2: 'embarked2'}, inplace=True)\n",
    "train = pd.concat([train, embarked], axis=1)\n",
    "train = train.drop(['Embarked'], axis=1)"
   ]
  },
  {
   "cell_type": "code",
   "execution_count": 9,
   "metadata": {},
   "outputs": [],
   "source": [
    "# one-hot encoding\n",
    "\n",
    "# pclass\n",
    "pclass = pd.get_dummies(test.Pclass)\n",
    "pclass.rename(columns={1: 'pclass1', 2: 'pclass2', 3: 'pclass3'}, inplace=True)\n",
    "test = pd.concat([test, pclass], axis=1)\n",
    "test = test.drop(['Pclass'], axis=1)\n",
    "\n",
    "# sibsp\n",
    "sibsp = pd.get_dummies(test.SibSp)\n",
    "sibsp.rename(columns={0: 'sibsp0', 1: 'sibsp1', 2: 'sibsp2', 3: 'sibsp3', 4: 'sibsp4', 5: 'sibsp5', 8:'sibsp8'}, inplace=True)\n",
    "test = pd.concat([test, sibsp], axis=1)\n",
    "test = test.drop(['SibSp'], axis=1)\n",
    "\n",
    "# parch\n",
    "parch = pd.get_dummies(test.Parch)\n",
    "parch.rename(columns={0: 'parch0', 1: 'parch1', 2: 'parch2', 3: 'parch3', 4: 'parch4', 5: 'parch5', 6:'parch6'}, inplace=True)\n",
    "test = pd.concat([test, parch], axis=1)\n",
    "test = test.drop(['Parch'], axis=1)\n",
    "\n",
    "# embarked\n",
    "embarked = pd.get_dummies(test.Embarked)\n",
    "embarked.rename(columns={0: 'embarked0', 1: 'embarked1', 2: 'embarked2'}, inplace=True)\n",
    "test = pd.concat([test, embarked], axis=1)\n",
    "test = test.drop(['Embarked'], axis=1)"
   ]
  },
  {
   "cell_type": "code",
   "execution_count": 10,
   "metadata": {},
   "outputs": [],
   "source": [
    "test = test.drop([9], axis = 1)"
   ]
  },
  {
   "cell_type": "markdown",
   "metadata": {},
   "source": [
    "### 3. Modeling"
   ]
  },
  {
   "cell_type": "code",
   "execution_count": 11,
   "metadata": {},
   "outputs": [],
   "source": [
    "# split data\n",
    "X_train, X_test, y_train, y_test = train_test_split(train, y, test_size=0.2, random_state=42)"
   ]
  },
  {
   "cell_type": "code",
   "execution_count": 12,
   "metadata": {},
   "outputs": [
    {
     "name": "stdout",
     "output_type": "stream",
     "text": [
      "confusion matrix :\n",
      "\n",
      " [[85 20]\n",
      " [21 53]]\n",
      "\n",
      "\n",
      "classification_report :\n",
      "\n",
      "              precision    recall  f1-score   support\n",
      "\n",
      " Unsurvived       0.80      0.81      0.81       105\n",
      "   Survived       0.73      0.72      0.72        74\n",
      "\n",
      "avg / total       0.77      0.77      0.77       179\n",
      "\n"
     ]
    }
   ],
   "source": [
    "# DecisionTree\n",
    "from sklearn import tree\n",
    "clf = tree.DecisionTreeClassifier()\n",
    "clf = clf.fit(X_train, y_train)\n",
    "y_pred = clf.predict(X_test)\n",
    "\n",
    "print('confusion matrix :\\n\\n', confusion_matrix(y_test, y_pred))\n",
    "print('\\n')\n",
    "print('classification_report :\\n\\n', classification_report(y_test, y_pred, target_names=['Unsurvived','Survived']))"
   ]
  },
  {
   "cell_type": "code",
   "execution_count": 13,
   "metadata": {},
   "outputs": [
    {
     "name": "stdout",
     "output_type": "stream",
     "text": [
      "confusion matrix :\n",
      "\n",
      " [[96  9]\n",
      " [23 51]]\n",
      "\n",
      "\n",
      "classification_report :\n",
      "\n",
      "              precision    recall  f1-score   support\n",
      "\n",
      " Unsurvived       0.81      0.91      0.86       105\n",
      "   Survived       0.85      0.69      0.76        74\n",
      "\n",
      "avg / total       0.82      0.82      0.82       179\n",
      "\n"
     ]
    }
   ],
   "source": [
    "# RandomForest\n",
    "clf = RandomForestClassifier(n_estimators = 1000, max_depth=5, random_state=0)\n",
    "clf.fit(X_train, y_train)\n",
    "y_pred = clf.predict(X_test)\n",
    "\n",
    "print('confusion matrix :\\n\\n', confusion_matrix(y_test, y_pred))\n",
    "print('\\n')\n",
    "print('classification_report :\\n\\n', classification_report(y_test, y_pred, target_names=['Unsurvived','Survived']))"
   ]
  },
  {
   "cell_type": "code",
   "execution_count": 14,
   "metadata": {},
   "outputs": [
    {
     "name": "stdout",
     "output_type": "stream",
     "text": [
      "confusion matrix :\n",
      "\n",
      " [[84 21]\n",
      " [18 56]]\n",
      "\n",
      "\n",
      "classification_report :\n",
      "\n",
      "              precision    recall  f1-score   support\n",
      "\n",
      " Unsurvived       0.82      0.80      0.81       105\n",
      "   Survived       0.73      0.76      0.74        74\n",
      "\n",
      "avg / total       0.78      0.78      0.78       179\n",
      "\n"
     ]
    },
    {
     "name": "stderr",
     "output_type": "stream",
     "text": [
      "/anaconda3/envs/practice/lib/python3.6/site-packages/sklearn/preprocessing/label.py:151: DeprecationWarning: The truth value of an empty array is ambiguous. Returning False, but in future this will result in an error. Use `array.size > 0` to check that an array is not empty.\n",
      "  if diff:\n"
     ]
    }
   ],
   "source": [
    "clf = xgboost.XGBClassifier(n_estimators=1000, max_depth=3)\n",
    "clf.fit(X_train, y_train)\n",
    "y_pred = clf.predict(X_test)\n",
    "\n",
    "print('confusion matrix :\\n\\n', confusion_matrix(y_test, y_pred))\n",
    "print('\\n')\n",
    "print('classification_report :\\n\\n', classification_report(y_test, y_pred, target_names=['Unsurvived','Survived']))"
   ]
  },
  {
   "cell_type": "code",
   "execution_count": 15,
   "metadata": {},
   "outputs": [
    {
     "name": "stdout",
     "output_type": "stream",
     "text": [
      "confusion matrix :\n",
      "\n",
      " [[86 19]\n",
      " [21 53]]\n",
      "\n",
      "\n",
      "classification_report :\n",
      "\n",
      "              precision    recall  f1-score   support\n",
      "\n",
      " Unsurvived       0.80      0.82      0.81       105\n",
      "   Survived       0.74      0.72      0.73        74\n",
      "\n",
      "avg / total       0.78      0.78      0.78       179\n",
      "\n"
     ]
    }
   ],
   "source": [
    "clf = GradientBoostingClassifier(n_estimators=1000, max_depth=5, random_state=0)\n",
    "clf.fit(X_train, y_train)\n",
    "y_pred = clf.predict(X_test)\n",
    "\n",
    "print('confusion matrix :\\n\\n', confusion_matrix(y_test, y_pred))\n",
    "print('\\n')\n",
    "print('classification_report :\\n\\n', classification_report(y_test, y_pred, target_names=['Unsurvived','Survived']))"
   ]
  },
  {
   "cell_type": "markdown",
   "metadata": {},
   "source": [
    "### 4. Grid Search "
   ]
  },
  {
   "cell_type": "code",
   "execution_count": 16,
   "metadata": {},
   "outputs": [
    {
     "name": "stdout",
     "output_type": "stream",
     "text": [
      "Best Parameter :\n",
      "\n",
      " {'max_depth': 2, 'n_estimators': 100}\n"
     ]
    }
   ],
   "source": [
    "import warnings\n",
    "warnings.filterwarnings('ignore')\n",
    "\n",
    "param_grid = [\n",
    "    {'n_estimators' : [10, 20, 50, 100, 200, 500, 1000], 'max_depth' : [2, 4, 6, 8, 10]}]\n",
    "\n",
    "model = xgboost.XGBClassifier()\n",
    "grid_search = GridSearchCV(model, param_grid, cv = 5, return_train_score = True)\n",
    "grid_search.fit(X_train, y_train)\n",
    "\n",
    "print('Best Parameter :\\n\\n', grid_search.best_params_)"
   ]
  },
  {
   "cell_type": "code",
   "execution_count": 17,
   "metadata": {},
   "outputs": [
    {
     "name": "stdout",
     "output_type": "stream",
     "text": [
      "Best Parameter :\n",
      "\n",
      " {'max_depth': 8, 'n_estimators': 50}\n"
     ]
    }
   ],
   "source": [
    "import warnings\n",
    "warnings.filterwarnings('ignore')\n",
    "\n",
    "param_grid = [\n",
    "    {'n_estimators' : [10, 20, 50, 100, 200, 500, 1000], 'max_depth' : [2, 4, 6, 8, 10]}]\n",
    "\n",
    "model = RandomForestClassifier()\n",
    "grid_search = GridSearchCV(model, param_grid, cv = 5, return_train_score = True)\n",
    "grid_search.fit(X_train, y_train)\n",
    "\n",
    "print('Best Parameter :\\n\\n', grid_search.best_params_)"
   ]
  },
  {
   "cell_type": "markdown",
   "metadata": {},
   "source": [
    "### 5. Cross Validation"
   ]
  },
  {
   "cell_type": "code",
   "execution_count": 18,
   "metadata": {},
   "outputs": [
    {
     "name": "stdout",
     "output_type": "stream",
     "text": [
      "Corss Validation Score :\n",
      "\n",
      " [0.86111111 0.79166667 0.73611111 0.94444444 0.87323944 0.77464789\n",
      " 0.78873239 0.77464789 0.78571429 0.9       ]\n"
     ]
    }
   ],
   "source": [
    "# validation score\n",
    "clf1 = xgboost.XGBClassifier(n_estimators=100, max_depth=2)\n",
    "scores = cross_val_score(clf1, X_train, y_train, cv= 10)\n",
    "print('Corss Validation Score :\\n\\n', scores)"
   ]
  },
  {
   "cell_type": "code",
   "execution_count": 19,
   "metadata": {},
   "outputs": [
    {
     "name": "stdout",
     "output_type": "stream",
     "text": [
      "Corss Validation Score :\n",
      "\n",
      " [0.81944444 0.79166667 0.76388889 0.93055556 0.87323944 0.8028169\n",
      " 0.76056338 0.70422535 0.77142857 0.91428571]\n"
     ]
    }
   ],
   "source": [
    "# validation score\n",
    "clf2 = RandomForestClassifier(max_depth = 8, min_samples_split = 15, n_estimators = 1000).fit(X_train, y_train)\n",
    "scores = cross_val_score(clf2, X_train, y_train, cv= 10)\n",
    "print('Corss Validation Score :\\n\\n', scores)"
   ]
  },
  {
   "cell_type": "markdown",
   "metadata": {},
   "source": [
    "### 6. Submit"
   ]
  },
  {
   "cell_type": "code",
   "execution_count": 20,
   "metadata": {},
   "outputs": [],
   "source": [
    "clf = xgboost.XGBClassifier(n_estimators=100, max_depth=2)\n",
    "clf.fit(X_train, y_train)\n",
    "y_pred = clf.predict(test)\n",
    "\n",
    "submission = pd.DataFrame(columns = ['PassengerId', 'Survived'])\n",
    "submission['PassengerId'] = submission_id\n",
    "submission['Survived'] = y_pred\n",
    "\n",
    "submission.to_csv('data/xgboost.csv', index = False)"
   ]
  },
  {
   "cell_type": "code",
   "execution_count": 21,
   "metadata": {},
   "outputs": [],
   "source": [
    "clf = RandomForestClassifier(max_depth = 8, min_samples_split = 15, n_estimators = 1000)\n",
    "clf.fit(X_train, y_train)\n",
    "y_pred = clf.predict(test)\n",
    "\n",
    "submission = pd.DataFrame(columns = ['PassengerId', 'Survived'])\n",
    "submission['PassengerId'] = submission_id\n",
    "submission['Survived'] = y_pred\n",
    "\n",
    "submission.to_csv('data/RandomForest.csv', index = False)"
   ]
  }
 ],
 "metadata": {
  "kernelspec": {
   "display_name": "Python 3",
   "language": "python",
   "name": "python3"
  },
  "language_info": {
   "codemirror_mode": {
    "name": "ipython",
    "version": 3
   },
   "file_extension": ".py",
   "mimetype": "text/x-python",
   "name": "python",
   "nbconvert_exporter": "python",
   "pygments_lexer": "ipython3",
   "version": "3.6.5"
  }
 },
 "nbformat": 4,
 "nbformat_minor": 2
}
